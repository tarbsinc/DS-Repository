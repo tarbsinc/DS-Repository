{
 "cells": [
  {
   "cell_type": "code",
   "execution_count": null,
   "metadata": {},
   "outputs": [],
   "source": [
    "def game_core_v3(number):\n",
    "    '''Сначала устанавливаем любое random число, а потом уменьшаем или увеличиваем его\n",
    "        в зависимости от того, больше оно или меньше нужного.\n",
    "        Функция принимает загаданное число и возвращает число попыток'''  \n",
    "    \n",
    "    # Задаем начальные значения счетчика попыток, а также нижнюю и верхнюю границу интервала \n",
    "    count = 0\n",
    "    low=1 \n",
    "    high=100\n",
    "    \n",
    "    # Задаем рандомное число в заданном интервале как первый вариант ответа\n",
    "    predict = np.random.randint(1,101)  \n",
    "    \n",
    "    '''В цикле сопоставляем предполагаемое значение с заданным, в зависимости от результата корректируем в большую\n",
    "    или меньшую сторону,не забывая считать попытки'''\n",
    "    while predict != number:\n",
    "        count+=1        \n",
    "        predict = (low+high)//2 # Делим заданный интервал на 2 для оптимизации анализа\n",
    "        if predict > number:    # Если предполагаемое значение больше заданного-корректируем значение верхней границы поиска \n",
    "            high = predict      \n",
    "        elif predict < number:  # Если предполагаемое значение меньше заданного-корректируем значение нижней границы поиска\n",
    "            low = predict + 1            \n",
    "    return(count) # выход из цикла, если угадали\n",
    "    "
   ]
  }
 ],
 "metadata": {
  "kernelspec": {
   "display_name": "Python 3",
   "language": "python",
   "name": "python3"
  },
  "language_info": {
   "codemirror_mode": {
    "name": "ipython",
    "version": 3
   },
   "file_extension": ".py",
   "mimetype": "text/x-python",
   "name": "python",
   "nbconvert_exporter": "python",
   "pygments_lexer": "ipython3",
   "version": "3.8.3"
  }
 },
 "nbformat": 4,
 "nbformat_minor": 4
}
