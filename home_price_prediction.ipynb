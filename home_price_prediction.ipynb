{
 "cells": [
  {
   "cell_type": "markdown",
   "id": "4a955546",
   "metadata": {
    "papermill": {
     "duration": 0.154192,
     "end_time": "2022-01-13T18:34:10.586903",
     "exception": false,
     "start_time": "2022-01-13T18:34:10.432711",
     "status": "completed"
    },
    "tags": []
   },
   "source": [
    "#The goal of the task is to develop a service that will predict the cost of houses based on the history of offers"
   ]
  },
  {
   "cell_type": "code",
   "execution_count": null,
   "id": "f3a5302f",
   "metadata": {
    "_cell_guid": "b1076dfc-b9ad-4769-8c92-a6c4dae69d19",
    "_uuid": "8f2839f25d086af736a60e9eeb907d3b93b6e0e5",
    "execution": {
     "iopub.execute_input": "2022-01-13T18:35:53.587385Z",
     "iopub.status.busy": "2022-01-13T18:35:53.586585Z",
     "iopub.status.idle": "2022-01-13T18:35:56.251942Z",
     "shell.execute_reply": "2022-01-13T18:35:56.251374Z",
     "shell.execute_reply.started": "2022-01-13T18:20:51.110667Z"
    },
    "papermill": {
     "duration": 2.821309,
     "end_time": "2022-01-13T18:35:56.252171",
     "exception": false,
     "start_time": "2022-01-13T18:35:53.430862",
     "status": "completed"
    },
    "tags": []
   },
   "outputs": [],
   "source": [
    "import numpy as np \n",
    "import pandas as pd \n",
    "\n",
    "import matplotlib\n",
    "import matplotlib.pyplot as plt\n",
    "import seaborn as sns\n",
    "pd.set_option('display.max_columns', 100)\n",
    "import re\n",
    "\n",
    "import os\n",
    "for dirname, _, filenames in os.walk('/kaggle/input/home_prices/data.csv'):\n",
    "    for filename in filenames:\n",
    "        print(os.path.join(dirname, filename))\n",
    "\n",
    "import sys\n",
    "from ast import literal_eval\n",
    "import warnings\n",
    "import xgboost as xgb\n",
    "import lightgbm as lgb\n",
    "from scipy.stats import skew\n",
    "from scipy import stats\n",
    "from scipy.stats.stats import pearsonr\n",
    "from scipy.stats import norm\n",
    "from collections import Counter\n",
    "\n",
    "\n",
    "RANDOM_SEED = 42"
   ]
  },
  {
   "cell_type": "markdown",
   "id": "f72bd64f",
   "metadata": {
    "papermill": {
     "duration": 0.150954,
     "end_time": "2022-01-13T18:35:56.557007",
     "exception": false,
     "start_time": "2022-01-13T18:35:56.406053",
     "status": "completed"
    },
    "tags": []
   },
   "source": [
    "#Dataset preparing"
   ]
  },
  {
   "cell_type": "code",
   "execution_count": null,
   "id": "dbb9d7fb",
   "metadata": {
    "execution": {
     "iopub.execute_input": "2022-01-13T18:35:56.866944Z",
     "iopub.status.busy": "2022-01-13T18:35:56.866265Z",
     "iopub.status.idle": "2022-01-13T18:35:56.870121Z",
     "shell.execute_reply": "2022-01-13T18:35:56.870626Z",
     "shell.execute_reply.started": "2022-01-13T18:20:53.436548Z"
    },
    "papermill": {
     "duration": 0.160765,
     "end_time": "2022-01-13T18:35:56.870831",
     "exception": false,
     "start_time": "2022-01-13T18:35:56.710066",
     "status": "completed"
    },
    "tags": []
   },
   "outputs": [],
   "source": [
    "from sklearn.model_selection import train_test_split\n",
    "from sklearn.preprocessing import MinMaxScaler, RobustScaler, StandardScaler\n",
    "from sklearn.preprocessing import LabelEncoder, OneHotEncoder"
   ]
  },
  {
   "cell_type": "code",
   "execution_count": null,
   "id": "a2f7d153",
   "metadata": {
    "execution": {
     "iopub.execute_input": "2022-01-13T18:35:57.216751Z",
     "iopub.status.busy": "2022-01-13T18:35:57.215884Z",
     "iopub.status.idle": "2022-01-13T18:36:05.940512Z",
     "shell.execute_reply": "2022-01-13T18:36:05.939343Z",
     "shell.execute_reply.started": "2022-01-13T18:20:53.445458Z"
    },
    "papermill": {
     "duration": 8.912125,
     "end_time": "2022-01-13T18:36:05.940863",
     "exception": false,
     "start_time": "2022-01-13T18:35:57.028738",
     "status": "completed"
    },
    "tags": []
   },
   "outputs": [],
   "source": [
    "#ML tools import \n",
    "from sklearn import linear_model\n",
    "from sklearn.linear_model import LinearRegression, SGDRegressor\n",
    "from sklearn.ensemble import RandomForestRegressor, AdaBoostRegressor, ExtraTreesRegressor, GradientBoostingRegressor\n",
    "from sklearn.neighbors import KNeighborsRegressor, RadiusNeighborsRegressor\n",
    "from sklearn.tree import DecisionTreeRegressor\n",
    "from sklearn.model_selection import RandomizedSearchCV\n",
    "\n",
    "import xgboost\n",
    "from xgboost import XGBRegressor\n",
    "from catboost import CatBoostRegressor\n",
    "import optuna\n",
    "%matplotlib inline\n",
    "\n",
    "#import tools for metrics\n",
    "from sklearn.metrics import mean_squared_error, mean_absolute_error\n",
    "from sklearn.metrics import mean_squared_log_error\n",
    "from sklearn.metrics import r2_score\n",
    "\n",
    "import lightgbm as lgm\n",
    "from sklearn.model_selection import RepeatedKFold\n",
    "from sklearn.model_selection import KFold\n",
    "from sklearn.model_selection import cross_val_score\n",
    "\n",
    "#import tools for neural network\n",
    "import keras \n",
    "from keras import models as M\n",
    "from keras import layers as L\n",
    "from keras import backend as K\n",
    "from keras import optimizers\n",
    "from keras import initializers\n",
    "\n",
    "import tensorflow as tf\n",
    "from tensorflow.keras.models import Model, Sequential\n",
    "from tensorflow.keras.callbacks import EarlyStopping, ModelCheckpoint"
   ]
  },
  {
   "cell_type": "code",
   "execution_count": null,
   "id": "0291d18b",
   "metadata": {
    "execution": {
     "iopub.execute_input": "2022-01-13T18:36:06.267141Z",
     "iopub.status.busy": "2022-01-13T18:36:06.265966Z",
     "iopub.status.idle": "2022-01-13T18:36:06.278666Z",
     "shell.execute_reply": "2022-01-13T18:36:06.279230Z",
     "shell.execute_reply.started": "2022-01-13T18:21:00.265161Z"
    },
    "papermill": {
     "duration": 0.179502,
     "end_time": "2022-01-13T18:36:06.279439",
     "exception": false,
     "start_time": "2022-01-13T18:36:06.099937",
     "status": "completed"
    },
    "tags": []
   },
   "outputs": [],
   "source": [
    "#Functions list\n",
    "\n",
    "#info rewiev \n",
    "def info_rewiev(col):\n",
    "    print('Количество пропусков:{}'.format(col.isna().sum()))\n",
    "    print()    \n",
    "    print('Описание:{}'.format(col.describe()))\n",
    "    print()\n",
    "    print('Распределение:{}'.format(col.value_counts(dropna=False)))\n",
    "    print()\n",
    "    print('Значения:{}'.format(col.unique()))\n",
    "    print()\n",
    "    print('Уникальные значения:{}'.format(col.nunique(dropna=False)))\n",
    "    print()\n",
    "    \n",
    "#for visualisation     \n",
    "def visualisation(col):\n",
    "    plt.figure(figsize=(15,6))\n",
    "    col.value_counts().plot(kind='bar', color='blue')\n",
    "    for i,val in enumerate(col.value_counts()):\n",
    "        plt.text(i, val, int(val), horizontalalignment='left', verticalalignment='bottom', fontdict={'size':12})\n",
    "    plt.show()\n",
    "\n",
    "#history info\n",
    "def hist_info(col):\n",
    "    print('Количество пропусков:{}'.format(col.isna().sum()))\n",
    "    print()\n",
    "    print('Описание:{}'.format(col.describe()))\n",
    "    print()\n",
    "    print('Распределение:{}'.format(col.value_counts(dropna=False)))\n",
    "    print()\n",
    "    print('Значения:{}'.format(col.unique()))\n",
    "    print()\n",
    "    print('Уникальные значения:{}'.format(col.nunique(dropna=False)))\n",
    "    print()\n",
    "    plt.figure(figsize=(15,6))\n",
    "    sns.countplot(x=col, data=data)\n",
    "    plt.xticks(rotation = 'vertical')\n",
    "    plt.show()\n",
    "    \n",
    "#metrics output\n",
    "def rmse(y_true, y_pred):\n",
    "    return np.sqrt(((y_true - y_pred) ** 2).mean())    \n",
    "\n",
    "def mape(y_true, y_pred):\n",
    "    y_true, y_pred = np.array(y_true), np.array(y_pred)\n",
    "    return np.mean(np.abs((y_true - y_pred) / y_true)) * 100"
   ]
  },
  {
   "cell_type": "markdown",
   "id": "4de038a0",
   "metadata": {},
   "source": [
    "#Dataset prewiev"
   ]
  },
  {
   "cell_type": "code",
   "execution_count": null,
   "id": "9d9948c7",
   "metadata": {
    "execution": {
     "iopub.execute_input": "2022-01-13T18:36:06.592298Z",
     "iopub.status.busy": "2022-01-13T18:36:06.591252Z",
     "iopub.status.idle": "2022-01-13T18:36:17.364467Z",
     "shell.execute_reply": "2022-01-13T18:36:17.363309Z",
     "shell.execute_reply.started": "2022-01-13T18:21:00.282952Z"
    },
    "papermill": {
     "duration": 10.932275,
     "end_time": "2022-01-13T18:36:17.364654",
     "exception": false,
     "start_time": "2022-01-13T18:36:06.432379",
     "status": "completed"
    },
    "tags": []
   },
   "outputs": [],
   "source": [
    "data = pd.read_csv('/kaggle/input/home_prices/data.csv')\n",
    "data.head()"
   ]
  },
  {
   "cell_type": "code",
   "execution_count": null,
   "id": "096ddcc5",
   "metadata": {
    "execution": {
     "iopub.execute_input": "2022-01-13T18:36:17.686554Z",
     "iopub.status.busy": "2022-01-13T18:36:17.681679Z",
     "iopub.status.idle": "2022-01-13T18:36:17.690018Z",
     "shell.execute_reply": "2022-01-13T18:36:17.690530Z",
     "shell.execute_reply.started": "2022-01-13T18:21:09.266704Z"
    },
    "papermill": {
     "duration": 0.1667,
     "end_time": "2022-01-13T18:36:17.690727",
     "exception": false,
     "start_time": "2022-01-13T18:36:17.524027",
     "status": "completed"
    },
    "tags": []
   },
   "outputs": [],
   "source": [
    "data.columns"
   ]
  },
  {
   "cell_type": "code",
   "execution_count": null,
   "id": "0e477afb",
   "metadata": {
    "execution": {
     "iopub.execute_input": "2022-01-13T18:36:18.014777Z",
     "iopub.status.busy": "2022-01-13T18:36:18.013609Z",
     "iopub.status.idle": "2022-01-13T18:36:18.455331Z",
     "shell.execute_reply": "2022-01-13T18:36:18.456082Z",
     "shell.execute_reply.started": "2022-01-13T18:21:09.276530Z"
    },
    "papermill": {
     "duration": 0.600683,
     "end_time": "2022-01-13T18:36:18.456345",
     "exception": false,
     "start_time": "2022-01-13T18:36:17.855662",
     "status": "completed"
    },
    "tags": []
   },
   "outputs": [],
   "source": [
    "data.info()"
   ]
  },
  {
   "cell_type": "code",
   "execution_count": null,
   "id": "c3db7ebb",
   "metadata": {
    "execution": {
     "iopub.execute_input": "2022-01-13T18:36:18.768442Z",
     "iopub.status.busy": "2022-01-13T18:36:18.767406Z",
     "iopub.status.idle": "2022-01-13T18:36:21.649447Z",
     "shell.execute_reply": "2022-01-13T18:36:21.650001Z",
     "shell.execute_reply.started": "2022-01-13T18:21:09.970523Z"
    },
    "papermill": {
     "duration": 3.039792,
     "end_time": "2022-01-13T18:36:21.650203",
     "exception": false,
     "start_time": "2022-01-13T18:36:18.610411",
     "status": "completed"
    },
    "tags": []
   },
   "outputs": [],
   "source": [
    "data.describe()"
   ]
  },
  {
   "cell_type": "code",
   "execution_count": null,
   "id": "b29c8e43",
   "metadata": {
    "execution": {
     "iopub.execute_input": "2022-01-13T18:36:22.001329Z",
     "iopub.status.busy": "2022-01-13T18:36:22.000279Z",
     "iopub.status.idle": "2022-01-13T18:36:22.408180Z",
     "shell.execute_reply": "2022-01-13T18:36:22.408660Z",
     "shell.execute_reply.started": "2022-01-13T18:21:12.813553Z"
    },
    "papermill": {
     "duration": 0.604975,
     "end_time": "2022-01-13T18:36:22.409001",
     "exception": false,
     "start_time": "2022-01-13T18:36:21.804026",
     "status": "completed"
    },
    "tags": []
   },
   "outputs": [],
   "source": [
    "data.isna().sum()"
   ]
  },
  {
   "cell_type": "code",
   "execution_count": null,
   "id": "a04d40c3",
   "metadata": {
    "execution": {
     "iopub.execute_input": "2022-01-13T18:36:22.727261Z",
     "iopub.status.busy": "2022-01-13T18:36:22.726164Z",
     "iopub.status.idle": "2022-01-13T18:36:22.730351Z",
     "shell.execute_reply": "2022-01-13T18:36:22.730880Z",
     "shell.execute_reply.started": "2022-01-13T18:21:13.481370Z"
    },
    "papermill": {
     "duration": 0.166771,
     "end_time": "2022-01-13T18:36:22.731093",
     "exception": false,
     "start_time": "2022-01-13T18:36:22.564322",
     "status": "completed"
    },
    "tags": []
   },
   "outputs": [],
   "source": [
    "bad_columns = []\n",
    "bad_columns += ['private pool','fireplace','baths','stories','mls-id','PrivatePool']"
   ]
  },
  {
   "cell_type": "code",
   "execution_count": null,
   "id": "27befe7c",
   "metadata": {
    "execution": {
     "iopub.execute_input": "2022-01-13T18:36:23.054700Z",
     "iopub.status.busy": "2022-01-13T18:36:23.053721Z",
     "iopub.status.idle": "2022-01-13T18:36:23.056494Z",
     "shell.execute_reply": "2022-01-13T18:36:23.056011Z",
     "shell.execute_reply.started": "2022-01-13T18:21:13.488695Z"
    },
    "papermill": {
     "duration": 0.167132,
     "end_time": "2022-01-13T18:36:23.056650",
     "exception": false,
     "start_time": "2022-01-13T18:36:22.889518",
     "status": "completed"
    },
    "tags": []
   },
   "outputs": [],
   "source": [
    "data_dict = {}"
   ]
  },
  {
   "cell_type": "markdown",
   "id": "6c2614f0",
   "metadata": {
    "papermill": {
     "duration": 0.153994,
     "end_time": "2022-01-13T18:36:23.364725",
     "exception": false,
     "start_time": "2022-01-13T18:36:23.210731",
     "status": "completed"
    },
    "tags": []
   },
   "source": [
    "#EDA (Status)"
   ]
  },
  {
   "cell_type": "code",
   "execution_count": null,
   "id": "9683350b",
   "metadata": {
    "execution": {
     "iopub.execute_input": "2022-01-13T18:36:23.676936Z",
     "iopub.status.busy": "2022-01-13T18:36:23.676247Z",
     "iopub.status.idle": "2022-01-13T18:36:26.359715Z",
     "shell.execute_reply": "2022-01-13T18:36:26.359097Z",
     "shell.execute_reply.started": "2022-01-13T18:21:13.500543Z"
    },
    "papermill": {
     "duration": 2.841014,
     "end_time": "2022-01-13T18:36:26.359867",
     "exception": false,
     "start_time": "2022-01-13T18:36:23.518853",
     "status": "completed"
    },
    "tags": []
   },
   "outputs": [],
   "source": [
    "data.drop_duplicates(inplace=True)\n",
    "data.drop(data[data.target.isna()].index, inplace=True)\n",
    "data.shape"
   ]
  },
  {
   "cell_type": "code",
   "execution_count": null,
   "id": "c8ff7331",
   "metadata": {
    "execution": {
     "iopub.execute_input": "2022-01-13T18:36:27.378100Z",
     "iopub.status.busy": "2022-01-13T18:36:26.990781Z",
     "iopub.status.idle": "2022-01-13T18:36:27.406483Z",
     "shell.execute_reply": "2022-01-13T18:36:27.407102Z",
     "shell.execute_reply.started": "2022-01-13T18:21:15.977146Z"
    },
    "papermill": {
     "duration": 0.576553,
     "end_time": "2022-01-13T18:36:27.407335",
     "exception": false,
     "start_time": "2022-01-13T18:36:26.830782",
     "status": "completed"
    },
    "tags": []
   },
   "outputs": [],
   "source": [
    "data.info('status')"
   ]
  },
  {
   "cell_type": "code",
   "execution_count": null,
   "id": "86c5f9f3",
   "metadata": {
    "execution": {
     "iopub.execute_input": "2022-01-13T18:36:27.750742Z",
     "iopub.status.busy": "2022-01-13T18:36:27.750036Z",
     "iopub.status.idle": "2022-01-13T18:36:27.881064Z",
     "shell.execute_reply": "2022-01-13T18:36:27.881659Z",
     "shell.execute_reply.started": "2022-01-13T18:21:16.647561Z"
    },
    "papermill": {
     "duration": 0.31359,
     "end_time": "2022-01-13T18:36:27.881873",
     "exception": false,
     "start_time": "2022-01-13T18:36:27.568283",
     "status": "completed"
    },
    "tags": []
   },
   "outputs": [],
   "source": [
    "info_rewiev(data['status'])"
   ]
  },
  {
   "cell_type": "code",
   "execution_count": null,
   "id": "e2338179",
   "metadata": {
    "execution": {
     "iopub.execute_input": "2022-01-13T18:36:28.208947Z",
     "iopub.status.busy": "2022-01-13T18:36:28.207639Z",
     "iopub.status.idle": "2022-01-13T18:36:28.395553Z",
     "shell.execute_reply": "2022-01-13T18:36:28.394853Z",
     "shell.execute_reply.started": "2022-01-13T18:21:16.931688Z"
    },
    "papermill": {
     "duration": 0.352052,
     "end_time": "2022-01-13T18:36:28.395732",
     "exception": false,
     "start_time": "2022-01-13T18:36:28.043680",
     "status": "completed"
    },
    "tags": []
   },
   "outputs": [],
   "source": [
    "data['status'] = data['status'].apply(lambda x: str(x).lower())\n",
    "data['status'].value_counts().head(40)"
   ]
  },
  {
   "cell_type": "code",
   "execution_count": null,
   "id": "75cffd24",
   "metadata": {
    "execution": {
     "iopub.execute_input": "2022-01-13T18:36:28.746411Z",
     "iopub.status.busy": "2022-01-13T18:36:28.739942Z",
     "iopub.status.idle": "2022-01-13T18:36:28.885967Z",
     "shell.execute_reply": "2022-01-13T18:36:28.886502Z",
     "shell.execute_reply.started": "2022-01-13T18:21:17.197046Z"
    },
    "papermill": {
     "duration": 0.334459,
     "end_time": "2022-01-13T18:36:28.886698",
     "exception": false,
     "start_time": "2022-01-13T18:36:28.552239",
     "status": "completed"
    },
    "tags": []
   },
   "outputs": [],
   "source": [
    "#Status modification function\n",
    "def change_status(status):\n",
    "    if status == 'for sale': return 'for sale'\n",
    "    elif 'active' in status: return 'active'\n",
    "    elif 'foreclosure' in status: return 'pre foreclosure'\n",
    "    elif 'construction' in status: return 'new construction'\n",
    "    elif 'pending' in status: return 'pending'\n",
    "    elif status == 'nan': return 'no info'\n",
    "    else: \n",
    "        return status\n",
    "    \n",
    "data['status_rating'] = data['status'].apply(lambda x: changed_status(x))\n",
    "data['status_rating'].value_counts().head(10)\n"
   ]
  },
  {
   "cell_type": "code",
   "execution_count": null,
   "id": "48e5b874",
   "metadata": {
    "execution": {
     "iopub.execute_input": "2022-01-13T18:36:29.236391Z",
     "iopub.status.busy": "2022-01-13T18:36:29.235356Z",
     "iopub.status.idle": "2022-01-13T18:36:29.262006Z",
     "shell.execute_reply": "2022-01-13T18:36:29.262633Z",
     "shell.execute_reply.started": "2022-01-13T18:21:17.414251Z"
    },
    "papermill": {
     "duration": 0.196573,
     "end_time": "2022-01-13T18:36:29.262836",
     "exception": false,
     "start_time": "2022-01-13T18:36:29.066263",
     "status": "completed"
    },
    "tags": []
   },
   "outputs": [],
   "source": [
    "statuses = list(data['status_rating'].value_counts()[:7].keys())\n",
    "statuses"
   ]
  },
  {
   "cell_type": "code",
   "execution_count": null,
   "id": "dd107bac",
   "metadata": {
    "execution": {
     "iopub.execute_input": "2022-01-13T18:36:29.589258Z",
     "iopub.status.busy": "2022-01-13T18:36:29.588055Z",
     "iopub.status.idle": "2022-01-13T18:36:29.694470Z",
     "shell.execute_reply": "2022-01-13T18:36:29.695504Z",
     "shell.execute_reply.started": "2022-01-13T18:21:17.468521Z"
    },
    "papermill": {
     "duration": 0.268667,
     "end_time": "2022-01-13T18:36:29.695811",
     "exception": false,
     "start_time": "2022-01-13T18:36:29.427144",
     "status": "completed"
    },
    "tags": []
   },
   "outputs": [],
   "source": [
    "def mod_status(status):\n",
    "    if status in statuses:\n",
    "        return status\n",
    "    else: \n",
    "        return 'Other'\n",
    "    \n",
    "data['status_rating'] = data['status_rating'].apply(lambda x: mod_status(x))   "
   ]
  },
  {
   "cell_type": "code",
   "execution_count": null,
   "id": "2bc837da",
   "metadata": {
    "execution": {
     "iopub.execute_input": "2022-01-13T18:36:30.145228Z",
     "iopub.status.busy": "2022-01-13T18:36:30.144163Z",
     "iopub.status.idle": "2022-01-13T18:36:31.013950Z",
     "shell.execute_reply": "2022-01-13T18:36:31.013314Z",
     "shell.execute_reply.started": "2022-01-13T18:21:17.639163Z"
    },
    "papermill": {
     "duration": 1.15859,
     "end_time": "2022-01-13T18:36:31.014137",
     "exception": false,
     "start_time": "2022-01-13T18:36:29.855547",
     "status": "completed"
    },
    "tags": []
   },
   "outputs": [],
   "source": [
    "info_rewiev(data['status_rating'])"
   ]
  },
  {
   "cell_type": "code",
   "execution_count": null,
   "id": "b07ce6d0",
   "metadata": {
    "execution": {
     "iopub.execute_input": "2022-01-13T18:36:31.350542Z",
     "iopub.status.busy": "2022-01-13T18:36:31.349719Z",
     "iopub.status.idle": "2022-01-13T18:36:31.656844Z",
     "shell.execute_reply": "2022-01-13T18:36:31.656256Z",
     "shell.execute_reply.started": "2022-01-13T18:21:18.890086Z"
    },
    "papermill": {
     "duration": 0.478972,
     "end_time": "2022-01-13T18:36:31.657025",
     "exception": false,
     "start_time": "2022-01-13T18:36:31.178053",
     "status": "completed"
    },
    "tags": []
   },
   "outputs": [],
   "source": [
    "visualisation(data['status_rating'])\n"
   ]
  },
  {
   "cell_type": "code",
   "execution_count": null,
   "id": "21e7bc07",
   "metadata": {
    "execution": {
     "iopub.execute_input": "2022-01-13T18:36:31.991142Z",
     "iopub.status.busy": "2022-01-13T18:36:31.990374Z",
     "iopub.status.idle": "2022-01-13T18:36:31.997789Z",
     "shell.execute_reply": "2022-01-13T18:36:31.998640Z",
     "shell.execute_reply.started": "2022-01-13T18:21:19.238162Z"
    },
    "papermill": {
     "duration": 0.174726,
     "end_time": "2022-01-13T18:36:31.999009",
     "exception": false,
     "start_time": "2022-01-13T18:36:31.824283",
     "status": "completed"
    },
    "tags": []
   },
   "outputs": [],
   "source": [
    "data_dict['status'] = 'Обработали'\n",
    "data_dict['status_rating'] = 'Переводим в категории'"
   ]
  },
  {
   "cell_type": "markdown",
   "id": "eae774da",
   "metadata": {
    "papermill": {
     "duration": 0.175864,
     "end_time": "2022-01-13T18:36:32.353775",
     "exception": false,
     "start_time": "2022-01-13T18:36:32.177911",
     "status": "completed"
    },
    "tags": []
   },
   "source": [
    "#EDA Private pool."
   ]
  },
  {
   "cell_type": "code",
   "execution_count": null,
   "id": "e08f6fbe",
   "metadata": {
    "execution": {
     "iopub.execute_input": "2022-01-13T18:36:32.711966Z",
     "iopub.status.busy": "2022-01-13T18:36:32.695434Z",
     "iopub.status.idle": "2022-01-13T18:36:32.785966Z",
     "shell.execute_reply": "2022-01-13T18:36:32.786664Z",
     "shell.execute_reply.started": "2022-01-13T18:21:19.244839Z"
    },
    "papermill": {
     "duration": 0.265683,
     "end_time": "2022-01-13T18:36:32.786946",
     "exception": false,
     "start_time": "2022-01-13T18:36:32.521263",
     "status": "completed"
    },
    "tags": []
   },
   "outputs": [],
   "source": [
    "show_feature_info(data['private pool'])"
   ]
  },
  {
   "cell_type": "code",
   "execution_count": null,
   "id": "b7aefdbf",
   "metadata": {
    "execution": {
     "iopub.execute_input": "2022-01-13T18:36:33.158277Z",
     "iopub.status.busy": "2022-01-13T18:36:33.156192Z",
     "iopub.status.idle": "2022-01-13T18:36:33.160272Z",
     "shell.execute_reply": "2022-01-13T18:36:33.160707Z",
     "shell.execute_reply.started": "2022-01-13T18:21:19.392628Z"
    },
    "papermill": {
     "duration": 0.171565,
     "end_time": "2022-01-13T18:36:33.160905",
     "exception": false,
     "start_time": "2022-01-13T18:36:32.989340",
     "status": "completed"
    },
    "tags": []
   },
   "outputs": [],
   "source": [
    "#too many passes\n",
    "data_dict['private pool'] = 'удалено'"
   ]
  },
  {
   "cell_type": "markdown",
   "id": "3c99fef6",
   "metadata": {
    "papermill": {
     "duration": 0.161882,
     "end_time": "2022-01-13T18:36:33.488453",
     "exception": false,
     "start_time": "2022-01-13T18:36:33.326571",
     "status": "completed"
    },
    "tags": []
   },
   "source": [
    "#EDA propertyType"
   ]
  },
  {
   "cell_type": "code",
   "execution_count": null,
   "id": "cbdee35d",
   "metadata": {
    "execution": {
     "iopub.execute_input": "2022-01-13T18:36:33.820497Z",
     "iopub.status.busy": "2022-01-13T18:36:33.819800Z",
     "iopub.status.idle": "2022-01-13T18:36:33.973216Z",
     "shell.execute_reply": "2022-01-13T18:36:33.972509Z",
     "shell.execute_reply.started": "2022-01-13T18:21:19.400275Z"
    },
    "papermill": {
     "duration": 0.320423,
     "end_time": "2022-01-13T18:36:33.973432",
     "exception": false,
     "start_time": "2022-01-13T18:36:33.653009",
     "status": "completed"
    },
    "tags": []
   },
   "outputs": [],
   "source": [
    "show_feature_info(data['propertyType'])"
   ]
  },
  {
   "cell_type": "code",
   "execution_count": null,
   "id": "d15e1b0a",
   "metadata": {
    "execution": {
     "iopub.execute_input": "2022-01-13T18:36:34.340912Z",
     "iopub.status.busy": "2022-01-13T18:36:34.338161Z",
     "iopub.status.idle": "2022-01-13T18:36:34.345377Z",
     "shell.execute_reply": "2022-01-13T18:36:34.344895Z",
     "shell.execute_reply.started": "2022-01-13T18:21:19.705750Z"
    },
    "papermill": {
     "duration": 0.203327,
     "end_time": "2022-01-13T18:36:34.345546",
     "exception": false,
     "start_time": "2022-01-13T18:36:34.142219",
     "status": "completed"
    },
    "tags": []
   },
   "outputs": [],
   "source": [
    "data['propertyType'].value_counts(dropna=False).head(50)"
   ]
  },
  {
   "cell_type": "code",
   "execution_count": null,
   "id": "b69ab37f",
   "metadata": {
    "execution": {
     "iopub.execute_input": "2022-01-13T18:36:34.676717Z",
     "iopub.status.busy": "2022-01-13T18:36:34.675880Z",
     "iopub.status.idle": "2022-01-13T18:36:34.967960Z",
     "shell.execute_reply": "2022-01-13T18:36:34.967315Z",
     "shell.execute_reply.started": "2022-01-13T18:21:19.772825Z"
    },
    "papermill": {
     "duration": 0.461313,
     "end_time": "2022-01-13T18:36:34.968167",
     "exception": false,
     "start_time": "2022-01-13T18:36:34.506854",
     "status": "completed"
    },
    "tags": []
   },
   "outputs": [],
   "source": [
    "#make big letters small\n",
    "\n",
    "data['propertyType'] = data['propertyType'].apply(lambda x: str(x).lower())\n",
    "\n",
    "def change_property(prop):\n",
    "    if prop == 'condo': return 'condo'\n",
    "    elif prop == 'land': return 'land'\n",
    "    elif 'family' in prop: return 'family'\n",
    "    elif prop == 'nan': return 'no info'\n",
    "    else: return 'Other'\n",
    "    \n",
    "data['property_rating'] = data['propertyType'].apply(lambda x: change_property(x))\n",
    "data.head()"
   ]
  },
  {
   "cell_type": "code",
   "execution_count": null,
   "id": "dd174166",
   "metadata": {
    "execution": {
     "iopub.execute_input": "2022-01-13T18:36:35.321056Z",
     "iopub.status.busy": "2022-01-13T18:36:35.320280Z",
     "iopub.status.idle": "2022-01-13T18:36:36.037261Z",
     "shell.execute_reply": "2022-01-13T18:36:36.037777Z",
     "shell.execute_reply.started": "2022-01-13T18:21:20.176828Z"
    },
    "papermill": {
     "duration": 0.902281,
     "end_time": "2022-01-13T18:36:36.037992",
     "exception": false,
     "start_time": "2022-01-13T18:36:35.135711",
     "status": "completed"
    },
    "tags": []
   },
   "outputs": [],
   "source": [
    "hist_info(data['property_rating'])"
   ]
  },
  {
   "cell_type": "code",
   "execution_count": null,
   "id": "c2c54b47",
   "metadata": {
    "execution": {
     "iopub.execute_input": "2022-01-13T18:36:36.379302Z",
     "iopub.status.busy": "2022-01-13T18:36:36.378546Z",
     "iopub.status.idle": "2022-01-13T18:36:36.648822Z",
     "shell.execute_reply": "2022-01-13T18:36:36.647660Z",
     "shell.execute_reply.started": "2022-01-13T18:21:21.395151Z"
    },
    "papermill": {
     "duration": 0.440998,
     "end_time": "2022-01-13T18:36:36.649049",
     "exception": false,
     "start_time": "2022-01-13T18:36:36.208051",
     "status": "completed"
    },
    "tags": []
   },
   "outputs": [],
   "source": [
    "visualisation(data['property_rating'])"
   ]
  },
  {
   "cell_type": "code",
   "execution_count": null,
   "id": "d2ce4ab5",
   "metadata": {
    "execution": {
     "iopub.execute_input": "2022-01-13T18:36:36.987526Z",
     "iopub.status.busy": "2022-01-13T18:36:36.986636Z",
     "iopub.status.idle": "2022-01-13T18:36:36.989411Z",
     "shell.execute_reply": "2022-01-13T18:36:36.989844Z",
     "shell.execute_reply.started": "2022-01-13T18:21:21.700465Z"
    },
    "papermill": {
     "duration": 0.175168,
     "end_time": "2022-01-13T18:36:36.990101",
     "exception": false,
     "start_time": "2022-01-13T18:36:36.814933",
     "status": "completed"
    },
    "tags": []
   },
   "outputs": [],
   "source": [
    "data_dict['propertyType'] = 'Обработано'\n",
    "data_dict['property_rating'] = 'Переводим в категории'"
   ]
  },
  {
   "cell_type": "code",
   "execution_count": null,
   "id": "c3670aa6",
   "metadata": {
    "execution": {
     "iopub.execute_input": "2022-01-13T18:36:37.378707Z",
     "iopub.status.busy": "2022-01-13T18:36:37.341735Z",
     "iopub.status.idle": "2022-01-13T18:36:37.927473Z",
     "shell.execute_reply": "2022-01-13T18:36:37.926644Z",
     "shell.execute_reply.started": "2022-01-13T18:21:21.706527Z"
    },
    "papermill": {
     "duration": 0.766856,
     "end_time": "2022-01-13T18:36:37.927668",
     "exception": false,
     "start_time": "2022-01-13T18:36:37.160812",
     "status": "completed"
    },
    "tags": []
   },
   "outputs": [],
   "source": [
    "#Create new column for counting words in original column\n",
    "data['number_prop_descr'] = data['propertyType'].apply(lambda x: str(\n",
    "    x).replace('/', ',').replace(', ', ',').replace('-', ',').replace(' ',','))\n",
    "data['number_prop_descr'] = data['number_prop_descr'].apply(lambda x: len(str(x).split(',')))"
   ]
  },
  {
   "cell_type": "code",
   "execution_count": null,
   "id": "65bd0209",
   "metadata": {
    "execution": {
     "iopub.execute_input": "2022-01-13T18:36:38.270043Z",
     "iopub.status.busy": "2022-01-13T18:36:38.268952Z",
     "iopub.status.idle": "2022-01-13T18:36:38.279921Z",
     "shell.execute_reply": "2022-01-13T18:36:38.280745Z",
     "shell.execute_reply.started": "2022-01-13T18:21:22.438364Z"
    },
    "papermill": {
     "duration": 0.186842,
     "end_time": "2022-01-13T18:36:38.281020",
     "exception": false,
     "start_time": "2022-01-13T18:36:38.094178",
     "status": "completed"
    },
    "tags": []
   },
   "outputs": [],
   "source": [
    "data['number_prop_descr'].value_counts()"
   ]
  },
  {
   "cell_type": "code",
   "execution_count": null,
   "id": "6afd4e07",
   "metadata": {
    "execution": {
     "iopub.execute_input": "2022-01-13T18:36:38.617919Z",
     "iopub.status.busy": "2022-01-13T18:36:38.617116Z",
     "iopub.status.idle": "2022-01-13T18:36:38.703494Z",
     "shell.execute_reply": "2022-01-13T18:36:38.704072Z",
     "shell.execute_reply.started": "2022-01-13T18:21:22.450806Z"
    },
    "papermill": {
     "duration": 0.259586,
     "end_time": "2022-01-13T18:36:38.704278",
     "exception": false,
     "start_time": "2022-01-13T18:36:38.444692",
     "status": "completed"
    },
    "tags": []
   },
   "outputs": [],
   "source": [
    "#function that returns the category to which we assign the value of the string\n",
    "def number_prop_to_cat(prop):\n",
    "    if prop == 3: return '3'\n",
    "    elif prop == 2: return '2'\n",
    "    elif prop == 1: return '1'\n",
    "    else: return '4 or more'\n",
    "    \n",
    "data['number_prop_descr'] = data['number_prop_descr'].apply(lambda x: number_prop_to_cat(x))"
   ]
  },
  {
   "cell_type": "code",
   "execution_count": null,
   "id": "c1502795",
   "metadata": {
    "execution": {
     "iopub.execute_input": "2022-01-13T18:36:39.067029Z",
     "iopub.status.busy": "2022-01-13T18:36:39.065846Z",
     "iopub.status.idle": "2022-01-13T18:36:39.807457Z",
     "shell.execute_reply": "2022-01-13T18:36:39.806728Z",
     "shell.execute_reply.started": "2022-01-13T18:21:22.608838Z"
    },
    "papermill": {
     "duration": 0.929131,
     "end_time": "2022-01-13T18:36:39.807636",
     "exception": false,
     "start_time": "2022-01-13T18:36:38.878505",
     "status": "completed"
    },
    "tags": []
   },
   "outputs": [],
   "source": [
    "hist_info(data['number_prop_descr'])"
   ]
  },
  {
   "cell_type": "code",
   "execution_count": null,
   "id": "e953b6b6",
   "metadata": {
    "execution": {
     "iopub.execute_input": "2022-01-13T18:36:40.194147Z",
     "iopub.status.busy": "2022-01-13T18:36:40.151549Z",
     "iopub.status.idle": "2022-01-13T18:36:40.395337Z",
     "shell.execute_reply": "2022-01-13T18:36:40.394659Z",
     "shell.execute_reply.started": "2022-01-13T18:21:23.732237Z"
    },
    "papermill": {
     "duration": 0.416352,
     "end_time": "2022-01-13T18:36:40.395511",
     "exception": false,
     "start_time": "2022-01-13T18:36:39.979159",
     "status": "completed"
    },
    "tags": []
   },
   "outputs": [],
   "source": [
    "visualisation(data['number_prop_descr'])"
   ]
  },
  {
   "cell_type": "code",
   "execution_count": null,
   "id": "426c6191",
   "metadata": {
    "execution": {
     "iopub.execute_input": "2022-01-13T18:36:40.734742Z",
     "iopub.status.busy": "2022-01-13T18:36:40.733671Z",
     "iopub.status.idle": "2022-01-13T18:36:40.737719Z",
     "shell.execute_reply": "2022-01-13T18:36:40.738217Z",
     "shell.execute_reply.started": "2022-01-13T18:21:24.023769Z"
    },
    "papermill": {
     "duration": 0.174616,
     "end_time": "2022-01-13T18:36:40.738416",
     "exception": false,
     "start_time": "2022-01-13T18:36:40.563800",
     "status": "completed"
    },
    "tags": []
   },
   "outputs": [],
   "source": [
    "data_dict['number_prop_descr'] = 'Обработали'"
   ]
  },
  {
   "cell_type": "markdown",
   "id": "227f9992",
   "metadata": {
    "papermill": {
     "duration": 0.168606,
     "end_time": "2022-01-13T18:36:41.075678",
     "exception": false,
     "start_time": "2022-01-13T18:36:40.907072",
     "status": "completed"
    },
    "tags": []
   },
   "source": [
    "#EDA street"
   ]
  },
  {
   "cell_type": "code",
   "execution_count": null,
   "id": "186b010a",
   "metadata": {
    "execution": {
     "iopub.execute_input": "2022-01-13T18:36:41.416215Z",
     "iopub.status.busy": "2022-01-13T18:36:41.415068Z",
     "iopub.status.idle": "2022-01-13T18:36:42.633407Z",
     "shell.execute_reply": "2022-01-13T18:36:42.633914Z",
     "shell.execute_reply.started": "2022-01-13T18:21:24.030472Z"
    },
    "papermill": {
     "duration": 1.392341,
     "end_time": "2022-01-13T18:36:42.634155",
     "exception": false,
     "start_time": "2022-01-13T18:36:41.241814",
     "status": "completed"
    },
    "tags": []
   },
   "outputs": [],
   "source": [
    "show_feature_info(data['street'])"
   ]
  },
  {
   "cell_type": "code",
   "execution_count": null,
   "id": "990385a0",
   "metadata": {
    "execution": {
     "iopub.execute_input": "2022-01-13T18:36:43.355702Z",
     "iopub.status.busy": "2022-01-13T18:36:43.353866Z",
     "iopub.status.idle": "2022-01-13T18:36:43.396212Z",
     "shell.execute_reply": "2022-01-13T18:36:43.396644Z",
     "shell.execute_reply.started": "2022-01-13T18:21:24.986462Z"
    },
    "papermill": {
     "duration": 0.593338,
     "end_time": "2022-01-13T18:36:43.396850",
     "exception": false,
     "start_time": "2022-01-13T18:36:42.803512",
     "status": "completed"
    },
    "tags": []
   },
   "outputs": [],
   "source": [
    "data['street'].value_counts().head(30)"
   ]
  },
  {
   "cell_type": "code",
   "execution_count": null,
   "id": "6c8caaf0",
   "metadata": {
    "execution": {
     "iopub.execute_input": "2022-01-13T18:36:44.136541Z",
     "iopub.status.busy": "2022-01-13T18:36:44.135767Z",
     "iopub.status.idle": "2022-01-13T18:36:44.249041Z",
     "shell.execute_reply": "2022-01-13T18:36:44.248469Z",
     "shell.execute_reply.started": "2022-01-13T18:21:25.286690Z"
    },
    "papermill": {
     "duration": 0.684492,
     "end_time": "2022-01-13T18:36:44.249237",
     "exception": false,
     "start_time": "2022-01-13T18:36:43.564745",
     "status": "completed"
    },
    "tags": []
   },
   "outputs": [],
   "source": [
    "data['street'].fillna(data['street'].value_counts().head(1), inplace=True)"
   ]
  },
  {
   "cell_type": "code",
   "execution_count": null,
   "id": "e9315108",
   "metadata": {
    "execution": {
     "iopub.execute_input": "2022-01-13T18:36:44.591912Z",
     "iopub.status.busy": "2022-01-13T18:36:44.591196Z",
     "iopub.status.idle": "2022-01-13T18:36:44.778044Z",
     "shell.execute_reply": "2022-01-13T18:36:44.777304Z",
     "shell.execute_reply.started": "2022-01-13T18:21:25.709876Z"
    },
    "papermill": {
     "duration": 0.361204,
     "end_time": "2022-01-13T18:36:44.778209",
     "exception": false,
     "start_time": "2022-01-13T18:36:44.417005",
     "status": "completed"
    },
    "tags": []
   },
   "outputs": [],
   "source": [
    "data['street'] = data['street'].apply(lambda x: str(x).lower())"
   ]
  },
  {
   "cell_type": "code",
   "execution_count": null,
   "id": "ab74a798",
   "metadata": {
    "execution": {
     "iopub.execute_input": "2022-01-13T18:36:45.126091Z",
     "iopub.status.busy": "2022-01-13T18:36:45.125382Z",
     "iopub.status.idle": "2022-01-13T18:36:45.260716Z",
     "shell.execute_reply": "2022-01-13T18:36:45.261263Z",
     "shell.execute_reply.started": "2022-01-13T18:21:25.915081Z"
    },
    "papermill": {
     "duration": 0.313237,
     "end_time": "2022-01-13T18:36:45.261498",
     "exception": false,
     "start_time": "2022-01-13T18:36:44.948261",
     "status": "completed"
    },
    "tags": []
   },
   "outputs": [],
   "source": [
    "def av_or_not(st):\n",
    "    if st == 'address not disclosed' or st == 'undisclosed address' or st=='(undisclosed address)' \\\n",
    "    or st=='address not available' or st=='unknown address': return 'Unavailable ADD'\n",
    "    else: return st\n",
    "data['street'] = data['street'].apply(lambda x: av_or_not(x))"
   ]
  },
  {
   "cell_type": "code",
   "execution_count": null,
   "id": "105354a8",
   "metadata": {
    "execution": {
     "iopub.execute_input": "2022-01-13T18:36:45.600561Z",
     "iopub.status.busy": "2022-01-13T18:36:45.599844Z",
     "iopub.status.idle": "2022-01-13T18:36:46.656255Z",
     "shell.execute_reply": "2022-01-13T18:36:46.656846Z",
     "shell.execute_reply.started": "2022-01-13T18:21:26.112643Z"
    },
    "papermill": {
     "duration": 1.228664,
     "end_time": "2022-01-13T18:36:46.657075",
     "exception": false,
     "start_time": "2022-01-13T18:36:45.428411",
     "status": "completed"
    },
    "tags": []
   },
   "outputs": [],
   "source": [
    "data['street_t'] = data['street'].apply(lambda x: str(x).split(' ')[-1:])"
   ]
  },
  {
   "cell_type": "code",
   "execution_count": null,
   "id": "b50ea658",
   "metadata": {
    "execution": {
     "iopub.execute_input": "2022-01-13T18:36:47.013304Z",
     "iopub.status.busy": "2022-01-13T18:36:47.012444Z",
     "iopub.status.idle": "2022-01-13T18:36:47.396220Z",
     "shell.execute_reply": "2022-01-13T18:36:47.396790Z",
     "shell.execute_reply.started": "2022-01-13T18:21:26.959552Z"
    },
    "papermill": {
     "duration": 0.563183,
     "end_time": "2022-01-13T18:36:47.397039",
     "exception": false,
     "start_time": "2022-01-13T18:36:46.833856",
     "status": "completed"
    },
    "tags": []
   },
   "outputs": [],
   "source": [
    "data['street_t'] = data['street_t'].apply(lambda x: str(x).replace('[','').replace(']',''))"
   ]
  },
  {
   "cell_type": "code",
   "execution_count": null,
   "id": "5304c9b2",
   "metadata": {
    "execution": {
     "iopub.execute_input": "2022-01-13T18:36:47.751008Z",
     "iopub.status.busy": "2022-01-13T18:36:47.750282Z",
     "iopub.status.idle": "2022-01-13T18:36:47.818774Z",
     "shell.execute_reply": "2022-01-13T18:36:47.819402Z",
     "shell.execute_reply.started": "2022-01-13T18:21:27.369074Z"
    },
    "papermill": {
     "duration": 0.243935,
     "end_time": "2022-01-13T18:36:47.819621",
     "exception": false,
     "start_time": "2022-01-13T18:36:47.575686",
     "status": "completed"
    },
    "tags": []
   },
   "outputs": [],
   "source": [
    "data['street_t'].value_counts().head(30)"
   ]
  },
  {
   "cell_type": "code",
   "execution_count": null,
   "id": "3bd564d2",
   "metadata": {
    "execution": {
     "iopub.execute_input": "2022-01-13T18:36:48.179321Z",
     "iopub.status.busy": "2022-01-13T18:36:48.178436Z",
     "iopub.status.idle": "2022-01-13T18:36:48.408900Z",
     "shell.execute_reply": "2022-01-13T18:36:48.409511Z",
     "shell.execute_reply.started": "2022-01-13T18:21:27.461232Z"
    },
    "papermill": {
     "duration": 0.417952,
     "end_time": "2022-01-13T18:36:48.409730",
     "exception": false,
     "start_time": "2022-01-13T18:36:47.991778",
     "status": "completed"
    },
    "tags": []
   },
   "outputs": [],
   "source": [
    "\n",
    "def street_type(s):\n",
    "    if s == \"'st'\" or s == \"'street'\":\n",
    "        return 'street'\n",
    "    elif s == \"'ave'\" or s == \"'avenue'\":\n",
    "        return 'avenue'\n",
    "    elif s == \"'rd'\" or s == \"'road'\":\n",
    "        return 'road'\n",
    "    elif s == \"'lane'\" or s == \"'ln'\":\n",
    "        return 'lane'\n",
    "    elif s == \"'dr'\" or s == \"'drive'\":\n",
    "        return 'drive'\n",
    "    elif s == \"'blvd'\" or s == \"'boulevard'\":\n",
    "        return 'boulevard'\n",
    "    elif s == \"'trail'\" or s == \"'trl'\" or s == \"'tr'\":\n",
    "        return 'trail'\n",
    "    elif s == \"'way'\" or s == \"'hwy'\":\n",
    "        return 'way'\n",
    "    elif  s == \"'cir'\" or s == \"'circle'\":\n",
    "        return 'circle'\n",
    "    elif  s == \"'ct'\" or s == \"'court'\":\n",
    "        return 'court'\n",
    "    elif s == \"'pl'\" or s == \"'place'\":\n",
    "        return 'place'\n",
    "    elif s == \"'[]'\":\n",
    "        return 'unknown'\n",
    "    elif s == \"'add'\":\n",
    "        return 'anavail'\n",
    "    else:\n",
    "        return 'other'\n",
    "\n",
    "data['street_type'] = data['street_t'].apply(lambda x: street_type(x))\n",
    "data.head()"
   ]
  },
  {
   "cell_type": "code",
   "execution_count": null,
   "id": "366e6fd1",
   "metadata": {
    "execution": {
     "iopub.execute_input": "2022-01-13T18:36:48.771211Z",
     "iopub.status.busy": "2022-01-13T18:36:48.770397Z",
     "iopub.status.idle": "2022-01-13T18:36:49.617263Z",
     "shell.execute_reply": "2022-01-13T18:36:49.617899Z",
     "shell.execute_reply.started": "2022-01-13T18:21:27.834954Z"
    },
    "papermill": {
     "duration": 1.04,
     "end_time": "2022-01-13T18:36:49.618151",
     "exception": false,
     "start_time": "2022-01-13T18:36:48.578151",
     "status": "completed"
    },
    "tags": []
   },
   "outputs": [],
   "source": [
    "hist_info(data['street_type'])"
   ]
  },
  {
   "cell_type": "code",
   "execution_count": null,
   "id": "62e754f0",
   "metadata": {
    "execution": {
     "iopub.execute_input": "2022-01-13T18:36:49.971523Z",
     "iopub.status.busy": "2022-01-13T18:36:49.970783Z",
     "iopub.status.idle": "2022-01-13T18:36:50.277056Z",
     "shell.execute_reply": "2022-01-13T18:36:50.277589Z",
     "shell.execute_reply.started": "2022-01-13T18:21:29.130138Z"
    },
    "papermill": {
     "duration": 0.486749,
     "end_time": "2022-01-13T18:36:50.277787",
     "exception": false,
     "start_time": "2022-01-13T18:36:49.791038",
     "status": "completed"
    },
    "tags": []
   },
   "outputs": [],
   "source": [
    "visualisation(data['street_type'])"
   ]
  },
  {
   "cell_type": "code",
   "execution_count": null,
   "id": "36698a4d",
   "metadata": {
    "execution": {
     "iopub.execute_input": "2022-01-13T18:36:50.629018Z",
     "iopub.status.busy": "2022-01-13T18:36:50.627791Z",
     "iopub.status.idle": "2022-01-13T18:36:50.632859Z",
     "shell.execute_reply": "2022-01-13T18:36:50.633520Z",
     "shell.execute_reply.started": "2022-01-13T18:21:29.485433Z"
    },
    "papermill": {
     "duration": 0.182807,
     "end_time": "2022-01-13T18:36:50.633755",
     "exception": false,
     "start_time": "2022-01-13T18:36:50.450948",
     "status": "completed"
    },
    "tags": []
   },
   "outputs": [],
   "source": [
    "data_dict['street'] = ' Обработано' \n",
    "data_dict['street_type'] = 'Переводим в категории ' "
   ]
  },
  {
   "cell_type": "markdown",
   "id": "4b0bbe93",
   "metadata": {
    "papermill": {
     "duration": 0.171429,
     "end_time": "2022-01-13T18:36:50.980030",
     "exception": false,
     "start_time": "2022-01-13T18:36:50.808601",
     "status": "completed"
    },
    "tags": []
   },
   "source": [
    "#EDA baths"
   ]
  },
  {
   "cell_type": "code",
   "execution_count": null,
   "id": "1d7584b8",
   "metadata": {
    "execution": {
     "iopub.execute_input": "2022-01-13T18:36:51.331140Z",
     "iopub.status.busy": "2022-01-13T18:36:51.330064Z",
     "iopub.status.idle": "2022-01-13T18:36:51.468576Z",
     "shell.execute_reply": "2022-01-13T18:36:51.469124Z",
     "shell.execute_reply.started": "2022-01-13T18:21:29.494280Z"
    },
    "papermill": {
     "duration": 0.315863,
     "end_time": "2022-01-13T18:36:51.469331",
     "exception": false,
     "start_time": "2022-01-13T18:36:51.153468",
     "status": "completed"
    },
    "tags": []
   },
   "outputs": [],
   "source": [
    "show_feature_info(data['baths'])"
   ]
  },
  {
   "cell_type": "code",
   "execution_count": null,
   "id": "e9f810db",
   "metadata": {
    "execution": {
     "iopub.execute_input": "2022-01-13T18:36:51.821223Z",
     "iopub.status.busy": "2022-01-13T18:36:51.820530Z",
     "iopub.status.idle": "2022-01-13T18:36:52.241452Z",
     "shell.execute_reply": "2022-01-13T18:36:52.240833Z",
     "shell.execute_reply.started": "2022-01-13T18:21:29.751348Z"
    },
    "papermill": {
     "duration": 0.59488,
     "end_time": "2022-01-13T18:36:52.241647",
     "exception": false,
     "start_time": "2022-01-13T18:36:51.646767",
     "status": "completed"
    },
    "tags": []
   },
   "outputs": [],
   "source": [
    "data['baths'] = data['baths'].apply(lambda x: str(x).lower())\n",
    "data['baths'] = data['baths'].apply(lambda x: str(x).replace('baths','').replace('bathrooms','').replace('ba',''))"
   ]
  },
  {
   "cell_type": "code",
   "execution_count": null,
   "id": "f50946b5",
   "metadata": {
    "execution": {
     "iopub.execute_input": "2022-01-13T18:36:52.589287Z",
     "iopub.status.busy": "2022-01-13T18:36:52.588585Z",
     "iopub.status.idle": "2022-01-13T18:36:52.776224Z",
     "shell.execute_reply": "2022-01-13T18:36:52.776797Z",
     "shell.execute_reply.started": "2022-01-13T18:21:30.232075Z"
    },
    "papermill": {
     "duration": 0.365669,
     "end_time": "2022-01-13T18:36:52.777047",
     "exception": false,
     "start_time": "2022-01-13T18:36:52.411378",
     "status": "completed"
    },
    "tags": []
   },
   "outputs": [],
   "source": [
    "show_feature_info(data['baths'])"
   ]
  },
  {
   "cell_type": "code",
   "execution_count": null,
   "id": "380b8ce4",
   "metadata": {
    "execution": {
     "iopub.execute_input": "2022-01-13T18:36:53.127263Z",
     "iopub.status.busy": "2022-01-13T18:36:53.126529Z",
     "iopub.status.idle": "2022-01-13T18:36:54.141486Z",
     "shell.execute_reply": "2022-01-13T18:36:54.140883Z",
     "shell.execute_reply.started": "2022-01-13T18:21:30.539243Z"
    },
    "papermill": {
     "duration": 1.192002,
     "end_time": "2022-01-13T18:36:54.141679",
     "exception": false,
     "start_time": "2022-01-13T18:36:52.949677",
     "status": "completed"
    },
    "tags": []
   },
   "outputs": [],
   "source": [
    "#rows format correction\n",
    "data['baths'] = data['baths'].apply(lambda x: x.replace(',','.'))\n",
    "data['baths'] = data['baths'].apply(lambda x: str(x).replace(\n",
    "    '+', '').replace('~', '2').replace('-- ', '2').replace(': ', '').replace(' ', ''))\n",
    "data['baths'] = data['baths'].apply(lambda x: str(x).replace('semimod','2').replace('sq.ft','2').replace('—','2'))\n",
    "data['baths'] = data['baths'].apply(lambda x: str(x).replace(\n",
    "    '2-1/2-1/1-1/1-1','4').replace('1/1-0/1-0/1-0','4').replace('0/0','0').replace(\n",
    "    '1-0/1-0/1','3').replace('3-1/2-2','3').replace('116/116/116','116').replace('1/1/1/1','4').replace('1-2','2'))"
   ]
  },
  {
   "cell_type": "code",
   "execution_count": null,
   "id": "0999a9b0",
   "metadata": {
    "execution": {
     "iopub.execute_input": "2022-01-13T18:36:54.531371Z",
     "iopub.status.busy": "2022-01-13T18:36:54.530639Z",
     "iopub.status.idle": "2022-01-13T18:36:54.779067Z",
     "shell.execute_reply": "2022-01-13T18:36:54.778476Z",
     "shell.execute_reply.started": "2022-01-13T18:21:31.714591Z"
    },
    "papermill": {
     "duration": 0.461734,
     "end_time": "2022-01-13T18:36:54.779238",
     "exception": false,
     "start_time": "2022-01-13T18:36:54.317504",
     "status": "completed"
    },
    "tags": []
   },
   "outputs": [],
   "source": [
    "visualisation(data['baths'])"
   ]
  },
  {
   "cell_type": "code",
   "execution_count": null,
   "id": "f3009280",
   "metadata": {
    "execution": {
     "iopub.execute_input": "2022-01-13T18:36:55.194096Z",
     "iopub.status.busy": "2022-01-13T18:36:55.192756Z",
     "iopub.status.idle": "2022-01-13T18:36:55.467641Z",
     "shell.execute_reply": "2022-01-13T18:36:55.468149Z",
     "shell.execute_reply.started": "2022-01-13T18:21:32.049524Z"
    },
    "papermill": {
     "duration": 0.486562,
     "end_time": "2022-01-13T18:36:55.468392",
     "exception": false,
     "start_time": "2022-01-13T18:36:54.981830",
     "status": "completed"
    },
    "tags": []
   },
   "outputs": [],
   "source": [
    "data['baths'] = data['baths'].fillna('2')\n",
    "data['baths'] = data['baths'].astype('float')"
   ]
  },
  {
   "cell_type": "code",
   "execution_count": null,
   "id": "1d4f8538",
   "metadata": {
    "execution": {
     "iopub.execute_input": "2022-01-13T18:36:55.896549Z",
     "iopub.status.busy": "2022-01-13T18:36:55.895417Z",
     "iopub.status.idle": "2022-01-13T18:36:55.928608Z",
     "shell.execute_reply": "2022-01-13T18:36:55.928068Z",
     "shell.execute_reply.started": "2022-01-13T18:21:32.317364Z"
    },
    "papermill": {
     "duration": 0.211479,
     "end_time": "2022-01-13T18:36:55.928780",
     "exception": false,
     "start_time": "2022-01-13T18:36:55.717301",
     "status": "completed"
    },
    "tags": []
   },
   "outputs": [],
   "source": [
    "data['baths'].describe()"
   ]
  },
  {
   "cell_type": "code",
   "execution_count": null,
   "id": "7807607f",
   "metadata": {
    "execution": {
     "iopub.execute_input": "2022-01-13T18:36:56.283127Z",
     "iopub.status.busy": "2022-01-13T18:36:56.279277Z",
     "iopub.status.idle": "2022-01-13T18:36:56.316404Z",
     "shell.execute_reply": "2022-01-13T18:36:56.317217Z",
     "shell.execute_reply.started": "2022-01-13T18:21:32.345688Z"
    },
    "papermill": {
     "duration": 0.215489,
     "end_time": "2022-01-13T18:36:56.317502",
     "exception": false,
     "start_time": "2022-01-13T18:36:56.102013",
     "status": "completed"
    },
    "tags": []
   },
   "outputs": [],
   "source": [
    "bath_25 = int(data.baths.quantile(25/100))\n",
    "bath_50 = int(data.baths.quantile(50/100))\n",
    "bath_75 = int(data.baths.quantile(75/100))\n",
    "\n",
    "print('25 квантиль:',bath_25)\n",
    "print('50 квантиль:', bath_50)\n",
    "print('75 квантиль:', bath_75)"
   ]
  },
  {
   "cell_type": "code",
   "execution_count": null,
   "id": "b3b96db6",
   "metadata": {
    "execution": {
     "iopub.execute_input": "2022-01-13T18:36:56.676332Z",
     "iopub.status.busy": "2022-01-13T18:36:56.672778Z",
     "iopub.status.idle": "2022-01-13T18:36:56.835178Z",
     "shell.execute_reply": "2022-01-13T18:36:56.834497Z",
     "shell.execute_reply.started": "2022-01-13T18:21:32.378566Z"
    },
    "papermill": {
     "duration": 0.340853,
     "end_time": "2022-01-13T18:36:56.835363",
     "exception": false,
     "start_time": "2022-01-13T18:36:56.494510",
     "status": "completed"
    },
    "tags": []
   },
   "outputs": [],
   "source": [
    "def bath_to_category(x):\n",
    "    if x < bath_25:\n",
    "        return '<2'\n",
    "    elif bath_25 <= x <= bath_75: \n",
    "        return '2'\n",
    "    else:\n",
    "        return '>2'\n",
    "\n",
    "data['number_bath'] = data['baths'].apply(lambda x: bath_to_category(x))"
   ]
  },
  {
   "cell_type": "code",
   "execution_count": null,
   "id": "2049c1b0",
   "metadata": {
    "execution": {
     "iopub.execute_input": "2022-01-13T18:36:57.188077Z",
     "iopub.status.busy": "2022-01-13T18:36:57.187370Z",
     "iopub.status.idle": "2022-01-13T18:36:57.911963Z",
     "shell.execute_reply": "2022-01-13T18:36:57.911416Z",
     "shell.execute_reply.started": "2022-01-13T18:21:32.639163Z"
    },
    "papermill": {
     "duration": 0.901332,
     "end_time": "2022-01-13T18:36:57.912147",
     "exception": false,
     "start_time": "2022-01-13T18:36:57.010815",
     "status": "completed"
    },
    "tags": []
   },
   "outputs": [],
   "source": [
    "hist_info(data['number_bath'])"
   ]
  },
  {
   "cell_type": "code",
   "execution_count": null,
   "id": "2efc577b",
   "metadata": {
    "execution": {
     "iopub.execute_input": "2022-01-13T18:36:58.313712Z",
     "iopub.status.busy": "2022-01-13T18:36:58.302304Z",
     "iopub.status.idle": "2022-01-13T18:36:58.506520Z",
     "shell.execute_reply": "2022-01-13T18:36:58.507036Z",
     "shell.execute_reply.started": "2022-01-13T18:21:34.088110Z"
    },
    "papermill": {
     "duration": 0.420618,
     "end_time": "2022-01-13T18:36:58.507254",
     "exception": false,
     "start_time": "2022-01-13T18:36:58.086636",
     "status": "completed"
    },
    "tags": []
   },
   "outputs": [],
   "source": [
    "info_rewiev(data['number_bath'])"
   ]
  },
  {
   "cell_type": "code",
   "execution_count": null,
   "id": "d6791358",
   "metadata": {
    "execution": {
     "iopub.execute_input": "2022-01-13T18:36:58.866418Z",
     "iopub.status.busy": "2022-01-13T18:36:58.865509Z",
     "iopub.status.idle": "2022-01-13T18:36:58.868617Z",
     "shell.execute_reply": "2022-01-13T18:36:58.868077Z",
     "shell.execute_reply.started": "2022-01-13T18:21:34.372484Z"
    },
    "papermill": {
     "duration": 0.186481,
     "end_time": "2022-01-13T18:36:58.868874",
     "exception": false,
     "start_time": "2022-01-13T18:36:58.682393",
     "status": "completed"
    },
    "tags": []
   },
   "outputs": [],
   "source": [
    "data_dict['baths'] = 'Обработано'\n",
    "data_dict['number_bath'] = 'Переводим в категории'"
   ]
  },
  {
   "cell_type": "markdown",
   "id": "2d0a62a6",
   "metadata": {
    "papermill": {
     "duration": 0.179232,
     "end_time": "2022-01-13T18:36:59.225142",
     "exception": false,
     "start_time": "2022-01-13T18:36:59.045910",
     "status": "completed"
    },
    "tags": []
   },
   "source": [
    "#EDA homeFacts"
   ]
  },
  {
   "cell_type": "code",
   "execution_count": null,
   "id": "3df9f5e2",
   "metadata": {
    "execution": {
     "iopub.execute_input": "2022-01-13T18:36:59.653886Z",
     "iopub.status.busy": "2022-01-13T18:36:59.584021Z",
     "iopub.status.idle": "2022-01-13T18:37:01.916590Z",
     "shell.execute_reply": "2022-01-13T18:37:01.915803Z",
     "shell.execute_reply.started": "2022-01-13T18:21:34.378353Z"
    },
    "papermill": {
     "duration": 2.515423,
     "end_time": "2022-01-13T18:37:01.916802",
     "exception": false,
     "start_time": "2022-01-13T18:36:59.401379",
     "status": "completed"
    },
    "tags": []
   },
   "outputs": [],
   "source": [
    "info_rewiev(data['homeFacts'])"
   ]
  },
  {
   "cell_type": "code",
   "execution_count": null,
   "id": "ef918565",
   "metadata": {
    "execution": {
     "iopub.execute_input": "2022-01-13T18:37:02.308288Z",
     "iopub.status.busy": "2022-01-13T18:37:02.307590Z",
     "iopub.status.idle": "2022-01-13T18:37:02.313404Z",
     "shell.execute_reply": "2022-01-13T18:37:02.313841Z",
     "shell.execute_reply.started": "2022-01-13T18:21:36.135823Z"
    },
    "papermill": {
     "duration": 0.204873,
     "end_time": "2022-01-13T18:37:02.314067",
     "exception": false,
     "start_time": "2022-01-13T18:37:02.109194",
     "status": "completed"
    },
    "tags": []
   },
   "outputs": [],
   "source": [
    "homefact_dict = literal_eval(data['homeFacts'][1])\n",
    "homefact_dict"
   ]
  },
  {
   "cell_type": "code",
   "execution_count": null,
   "id": "ebacffc1",
   "metadata": {
    "execution": {
     "iopub.execute_input": "2022-01-13T18:37:02.684432Z",
     "iopub.status.busy": "2022-01-13T18:37:02.683700Z",
     "iopub.status.idle": "2022-01-13T18:37:28.977857Z",
     "shell.execute_reply": "2022-01-13T18:37:28.977276Z",
     "shell.execute_reply.started": "2022-01-13T18:21:36.145217Z"
    },
    "papermill": {
     "duration": 26.47893,
     "end_time": "2022-01-13T18:37:28.978046",
     "exception": false,
     "start_time": "2022-01-13T18:37:02.499116",
     "status": "completed"
    },
    "tags": []
   },
   "outputs": [],
   "source": [
    "def hf(x):\n",
    "    homefact_dict = literal_eval(x)\n",
    "    lst = homefact_dict['atAGlanceFacts'][0].get('factValue')\n",
    "    if lst:\n",
    "        return str(lst)\n",
    "    else:\n",
    "        return np.nan\n",
    "    \n",
    "year = list(data[:].homeFacts.apply(hf))\n",
    "year[:10]\n",
    "data['year_built'] = year "
   ]
  },
  {
   "cell_type": "code",
   "execution_count": null,
   "id": "0fdab5b7",
   "metadata": {
    "execution": {
     "iopub.execute_input": "2022-01-13T18:37:29.335659Z",
     "iopub.status.busy": "2022-01-13T18:37:29.334885Z",
     "iopub.status.idle": "2022-01-13T18:37:32.945340Z",
     "shell.execute_reply": "2022-01-13T18:37:32.945830Z",
     "shell.execute_reply.started": "2022-01-13T18:22:07.909975Z"
    },
    "papermill": {
     "duration": 3.790112,
     "end_time": "2022-01-13T18:37:32.946041",
     "exception": false,
     "start_time": "2022-01-13T18:37:29.155929",
     "status": "completed"
    },
    "tags": []
   },
   "outputs": [],
   "source": [
    "hist_info(data['year_built'])"
   ]
  },
  {
   "cell_type": "code",
   "execution_count": null,
   "id": "92a495a7",
   "metadata": {
    "execution": {
     "iopub.execute_input": "2022-01-13T18:37:33.305481Z",
     "iopub.status.busy": "2022-01-13T18:37:33.304452Z",
     "iopub.status.idle": "2022-01-13T18:38:48.761820Z",
     "shell.execute_reply": "2022-01-13T18:38:48.761010Z",
     "shell.execute_reply.started": "2022-01-13T18:22:12.003217Z"
    },
    "papermill": {
     "duration": 75.63816,
     "end_time": "2022-01-13T18:38:48.762056",
     "exception": false,
     "start_time": "2022-01-13T18:37:33.123896",
     "status": "completed"
    },
    "tags": []
   },
   "outputs": [],
   "source": [
    "def yr(year):\n",
    "    if year == '559990649990': return data['year_built'].describe().top #max\n",
    "    elif year == 'No Data': return data['year_built'].describe().top\n",
    "    else: return year\n",
    "data['year_built'] = data['year_built'].apply(yr).astype(float) "
   ]
  },
  {
   "cell_type": "code",
   "execution_count": null,
   "id": "ab9a44ec",
   "metadata": {
    "execution": {
     "iopub.execute_input": "2022-01-13T18:38:49.129873Z",
     "iopub.status.busy": "2022-01-13T18:38:49.128500Z",
     "iopub.status.idle": "2022-01-13T18:38:49.179113Z",
     "shell.execute_reply": "2022-01-13T18:38:49.179917Z",
     "shell.execute_reply.started": "2022-01-13T18:24:06.626684Z"
    },
    "papermill": {
     "duration": 0.238332,
     "end_time": "2022-01-13T18:38:49.180236",
     "exception": false,
     "start_time": "2022-01-13T18:38:48.941904",
     "status": "completed"
    },
    "tags": []
   },
   "outputs": [],
   "source": [
    "info_rewiev(data['year_built'])"
   ]
  },
  {
   "cell_type": "code",
   "execution_count": null,
   "id": "b83362ba",
   "metadata": {
    "execution": {
     "iopub.execute_input": "2022-01-13T18:38:49.556193Z",
     "iopub.status.busy": "2022-01-13T18:38:49.555426Z",
     "iopub.status.idle": "2022-01-13T18:38:49.597699Z",
     "shell.execute_reply": "2022-01-13T18:38:49.597078Z",
     "shell.execute_reply.started": "2022-01-13T18:24:06.674801Z"
    },
    "papermill": {
     "duration": 0.229935,
     "end_time": "2022-01-13T18:38:49.597877",
     "exception": false,
     "start_time": "2022-01-13T18:38:49.367942",
     "status": "completed"
    },
    "tags": []
   },
   "outputs": [],
   "source": [
    "year_25 = int(data.year_built.quantile(25/100))\n",
    "year_50 = int(data.year_built.quantile(50/100))\n",
    "year_75 = int(data.year_built.quantile(75/100))\n",
    "\n",
    "print('25 квантиль:',year_25)\n",
    "print('50 квантиль:', year_50)\n",
    "print('75 квантиль:', year_75)"
   ]
  },
  {
   "cell_type": "code",
   "execution_count": null,
   "id": "1935fc2d",
   "metadata": {
    "execution": {
     "iopub.execute_input": "2022-01-13T18:38:49.970258Z",
     "iopub.status.busy": "2022-01-13T18:38:49.969157Z",
     "iopub.status.idle": "2022-01-13T18:38:50.111753Z",
     "shell.execute_reply": "2022-01-13T18:38:50.111182Z",
     "shell.execute_reply.started": "2022-01-13T18:24:06.709148Z"
    },
    "papermill": {
     "duration": 0.332307,
     "end_time": "2022-01-13T18:38:50.111929",
     "exception": false,
     "start_time": "2022-01-13T18:38:49.779622",
     "status": "completed"
    },
    "tags": []
   },
   "outputs": [],
   "source": [
    "def age_house(x):\n",
    "    if x < year_25: return 'древние дома'\n",
    "    elif year_25 <= x <= year_50: return 'относительно старые дома'\n",
    "    elif year_50 < x <= year_75: return 'современные дома'\n",
    "    elif x > year_75: return 'новостройки'\n",
    "    else: return 'No info'\n",
    "    \n",
    "data['house_status'] = data['year_built'].apply(age_house)"
   ]
  },
  {
   "cell_type": "code",
   "execution_count": null,
   "id": "d3fcd74b",
   "metadata": {
    "execution": {
     "iopub.execute_input": "2022-01-13T18:38:50.503657Z",
     "iopub.status.busy": "2022-01-13T18:38:50.502446Z",
     "iopub.status.idle": "2022-01-13T18:38:51.288427Z",
     "shell.execute_reply": "2022-01-13T18:38:51.287546Z",
     "shell.execute_reply.started": "2022-01-13T18:24:06.959481Z"
    },
    "papermill": {
     "duration": 0.99033,
     "end_time": "2022-01-13T18:38:51.288648",
     "exception": false,
     "start_time": "2022-01-13T18:38:50.298318",
     "status": "completed"
    },
    "tags": []
   },
   "outputs": [],
   "source": [
    "hist_info(data['house_status'])"
   ]
  },
  {
   "cell_type": "code",
   "execution_count": null,
   "id": "5e4df49a",
   "metadata": {
    "execution": {
     "iopub.execute_input": "2022-01-13T18:38:51.719892Z",
     "iopub.status.busy": "2022-01-13T18:38:51.718708Z",
     "iopub.status.idle": "2022-01-13T18:38:51.974627Z",
     "shell.execute_reply": "2022-01-13T18:38:51.974023Z",
     "shell.execute_reply.started": "2022-01-13T18:24:08.136800Z"
    },
    "papermill": {
     "duration": 0.493432,
     "end_time": "2022-01-13T18:38:51.974793",
     "exception": false,
     "start_time": "2022-01-13T18:38:51.481361",
     "status": "completed"
    },
    "tags": []
   },
   "outputs": [],
   "source": [
    "visualisation(data['house_status'])"
   ]
  },
  {
   "cell_type": "code",
   "execution_count": null,
   "id": "bbeebb50",
   "metadata": {
    "execution": {
     "iopub.execute_input": "2022-01-13T18:38:52.378209Z",
     "iopub.status.busy": "2022-01-13T18:38:52.377210Z",
     "iopub.status.idle": "2022-01-13T18:38:52.380265Z",
     "shell.execute_reply": "2022-01-13T18:38:52.379571Z",
     "shell.execute_reply.started": "2022-01-13T18:24:08.446637Z"
    },
    "papermill": {
     "duration": 0.208236,
     "end_time": "2022-01-13T18:38:52.380442",
     "exception": false,
     "start_time": "2022-01-13T18:38:52.172206",
     "status": "completed"
    },
    "tags": []
   },
   "outputs": [],
   "source": [
    "data_dict['homeFacts'] = 'Обработали'\n",
    "data_dict['homeFacts'] = 'Переводим в категории'"
   ]
  },
  {
   "cell_type": "markdown",
   "id": "9b18904a",
   "metadata": {
    "papermill": {
     "duration": 0.190022,
     "end_time": "2022-01-13T18:38:52.761751",
     "exception": false,
     "start_time": "2022-01-13T18:38:52.571729",
     "status": "completed"
    },
    "tags": []
   },
   "source": [
    "#EDA fireplace"
   ]
  },
  {
   "cell_type": "code",
   "execution_count": null,
   "id": "ab0d895e",
   "metadata": {
    "execution": {
     "iopub.execute_input": "2022-01-13T18:38:53.173595Z",
     "iopub.status.busy": "2022-01-13T18:38:53.172690Z",
     "iopub.status.idle": "2022-01-13T18:38:53.285446Z",
     "shell.execute_reply": "2022-01-13T18:38:53.284647Z",
     "shell.execute_reply.started": "2022-01-13T18:24:08.452162Z"
    },
    "papermill": {
     "duration": 0.331466,
     "end_time": "2022-01-13T18:38:53.285632",
     "exception": false,
     "start_time": "2022-01-13T18:38:52.954166",
     "status": "completed"
    },
    "tags": []
   },
   "outputs": [],
   "source": [
    "info_rewiev(data['fireplace'])"
   ]
  },
  {
   "cell_type": "code",
   "execution_count": null,
   "id": "fe043659",
   "metadata": {
    "execution": {
     "iopub.execute_input": "2022-01-13T18:38:53.678356Z",
     "iopub.status.busy": "2022-01-13T18:38:53.677215Z",
     "iopub.status.idle": "2022-01-13T18:38:53.857947Z",
     "shell.execute_reply": "2022-01-13T18:38:53.857354Z",
     "shell.execute_reply.started": "2022-01-13T18:24:08.643082Z"
    },
    "papermill": {
     "duration": 0.372668,
     "end_time": "2022-01-13T18:38:53.858143",
     "exception": false,
     "start_time": "2022-01-13T18:38:53.485475",
     "status": "completed"
    },
    "tags": []
   },
   "outputs": [],
   "source": [
    "data['fireplace'] = data['fireplace'].apply(lambda x: str(x).lower())"
   ]
  },
  {
   "cell_type": "code",
   "execution_count": null,
   "id": "09330826",
   "metadata": {
    "execution": {
     "iopub.execute_input": "2022-01-13T18:38:54.247096Z",
     "iopub.status.busy": "2022-01-13T18:38:54.246361Z",
     "iopub.status.idle": "2022-01-13T18:38:54.485194Z",
     "shell.execute_reply": "2022-01-13T18:38:54.485709Z",
     "shell.execute_reply.started": "2022-01-13T18:24:08.862269Z"
    },
    "papermill": {
     "duration": 0.439333,
     "end_time": "2022-01-13T18:38:54.485918",
     "exception": false,
     "start_time": "2022-01-13T18:38:54.046585",
     "status": "completed"
    },
    "tags": []
   },
   "outputs": [],
   "source": [
    "data['fireplace_grad'] = data['fireplace'].apply(lambda x: len(str(x).split(',')))\n",
    "data['fireplace_grad'].value_counts()"
   ]
  },
  {
   "cell_type": "code",
   "execution_count": null,
   "id": "b8124c99",
   "metadata": {
    "execution": {
     "iopub.execute_input": "2022-01-13T18:38:54.870020Z",
     "iopub.status.busy": "2022-01-13T18:38:54.868968Z",
     "iopub.status.idle": "2022-01-13T18:38:54.903531Z",
     "shell.execute_reply": "2022-01-13T18:38:54.904645Z",
     "shell.execute_reply.started": "2022-01-13T18:24:09.218109Z"
    },
    "papermill": {
     "duration": 0.232696,
     "end_time": "2022-01-13T18:38:54.905077",
     "exception": false,
     "start_time": "2022-01-13T18:38:54.672381",
     "status": "completed"
    },
    "tags": []
   },
   "outputs": [],
   "source": [
    "info_rewiev(data['fireplace_grad'])"
   ]
  },
  {
   "cell_type": "code",
   "execution_count": null,
   "id": "5c16bb70",
   "metadata": {
    "execution": {
     "iopub.execute_input": "2022-01-13T18:38:55.306905Z",
     "iopub.status.busy": "2022-01-13T18:38:55.300863Z",
     "iopub.status.idle": "2022-01-13T18:38:55.525306Z",
     "shell.execute_reply": "2022-01-13T18:38:55.524706Z",
     "shell.execute_reply.started": "2022-01-13T18:24:09.246371Z"
    },
    "papermill": {
     "duration": 0.416087,
     "end_time": "2022-01-13T18:38:55.525470",
     "exception": false,
     "start_time": "2022-01-13T18:38:55.109383",
     "status": "completed"
    },
    "tags": []
   },
   "outputs": [],
   "source": [
    "# make a dictionary\n",
    "prior = ['1','2','3','4','5','6','one','two','three','four','five','six']\n",
    "\n",
    "def fireplace(grad):\n",
    "    if grad == 'yes': return 'available'\n",
    "    elif grad in prior: return 'numeric_quantity'\n",
    "    elif 'gas' in grad: return 'gas'\n",
    "    elif 'fireplace' in grad: return 'fireplace'\n",
    "    elif 'wood' in grad: return 'wood'\n",
    "    elif 'ceiling' in grad: return 'ceiling'\n",
    "    elif 'living' in grad: return 'room'\n",
    "    elif 'dining' in grad: return 'room'\n",
    "    elif 'kitchen' in grad:return 'room'\n",
    "    elif 'room' in grad: return 'room'\n",
    "    else: return 'other'\n",
    "    \n",
    "data['fireplace'] = data['fireplace'].apply(lambda x: fireplace(x))\n",
    "data.head()"
   ]
  },
  {
   "cell_type": "code",
   "execution_count": null,
   "id": "ec8ce5b9",
   "metadata": {
    "execution": {
     "iopub.execute_input": "2022-01-13T18:38:55.948446Z",
     "iopub.status.busy": "2022-01-13T18:38:55.947315Z",
     "iopub.status.idle": "2022-01-13T18:38:56.751481Z",
     "shell.execute_reply": "2022-01-13T18:38:56.750785Z",
     "shell.execute_reply.started": "2022-01-13T18:24:09.563295Z"
    },
    "papermill": {
     "duration": 1.043287,
     "end_time": "2022-01-13T18:38:56.751651",
     "exception": false,
     "start_time": "2022-01-13T18:38:55.708364",
     "status": "completed"
    },
    "tags": []
   },
   "outputs": [],
   "source": [
    "hist_info(data['fireplace'])"
   ]
  },
  {
   "cell_type": "code",
   "execution_count": null,
   "id": "c745ab57",
   "metadata": {
    "execution": {
     "iopub.execute_input": "2022-01-13T18:38:57.146718Z",
     "iopub.status.busy": "2022-01-13T18:38:57.144818Z",
     "iopub.status.idle": "2022-01-13T18:38:57.396891Z",
     "shell.execute_reply": "2022-01-13T18:38:57.396262Z",
     "shell.execute_reply.started": "2022-01-13T18:24:10.776210Z"
    },
    "papermill": {
     "duration": 0.462627,
     "end_time": "2022-01-13T18:38:57.397069",
     "exception": false,
     "start_time": "2022-01-13T18:38:56.934442",
     "status": "completed"
    },
    "tags": []
   },
   "outputs": [],
   "source": [
    "visualisation(data['fireplace'])"
   ]
  },
  {
   "cell_type": "code",
   "execution_count": null,
   "id": "d379ab43",
   "metadata": {
    "execution": {
     "iopub.execute_input": "2022-01-13T18:38:57.782861Z",
     "iopub.status.busy": "2022-01-13T18:38:57.782153Z",
     "iopub.status.idle": "2022-01-13T18:38:58.083406Z",
     "shell.execute_reply": "2022-01-13T18:38:58.082886Z",
     "shell.execute_reply.started": "2022-01-13T18:24:11.045241Z"
    },
    "papermill": {
     "duration": 0.499141,
     "end_time": "2022-01-13T18:38:58.083569",
     "exception": false,
     "start_time": "2022-01-13T18:38:57.584428",
     "status": "completed"
    },
    "tags": []
   },
   "outputs": [],
   "source": [
    "data['fireplace'] = data['fireplace'].apply(lambda x: x if x in ['other', 'available', 'numeric_quantity'] else 'something else')\n",
    "show_plot(data['fireplace'])"
   ]
  },
  {
   "cell_type": "code",
   "execution_count": null,
   "id": "0d781003",
   "metadata": {
    "execution": {
     "iopub.execute_input": "2022-01-13T18:38:58.459200Z",
     "iopub.status.busy": "2022-01-13T18:38:58.457562Z",
     "iopub.status.idle": "2022-01-13T18:38:58.461581Z",
     "shell.execute_reply": "2022-01-13T18:38:58.462105Z",
     "shell.execute_reply.started": "2022-01-13T18:24:11.388265Z"
    },
    "papermill": {
     "duration": 0.193002,
     "end_time": "2022-01-13T18:38:58.462311",
     "exception": false,
     "start_time": "2022-01-13T18:38:58.269309",
     "status": "completed"
    },
    "tags": []
   },
   "outputs": [],
   "source": [
    "data_dict['fireplace_grad'] = 'Обработали'\n",
    "data_dict['fireplace'] = 'Переводим в категории'"
   ]
  },
  {
   "cell_type": "markdown",
   "id": "717f0b3d",
   "metadata": {
    "papermill": {
     "duration": 0.18779,
     "end_time": "2022-01-13T18:38:58.837272",
     "exception": false,
     "start_time": "2022-01-13T18:38:58.649482",
     "status": "completed"
    },
    "tags": []
   },
   "source": [
    "#EDA city"
   ]
  },
  {
   "cell_type": "code",
   "execution_count": null,
   "id": "aed64ec2",
   "metadata": {
    "execution": {
     "iopub.execute_input": "2022-01-13T18:38:59.229178Z",
     "iopub.status.busy": "2022-01-13T18:38:59.228067Z",
     "iopub.status.idle": "2022-01-13T18:38:59.384953Z",
     "shell.execute_reply": "2022-01-13T18:38:59.385790Z",
     "shell.execute_reply.started": "2022-01-13T18:24:11.395822Z"
    },
    "papermill": {
     "duration": 0.353911,
     "end_time": "2022-01-13T18:38:59.386105",
     "exception": false,
     "start_time": "2022-01-13T18:38:59.032194",
     "status": "completed"
    },
    "tags": []
   },
   "outputs": [],
   "source": [
    "info_rewiev(data['city'])"
   ]
  },
  {
   "cell_type": "code",
   "execution_count": null,
   "id": "0e4f0c39",
   "metadata": {
    "execution": {
     "iopub.execute_input": "2022-01-13T18:38:59.798058Z",
     "iopub.status.busy": "2022-01-13T18:38:59.797310Z",
     "iopub.status.idle": "2022-01-13T18:38:59.804835Z",
     "shell.execute_reply": "2022-01-13T18:38:59.804243Z",
     "shell.execute_reply.started": "2022-01-13T18:24:11.697685Z"
    },
    "papermill": {
     "duration": 0.228374,
     "end_time": "2022-01-13T18:38:59.805023",
     "exception": false,
     "start_time": "2022-01-13T18:38:59.576649",
     "status": "completed"
    },
    "tags": []
   },
   "outputs": [],
   "source": [
    "data['city'].value_counts().head(34)"
   ]
  },
  {
   "cell_type": "code",
   "execution_count": null,
   "id": "27740bee",
   "metadata": {
    "execution": {
     "iopub.execute_input": "2022-01-13T18:39:00.220687Z",
     "iopub.status.busy": "2022-01-13T18:39:00.219791Z",
     "iopub.status.idle": "2022-01-13T18:39:00.451093Z",
     "shell.execute_reply": "2022-01-13T18:39:00.451592Z",
     "shell.execute_reply.started": "2022-01-13T18:24:11.764363Z"
    },
    "papermill": {
     "duration": 0.458778,
     "end_time": "2022-01-13T18:39:00.451791",
     "exception": false,
     "start_time": "2022-01-13T18:38:59.993013",
     "status": "completed"
    },
    "tags": []
   },
   "outputs": [],
   "source": [
    "#Let's make a grouping into cities with more ads and less\n",
    "list_city=list(data['city'].value_counts()[:5].keys())\n",
    "un_list_city=list(data['city'].value_counts()[5:30].keys())\n",
    "def city_grad(c_size):\n",
    "    if c_size in list_city:\n",
    "        return 'list_city'\n",
    "    elif c_size in un_list_city:\n",
    "        return 'un_list_city'\n",
    "    else:\n",
    "        return 'min_list_city'\n",
    "    \n",
    "data['city_rating'] = data['city'].apply(lambda x: city_grad(x))\n",
    "data.head()"
   ]
  },
  {
   "cell_type": "code",
   "execution_count": null,
   "id": "839c8daa",
   "metadata": {
    "execution": {
     "iopub.execute_input": "2022-01-13T18:39:00.856527Z",
     "iopub.status.busy": "2022-01-13T18:39:00.855778Z",
     "iopub.status.idle": "2022-01-13T18:39:01.591651Z",
     "shell.execute_reply": "2022-01-13T18:39:01.591043Z",
     "shell.execute_reply.started": "2022-01-13T18:24:12.158778Z"
    },
    "papermill": {
     "duration": 0.935421,
     "end_time": "2022-01-13T18:39:01.591850",
     "exception": false,
     "start_time": "2022-01-13T18:39:00.656429",
     "status": "completed"
    },
    "tags": []
   },
   "outputs": [],
   "source": [
    "hist_info(data['city_rating'])"
   ]
  },
  {
   "cell_type": "code",
   "execution_count": null,
   "id": "2eeb5ae4",
   "metadata": {
    "execution": {
     "iopub.execute_input": "2022-01-13T18:39:01.978122Z",
     "iopub.status.busy": "2022-01-13T18:39:01.977404Z",
     "iopub.status.idle": "2022-01-13T18:39:02.262686Z",
     "shell.execute_reply": "2022-01-13T18:39:02.263259Z",
     "shell.execute_reply.started": "2022-01-13T18:24:13.234506Z"
    },
    "papermill": {
     "duration": 0.481438,
     "end_time": "2022-01-13T18:39:02.263506",
     "exception": false,
     "start_time": "2022-01-13T18:39:01.782068",
     "status": "completed"
    },
    "tags": []
   },
   "outputs": [],
   "source": [
    "visualisation(data['city_rating'])"
   ]
  },
  {
   "cell_type": "code",
   "execution_count": null,
   "id": "c7fca787",
   "metadata": {
    "execution": {
     "iopub.execute_input": "2022-01-13T18:39:02.672274Z",
     "iopub.status.busy": "2022-01-13T18:39:02.671507Z",
     "iopub.status.idle": "2022-01-13T18:39:02.676337Z",
     "shell.execute_reply": "2022-01-13T18:39:02.676912Z",
     "shell.execute_reply.started": "2022-01-13T18:24:13.476413Z"
    },
    "papermill": {
     "duration": 0.210144,
     "end_time": "2022-01-13T18:39:02.677168",
     "exception": false,
     "start_time": "2022-01-13T18:39:02.467024",
     "status": "completed"
    },
    "tags": []
   },
   "outputs": [],
   "source": [
    "data_dict['city'] = 'Обработано'\n",
    "data_dict['city_rating'] = 'Переводим в категории'"
   ]
  },
  {
   "cell_type": "code",
   "execution_count": null,
   "id": "2ee4b130",
   "metadata": {
    "execution": {
     "iopub.execute_input": "2022-01-13T18:39:03.083340Z",
     "iopub.status.busy": "2022-01-13T18:39:03.081902Z",
     "iopub.status.idle": "2022-01-13T18:39:03.654786Z",
     "shell.execute_reply": "2022-01-13T18:39:03.655270Z",
     "shell.execute_reply.started": "2022-01-13T18:24:13.483220Z"
    },
    "papermill": {
     "duration": 0.773223,
     "end_time": "2022-01-13T18:39:03.655490",
     "exception": false,
     "start_time": "2022-01-13T18:39:02.882267",
     "status": "completed"
    },
    "tags": []
   },
   "outputs": [],
   "source": [
    "data.info()"
   ]
  },
  {
   "cell_type": "markdown",
   "id": "6742f758",
   "metadata": {
    "papermill": {
     "duration": 0.191876,
     "end_time": "2022-01-13T18:39:04.036061",
     "exception": false,
     "start_time": "2022-01-13T18:39:03.844185",
     "status": "completed"
    },
    "tags": []
   },
   "source": [
    "#EDA school"
   ]
  },
  {
   "cell_type": "code",
   "execution_count": null,
   "id": "67be8179",
   "metadata": {
    "execution": {
     "iopub.execute_input": "2022-01-13T18:39:04.506694Z",
     "iopub.status.busy": "2022-01-13T18:39:04.505605Z",
     "iopub.status.idle": "2022-01-13T18:39:06.604509Z",
     "shell.execute_reply": "2022-01-13T18:39:06.603685Z",
     "shell.execute_reply.started": "2022-01-13T18:24:14.493423Z"
    },
    "papermill": {
     "duration": 2.29021,
     "end_time": "2022-01-13T18:39:06.604708",
     "exception": false,
     "start_time": "2022-01-13T18:39:04.314498",
     "status": "completed"
    },
    "tags": []
   },
   "outputs": [],
   "source": [
    "info_rewiev(data['schools'])"
   ]
  },
  {
   "cell_type": "code",
   "execution_count": null,
   "id": "fc121e22",
   "metadata": {
    "execution": {
     "iopub.execute_input": "2022-01-13T18:39:07.043808Z",
     "iopub.status.busy": "2022-01-13T18:39:07.042864Z",
     "iopub.status.idle": "2022-01-13T18:39:07.046492Z",
     "shell.execute_reply": "2022-01-13T18:39:07.046993Z",
     "shell.execute_reply.started": "2022-01-13T18:24:16.007184Z"
    },
    "papermill": {
     "duration": 0.233327,
     "end_time": "2022-01-13T18:39:07.047194",
     "exception": false,
     "start_time": "2022-01-13T18:39:06.813867",
     "status": "completed"
    },
    "tags": []
   },
   "outputs": [],
   "source": [
    "school_dict = literal_eval(data['schools'][0])\n",
    "school_dict"
   ]
  },
  {
   "cell_type": "code",
   "execution_count": null,
   "id": "5dcd8f5e",
   "metadata": {
    "execution": {
     "iopub.execute_input": "2022-01-13T18:39:07.479463Z",
     "iopub.status.busy": "2022-01-13T18:39:07.478659Z",
     "iopub.status.idle": "2022-01-13T18:39:29.275633Z",
     "shell.execute_reply": "2022-01-13T18:39:29.274896Z",
     "shell.execute_reply.started": "2022-01-13T18:24:16.016516Z"
    },
    "papermill": {
     "duration": 22.02437,
     "end_time": "2022-01-13T18:39:29.275863",
     "exception": false,
     "start_time": "2022-01-13T18:39:07.251493",
     "status": "completed"
    },
    "tags": []
   },
   "outputs": [],
   "source": [
    "def sc(x):\n",
    "    school_dict = literal_eval(x)\n",
    "    list_scool = school_dict[0]['data'].get('Distance')\n",
    "    if list_scool:\n",
    "        return list_scool\n",
    "    else:\n",
    "        return 'bla'\n",
    "    \n",
    "list_scool_dict = list(data[:].schools.apply(sc))\n",
    "list_scool_dict[:10]"
   ]
  },
  {
   "cell_type": "code",
   "execution_count": null,
   "id": "552a4f31",
   "metadata": {
    "execution": {
     "iopub.execute_input": "2022-01-13T18:39:29.674092Z",
     "iopub.status.busy": "2022-01-13T18:39:29.673237Z",
     "iopub.status.idle": "2022-01-13T18:39:29.880717Z",
     "shell.execute_reply": "2022-01-13T18:39:29.879961Z",
     "shell.execute_reply.started": "2022-01-13T18:24:41.388119Z"
    },
    "papermill": {
     "duration": 0.412871,
     "end_time": "2022-01-13T18:39:29.880887",
     "exception": false,
     "start_time": "2022-01-13T18:39:29.468016",
     "status": "completed"
    },
    "tags": []
   },
   "outputs": [],
   "source": [
    "data['distance'] = list_scool_dict"
   ]
  },
  {
   "cell_type": "code",
   "execution_count": null,
   "id": "94987038",
   "metadata": {
    "execution": {
     "iopub.execute_input": "2022-01-13T18:39:30.280393Z",
     "iopub.status.busy": "2022-01-13T18:39:30.279728Z",
     "iopub.status.idle": "2022-01-13T18:39:30.285239Z",
     "shell.execute_reply": "2022-01-13T18:39:30.285738Z",
     "shell.execute_reply.started": "2022-01-13T18:24:41.687937Z"
    },
    "papermill": {
     "duration": 0.209151,
     "end_time": "2022-01-13T18:39:30.285934",
     "exception": false,
     "start_time": "2022-01-13T18:39:30.076783",
     "status": "completed"
    },
    "tags": []
   },
   "outputs": [],
   "source": [
    "len(data['distance'])"
   ]
  },
  {
   "cell_type": "code",
   "execution_count": null,
   "id": "dfc553ce",
   "metadata": {
    "execution": {
     "iopub.execute_input": "2022-01-13T18:39:30.678728Z",
     "iopub.status.busy": "2022-01-13T18:39:30.677964Z",
     "iopub.status.idle": "2022-01-13T18:39:30.682156Z",
     "shell.execute_reply": "2022-01-13T18:39:30.681617Z",
     "shell.execute_reply.started": "2022-01-13T18:24:41.703200Z"
    },
    "papermill": {
     "duration": 0.202334,
     "end_time": "2022-01-13T18:39:30.682329",
     "exception": false,
     "start_time": "2022-01-13T18:39:30.479995",
     "status": "completed"
    },
    "tags": []
   },
   "outputs": [],
   "source": [
    "mean_distance=[]"
   ]
  },
  {
   "cell_type": "code",
   "execution_count": null,
   "id": "db5cd92c",
   "metadata": {
    "execution": {
     "iopub.execute_input": "2022-01-13T18:39:31.076382Z",
     "iopub.status.busy": "2022-01-13T18:39:31.075703Z",
     "iopub.status.idle": "2022-01-13T18:39:33.614761Z",
     "shell.execute_reply": "2022-01-13T18:39:33.615353Z",
     "shell.execute_reply.started": "2022-01-13T18:24:41.714076Z"
    },
    "papermill": {
     "duration": 2.739609,
     "end_time": "2022-01-13T18:39:33.615568",
     "exception": false,
     "start_time": "2022-01-13T18:39:30.875959",
     "status": "completed"
    },
    "tags": []
   },
   "outputs": [],
   "source": [
    "#Calculate the average distance to school for families with children\n",
    "for x in range(len(data['distance'])):\n",
    "    try:\n",
    "        path = data['distance'][x]\n",
    "        path_list=[]\n",
    "        for x in l:\n",
    "            x =str(x).replace('mi','').replace('[','').replace(']','')\n",
    "            path_list.append(x)\n",
    "        test_list = list(map(float, path_list))\n",
    "        mean_distance.append(sum(test_list)/len(test_list))\n",
    "    except:\n",
    "        mean_distance.append('no info')\n",
    "        continue"
   ]
  },
  {
   "cell_type": "code",
   "execution_count": null,
   "id": "7621caaa",
   "metadata": {
    "execution": {
     "iopub.execute_input": "2022-01-13T18:39:34.004361Z",
     "iopub.status.busy": "2022-01-13T18:39:34.003653Z",
     "iopub.status.idle": "2022-01-13T18:39:34.009220Z",
     "shell.execute_reply": "2022-01-13T18:39:34.009792Z",
     "shell.execute_reply.started": "2022-01-13T18:24:45.665201Z"
    },
    "papermill": {
     "duration": 0.202579,
     "end_time": "2022-01-13T18:39:34.010017",
     "exception": false,
     "start_time": "2022-01-13T18:39:33.807438",
     "status": "completed"
    },
    "tags": []
   },
   "outputs": [],
   "source": [
    "len(mean_distance)"
   ]
  },
  {
   "cell_type": "code",
   "execution_count": null,
   "id": "d4fc6e19",
   "metadata": {
    "execution": {
     "iopub.execute_input": "2022-01-13T18:39:34.399328Z",
     "iopub.status.busy": "2022-01-13T18:39:34.398605Z",
     "iopub.status.idle": "2022-01-13T18:39:35.021956Z",
     "shell.execute_reply": "2022-01-13T18:39:35.021177Z",
     "shell.execute_reply.started": "2022-01-13T18:24:45.672846Z"
    },
    "papermill": {
     "duration": 0.817788,
     "end_time": "2022-01-13T18:39:35.022204",
     "exception": false,
     "start_time": "2022-01-13T18:39:34.204416",
     "status": "completed"
    },
    "tags": []
   },
   "outputs": [],
   "source": [
    "data['distance_upd'] = mean_distance\n",
    "data['distance_upd'] = data['distance_upd'].apply(lambda x: str(x).replace('no info', '1.0')).astype(float)\n",
    "data['distance_upd'] = data['distance_upd'].apply(lambda x: round(x,2))\n",
    "show_feature_info(data['distance_upd'])"
   ]
  },
  {
   "cell_type": "code",
   "execution_count": null,
   "id": "c7465727",
   "metadata": {
    "execution": {
     "iopub.execute_input": "2022-01-13T18:39:35.812646Z",
     "iopub.status.busy": "2022-01-13T18:39:35.811618Z",
     "iopub.status.idle": "2022-01-13T18:39:35.835424Z",
     "shell.execute_reply": "2022-01-13T18:39:35.836078Z",
     "shell.execute_reply.started": "2022-01-13T18:24:46.447161Z"
    },
    "papermill": {
     "duration": 0.224199,
     "end_time": "2022-01-13T18:39:35.836280",
     "exception": false,
     "start_time": "2022-01-13T18:39:35.612081",
     "status": "completed"
    },
    "tags": []
   },
   "outputs": [],
   "source": [
    "dist_25 = int(data.distance_upd.quantile(25/100))\n",
    "dist_50 = int(data.distance_upd.quantile(50/100))\n",
    "dist_75 = int(data.distance_upd.quantile(75/100))\n",
    "\n",
    "print('25 квантиль:', dist_25)\n",
    "print('50 квантиль:', dist_50)\n",
    "print('75 квантиль:', dist_75)"
   ]
  },
  {
   "cell_type": "code",
   "execution_count": null,
   "id": "5693af5b",
   "metadata": {
    "execution": {
     "iopub.execute_input": "2022-01-13T18:39:36.236413Z",
     "iopub.status.busy": "2022-01-13T18:39:36.231701Z",
     "iopub.status.idle": "2022-01-13T18:39:37.092117Z",
     "shell.execute_reply": "2022-01-13T18:39:37.092591Z",
     "shell.execute_reply.started": "2022-01-13T18:24:46.472140Z"
    },
    "papermill": {
     "duration": 1.063845,
     "end_time": "2022-01-13T18:39:37.092828",
     "exception": false,
     "start_time": "2022-01-13T18:39:36.028983",
     "status": "completed"
    },
    "tags": []
   },
   "outputs": [],
   "source": [
    "# add a sign of distance to school\n",
    "def path_schol(x):\n",
    "    if x < dist_25:\n",
    "        return 'убираем'\n",
    "    elif dist_25 <= x <= dist_50:\n",
    "        return 'подходит'\n",
    "    elif dist_50 <= x <= dist_75:\n",
    "        return 'далеко'\n",
    "    else: \n",
    "        return 'очень далеко, не подходит!'\n",
    "    \n",
    "data['path_school'] = data['distance_upd'].apply(path_schol)\n",
    "show_feature_info_hist(data['path_school'])"
   ]
  },
  {
   "cell_type": "code",
   "execution_count": null,
   "id": "3c169857",
   "metadata": {
    "execution": {
     "iopub.execute_input": "2022-01-13T18:39:37.528166Z",
     "iopub.status.busy": "2022-01-13T18:39:37.485004Z",
     "iopub.status.idle": "2022-01-13T18:39:37.654883Z",
     "shell.execute_reply": "2022-01-13T18:39:37.655361Z",
     "shell.execute_reply.started": "2022-01-13T18:24:47.712652Z"
    },
    "papermill": {
     "duration": 0.368238,
     "end_time": "2022-01-13T18:39:37.655582",
     "exception": false,
     "start_time": "2022-01-13T18:39:37.287344",
     "status": "completed"
    },
    "tags": []
   },
   "outputs": [],
   "source": [
    "visualisation(data['path_school'])"
   ]
  },
  {
   "cell_type": "markdown",
   "id": "b65aaa95",
   "metadata": {
    "papermill": {
     "duration": 0.196297,
     "end_time": "2022-01-13T18:39:38.050516",
     "exception": false,
     "start_time": "2022-01-13T18:39:37.854219",
     "status": "completed"
    },
    "tags": []
   },
   "source": [
    "#EDA sqft"
   ]
  },
  {
   "cell_type": "code",
   "execution_count": null,
   "id": "baca6cab",
   "metadata": {
    "execution": {
     "iopub.execute_input": "2022-01-13T18:39:38.451311Z",
     "iopub.status.busy": "2022-01-13T18:39:38.450601Z",
     "iopub.status.idle": "2022-01-13T18:39:38.766551Z",
     "shell.execute_reply": "2022-01-13T18:39:38.767031Z",
     "shell.execute_reply.started": "2022-01-13T18:24:47.930615Z"
    },
    "papermill": {
     "duration": 0.513761,
     "end_time": "2022-01-13T18:39:38.767230",
     "exception": false,
     "start_time": "2022-01-13T18:39:38.253469",
     "status": "completed"
    },
    "tags": []
   },
   "outputs": [],
   "source": [
    "info_rewiev(data['sqft'])"
   ]
  },
  {
   "cell_type": "code",
   "execution_count": null,
   "id": "ea0e0d6a",
   "metadata": {
    "execution": {
     "iopub.execute_input": "2022-01-13T18:39:39.191571Z",
     "iopub.status.busy": "2022-01-13T18:39:39.190620Z",
     "iopub.status.idle": "2022-01-13T18:39:40.201737Z",
     "shell.execute_reply": "2022-01-13T18:39:40.201166Z",
     "shell.execute_reply.started": "2022-01-13T18:24:48.275110Z"
    },
    "papermill": {
     "duration": 1.224204,
     "end_time": "2022-01-13T18:39:40.201915",
     "exception": false,
     "start_time": "2022-01-13T18:39:38.977711",
     "status": "completed"
    },
    "tags": []
   },
   "outputs": [],
   "source": [
    "data['sqft'] = data['sqft'].apply(lambda x: str(x).replace('Total interior livable area: ',''))\n",
    "data['sqft'] = data['sqft'].apply(lambda x: str(x).replace(' sqft ',''))\n",
    "data['sqft'] = data['sqft'].apply(lambda x: str(x).replace('sqft',''))\n",
    "data['sqft'] = data['sqft'].apply(lambda x: str(x).replace(' ',''))\n",
    "data['sqft'] = data['sqft'].apply(lambda x: str(x).replace('--', 'nan'))\n",
    "data['sqft'] = data['sqft'].apply(lambda x: str(x).replace('-',  ','))"
   ]
  },
  {
   "cell_type": "code",
   "execution_count": null,
   "id": "f8b485a1",
   "metadata": {
    "execution": {
     "iopub.execute_input": "2022-01-13T18:39:40.602633Z",
     "iopub.status.busy": "2022-01-13T18:39:40.601842Z",
     "iopub.status.idle": "2022-01-13T18:39:40.835209Z",
     "shell.execute_reply": "2022-01-13T18:39:40.834589Z",
     "shell.execute_reply.started": "2022-01-13T18:24:49.380159Z"
    },
    "papermill": {
     "duration": 0.438641,
     "end_time": "2022-01-13T18:39:40.835380",
     "exception": false,
     "start_time": "2022-01-13T18:39:40.396739",
     "status": "completed"
    },
    "tags": []
   },
   "outputs": [],
   "source": [
    "data['sqft'] = data['sqft'].apply(lambda x: str(x).replace('nan', '1000'))\n",
    "\n",
    "def null(x):\n",
    "    if x == '0':\n",
    "        return '1000'\n",
    "    else:\n",
    "        return x\n",
    "    \n",
    "data['sqft'] = data['sqft'].apply(null)   "
   ]
  },
  {
   "cell_type": "code",
   "execution_count": null,
   "id": "8eac263f",
   "metadata": {
    "execution": {
     "iopub.execute_input": "2022-01-13T18:39:41.227315Z",
     "iopub.status.busy": "2022-01-13T18:39:41.226611Z",
     "iopub.status.idle": "2022-01-13T18:39:42.078658Z",
     "shell.execute_reply": "2022-01-13T18:39:42.078017Z",
     "shell.execute_reply.started": "2022-01-13T18:24:49.674434Z"
    },
    "papermill": {
     "duration": 1.050879,
     "end_time": "2022-01-13T18:39:42.078811",
     "exception": false,
     "start_time": "2022-01-13T18:39:41.027932",
     "status": "completed"
    },
    "tags": []
   },
   "outputs": [],
   "source": [
    "def create_sqft(x):\n",
    "    x = re.sub('[^0-9]', '', x)\n",
    "    x = int(x)\n",
    "    return x\n",
    "\n",
    "data['sqft'] = data['sqft'].apply(create_sqft)\n",
    "data['sqft'].describe()"
   ]
  },
  {
   "cell_type": "code",
   "execution_count": null,
   "id": "bca7ba72",
   "metadata": {
    "execution": {
     "iopub.execute_input": "2022-01-13T18:39:42.485005Z",
     "iopub.status.busy": "2022-01-13T18:39:42.483753Z",
     "iopub.status.idle": "2022-01-13T18:39:42.525342Z",
     "shell.execute_reply": "2022-01-13T18:39:42.524639Z",
     "shell.execute_reply.started": "2022-01-13T18:24:50.798791Z"
    },
    "papermill": {
     "duration": 0.241339,
     "end_time": "2022-01-13T18:39:42.525516",
     "exception": false,
     "start_time": "2022-01-13T18:39:42.284177",
     "status": "completed"
    },
    "tags": []
   },
   "outputs": [],
   "source": [
    "info_rewiev(data['sqft'])"
   ]
  },
  {
   "cell_type": "code",
   "execution_count": null,
   "id": "c502e72f",
   "metadata": {
    "execution": {
     "iopub.execute_input": "2022-01-13T18:39:42.939547Z",
     "iopub.status.busy": "2022-01-13T18:39:42.938863Z",
     "iopub.status.idle": "2022-01-13T18:39:42.946220Z",
     "shell.execute_reply": "2022-01-13T18:39:42.946688Z",
     "shell.execute_reply.started": "2022-01-13T18:24:50.837142Z"
    },
    "papermill": {
     "duration": 0.215062,
     "end_time": "2022-01-13T18:39:42.946904",
     "exception": false,
     "start_time": "2022-01-13T18:39:42.731842",
     "status": "completed"
    },
    "tags": []
   },
   "outputs": [],
   "source": [
    "data['sqft'] = data['sqft'].astype('float')"
   ]
  },
  {
   "cell_type": "code",
   "execution_count": null,
   "id": "279ccda3",
   "metadata": {
    "execution": {
     "iopub.execute_input": "2022-01-13T18:39:43.389024Z",
     "iopub.status.busy": "2022-01-13T18:39:43.388313Z",
     "iopub.status.idle": "2022-01-13T18:39:43.840762Z",
     "shell.execute_reply": "2022-01-13T18:39:43.839283Z",
     "shell.execute_reply.started": "2022-01-13T18:24:50.846113Z"
    },
    "papermill": {
     "duration": 0.694195,
     "end_time": "2022-01-13T18:39:43.841028",
     "exception": false,
     "start_time": "2022-01-13T18:39:43.146833",
     "status": "completed"
    },
    "tags": []
   },
   "outputs": [],
   "source": [
    "np.log(data['sqft']+1).hist(bins=100)"
   ]
  },
  {
   "cell_type": "code",
   "execution_count": null,
   "id": "8d36a813",
   "metadata": {
    "execution": {
     "iopub.execute_input": "2022-01-13T18:39:44.257562Z",
     "iopub.status.busy": "2022-01-13T18:39:44.256771Z",
     "iopub.status.idle": "2022-01-13T18:39:44.781364Z",
     "shell.execute_reply": "2022-01-13T18:39:44.780717Z",
     "shell.execute_reply.started": "2022-01-13T18:24:51.257113Z"
    },
    "papermill": {
     "duration": 0.731837,
     "end_time": "2022-01-13T18:39:44.781527",
     "exception": false,
     "start_time": "2022-01-13T18:39:44.049690",
     "status": "completed"
    },
    "tags": []
   },
   "outputs": [],
   "source": [
    "data['sqft'] = data['sqft'].apply(lambda x: np.log(x+1))"
   ]
  },
  {
   "cell_type": "code",
   "execution_count": null,
   "id": "38e3d5af",
   "metadata": {
    "execution": {
     "iopub.execute_input": "2022-01-13T18:39:45.178609Z",
     "iopub.status.busy": "2022-01-13T18:39:45.177527Z",
     "iopub.status.idle": "2022-01-13T18:39:45.229584Z",
     "shell.execute_reply": "2022-01-13T18:39:45.230146Z",
     "shell.execute_reply.started": "2022-01-13T18:24:52.097998Z"
    },
    "papermill": {
     "duration": 0.254735,
     "end_time": "2022-01-13T18:39:45.230349",
     "exception": false,
     "start_time": "2022-01-13T18:39:44.975614",
     "status": "completed"
    },
    "tags": []
   },
   "outputs": [],
   "source": [
    "info_rewiev(data['sqft'])"
   ]
  },
  {
   "cell_type": "code",
   "execution_count": null,
   "id": "68688635",
   "metadata": {
    "execution": {
     "iopub.execute_input": "2022-01-13T18:39:45.628820Z",
     "iopub.status.busy": "2022-01-13T18:39:45.627758Z",
     "iopub.status.idle": "2022-01-13T18:39:45.632027Z",
     "shell.execute_reply": "2022-01-13T18:39:45.632505Z",
     "shell.execute_reply.started": "2022-01-13T18:24:52.143814Z"
    },
    "papermill": {
     "duration": 0.204771,
     "end_time": "2022-01-13T18:39:45.632722",
     "exception": false,
     "start_time": "2022-01-13T18:39:45.427951",
     "status": "completed"
    },
    "tags": []
   },
   "outputs": [],
   "source": [
    "data_dict['sqft'] = 'Обработан'"
   ]
  },
  {
   "cell_type": "code",
   "execution_count": null,
   "id": "b7d3730c",
   "metadata": {
    "execution": {
     "iopub.execute_input": "2022-01-13T18:39:46.028853Z",
     "iopub.status.busy": "2022-01-13T18:39:46.028205Z",
     "iopub.status.idle": "2022-01-13T18:39:46.334184Z",
     "shell.execute_reply": "2022-01-13T18:39:46.333502Z",
     "shell.execute_reply.started": "2022-01-13T18:24:52.150324Z"
    },
    "papermill": {
     "duration": 0.506764,
     "end_time": "2022-01-13T18:39:46.334358",
     "exception": false,
     "start_time": "2022-01-13T18:39:45.827594",
     "status": "completed"
    },
    "tags": []
   },
   "outputs": [],
   "source": [
    "# create a sign how many schools around\n",
    "valid_list = []\n",
    "for x in list_scool_dict[:]:\n",
    "    valid_list.append(len(x))\n",
    "\n",
    "data['schools_around'] = valid_list\n",
    "\n",
    "def valid(n):\n",
    "    if n == 100:\n",
    "        return 'no info'\n",
    "    else:\n",
    "        return n\n",
    "    \n",
    "data['schools_around'] = data['schools_around'].apply(valid)   "
   ]
  },
  {
   "cell_type": "code",
   "execution_count": null,
   "id": "cdc3dc92",
   "metadata": {
    "execution": {
     "iopub.execute_input": "2022-01-13T18:39:46.748022Z",
     "iopub.status.busy": "2022-01-13T18:39:46.747256Z",
     "iopub.status.idle": "2022-01-13T18:39:46.775075Z",
     "shell.execute_reply": "2022-01-13T18:39:46.775750Z",
     "shell.execute_reply.started": "2022-01-13T18:24:52.653826Z"
    },
    "papermill": {
     "duration": 0.236935,
     "end_time": "2022-01-13T18:39:46.775953",
     "exception": false,
     "start_time": "2022-01-13T18:39:46.539018",
     "status": "completed"
    },
    "tags": []
   },
   "outputs": [],
   "source": [
    "info_rewiev(data['schools_around'])"
   ]
  },
  {
   "cell_type": "code",
   "execution_count": null,
   "id": "d0e586e5",
   "metadata": {
    "execution": {
     "iopub.execute_input": "2022-01-13T18:39:47.229429Z",
     "iopub.status.busy": "2022-01-13T18:39:47.228630Z",
     "iopub.status.idle": "2022-01-13T18:39:47.231498Z",
     "shell.execute_reply": "2022-01-13T18:39:47.232000Z",
     "shell.execute_reply.started": "2022-01-13T18:24:52.682150Z"
    },
    "papermill": {
     "duration": 0.256429,
     "end_time": "2022-01-13T18:39:47.232213",
     "exception": false,
     "start_time": "2022-01-13T18:39:46.975784",
     "status": "completed"
    },
    "tags": []
   },
   "outputs": [],
   "source": [
    "n_schools = list(data['schools_around'].value_counts()[0:9].keys())\n",
    "n_schools"
   ]
  },
  {
   "cell_type": "code",
   "execution_count": null,
   "id": "5889dd95",
   "metadata": {
    "execution": {
     "iopub.execute_input": "2022-01-13T18:39:47.667800Z",
     "iopub.status.busy": "2022-01-13T18:39:47.663441Z",
     "iopub.status.idle": "2022-01-13T18:39:47.741321Z",
     "shell.execute_reply": "2022-01-13T18:39:47.740689Z",
     "shell.execute_reply.started": "2022-01-13T18:24:52.695252Z"
    },
    "papermill": {
     "duration": 0.289734,
     "end_time": "2022-01-13T18:39:47.741518",
     "exception": false,
     "start_time": "2022-01-13T18:39:47.451784",
     "status": "completed"
    },
    "tags": []
   },
   "outputs": [],
   "source": [
    "def nm_schools(n):\n",
    "    if n in n_schools:\n",
    "        return n\n",
    "    else: return 'Other'\n",
    "\n",
    "data['schools_around'] = data['schools_around'].apply(nm_schools)"
   ]
  },
  {
   "cell_type": "code",
   "execution_count": null,
   "id": "90fb4e12",
   "metadata": {
    "execution": {
     "iopub.execute_input": "2022-01-13T18:39:48.159000Z",
     "iopub.status.busy": "2022-01-13T18:39:48.158257Z",
     "iopub.status.idle": "2022-01-13T18:39:48.870318Z",
     "shell.execute_reply": "2022-01-13T18:39:48.869648Z",
     "shell.execute_reply.started": "2022-01-13T18:24:52.815720Z"
    },
    "papermill": {
     "duration": 0.917728,
     "end_time": "2022-01-13T18:39:48.870516",
     "exception": false,
     "start_time": "2022-01-13T18:39:47.952788",
     "status": "completed"
    },
    "tags": []
   },
   "outputs": [],
   "source": [
    "hist_info(data['schools_around'])"
   ]
  },
  {
   "cell_type": "code",
   "execution_count": null,
   "id": "b47b6933",
   "metadata": {
    "execution": {
     "iopub.execute_input": "2022-01-13T18:39:49.339440Z",
     "iopub.status.busy": "2022-01-13T18:39:49.335173Z",
     "iopub.status.idle": "2022-01-13T18:39:49.609607Z",
     "shell.execute_reply": "2022-01-13T18:39:49.608818Z",
     "shell.execute_reply.started": "2022-01-13T18:24:53.916924Z"
    },
    "papermill": {
     "duration": 0.522881,
     "end_time": "2022-01-13T18:39:49.609799",
     "exception": false,
     "start_time": "2022-01-13T18:39:49.086918",
     "status": "completed"
    },
    "tags": []
   },
   "outputs": [],
   "source": [
    "visualisation(data['schools_around'])"
   ]
  },
  {
   "cell_type": "code",
   "execution_count": null,
   "id": "36697015",
   "metadata": {
    "execution": {
     "iopub.execute_input": "2022-01-13T18:39:50.038929Z",
     "iopub.status.busy": "2022-01-13T18:39:50.037729Z",
     "iopub.status.idle": "2022-01-13T18:39:50.040878Z",
     "shell.execute_reply": "2022-01-13T18:39:50.040278Z",
     "shell.execute_reply.started": "2022-01-13T18:24:54.252233Z"
    },
    "papermill": {
     "duration": 0.219668,
     "end_time": "2022-01-13T18:39:50.041085",
     "exception": false,
     "start_time": "2022-01-13T18:39:49.821417",
     "status": "completed"
    },
    "tags": []
   },
   "outputs": [],
   "source": [
    "data_dict['schools'] = 'Обработали'"
   ]
  },
  {
   "cell_type": "markdown",
   "id": "2cf3d610",
   "metadata": {
    "papermill": {
     "duration": 0.226864,
     "end_time": "2022-01-13T18:39:50.897348",
     "exception": false,
     "start_time": "2022-01-13T18:39:50.670484",
     "status": "completed"
    },
    "tags": []
   },
   "source": [
    "#EDA zipcode"
   ]
  },
  {
   "cell_type": "code",
   "execution_count": null,
   "id": "bf8bb661",
   "metadata": {
    "execution": {
     "iopub.execute_input": "2022-01-13T18:39:51.447183Z",
     "iopub.status.busy": "2022-01-13T18:39:51.446102Z",
     "iopub.status.idle": "2022-01-13T18:39:51.609028Z",
     "shell.execute_reply": "2022-01-13T18:39:51.608437Z",
     "shell.execute_reply.started": "2022-01-13T18:24:54.268762Z"
    },
    "papermill": {
     "duration": 0.500226,
     "end_time": "2022-01-13T18:39:51.609188",
     "exception": false,
     "start_time": "2022-01-13T18:39:51.108962",
     "status": "completed"
    },
    "tags": []
   },
   "outputs": [],
   "source": [
    "info_rewiev(data['zipcode'])"
   ]
  },
  {
   "cell_type": "code",
   "execution_count": null,
   "id": "9449c916",
   "metadata": {
    "execution": {
     "iopub.execute_input": "2022-01-13T18:39:52.015725Z",
     "iopub.status.busy": "2022-01-13T18:39:52.014907Z",
     "iopub.status.idle": "2022-01-13T18:39:52.017478Z",
     "shell.execute_reply": "2022-01-13T18:39:52.016801Z",
     "shell.execute_reply.started": "2022-01-13T18:24:54.559148Z"
    },
    "papermill": {
     "duration": 0.20822,
     "end_time": "2022-01-13T18:39:52.017675",
     "exception": false,
     "start_time": "2022-01-13T18:39:51.809455",
     "status": "completed"
    },
    "tags": []
   },
   "outputs": [],
   "source": [
    "data_dict['zipcode'] = 'Удалим, мало иформации'"
   ]
  },
  {
   "cell_type": "markdown",
   "id": "c4077424",
   "metadata": {
    "papermill": {
     "duration": 0.209552,
     "end_time": "2022-01-13T18:39:52.432192",
     "exception": false,
     "start_time": "2022-01-13T18:39:52.222640",
     "status": "completed"
    },
    "tags": []
   },
   "source": [
    "#EDA beds"
   ]
  },
  {
   "cell_type": "code",
   "execution_count": null,
   "id": "219e2325",
   "metadata": {
    "execution": {
     "iopub.execute_input": "2022-01-13T18:39:52.858764Z",
     "iopub.status.busy": "2022-01-13T18:39:52.857989Z",
     "iopub.status.idle": "2022-01-13T18:39:52.975446Z",
     "shell.execute_reply": "2022-01-13T18:39:52.976068Z",
     "shell.execute_reply.started": "2022-01-13T18:24:54.565953Z"
    },
    "papermill": {
     "duration": 0.339683,
     "end_time": "2022-01-13T18:39:52.976299",
     "exception": false,
     "start_time": "2022-01-13T18:39:52.636616",
     "status": "completed"
    },
    "tags": []
   },
   "outputs": [],
   "source": [
    "info_rewiev(data['beds'])"
   ]
  },
  {
   "cell_type": "code",
   "execution_count": null,
   "id": "06a31807",
   "metadata": {
    "execution": {
     "iopub.execute_input": "2022-01-13T18:39:53.428252Z",
     "iopub.status.busy": "2022-01-13T18:39:53.427401Z",
     "iopub.status.idle": "2022-01-13T18:39:53.433523Z",
     "shell.execute_reply": "2022-01-13T18:39:53.434000Z",
     "shell.execute_reply.started": "2022-01-13T18:24:54.843504Z"
    },
    "papermill": {
     "duration": 0.249532,
     "end_time": "2022-01-13T18:39:53.434250",
     "exception": false,
     "start_time": "2022-01-13T18:39:53.184718",
     "status": "completed"
    },
    "tags": []
   },
   "outputs": [],
   "source": [
    "#Let's clean up the data\n",
    "data['beds'].value_counts().head(20)"
   ]
  },
  {
   "cell_type": "code",
   "execution_count": null,
   "id": "0ebe4d21",
   "metadata": {
    "execution": {
     "iopub.execute_input": "2022-01-13T18:39:53.852393Z",
     "iopub.status.busy": "2022-01-13T18:39:53.850949Z",
     "iopub.status.idle": "2022-01-13T18:39:53.972605Z",
     "shell.execute_reply": "2022-01-13T18:39:53.971929Z",
     "shell.execute_reply.started": "2022-01-13T18:24:54.898671Z"
    },
    "papermill": {
     "duration": 0.330669,
     "end_time": "2022-01-13T18:39:53.972961",
     "exception": false,
     "start_time": "2022-01-13T18:39:53.642292",
     "status": "completed"
    },
    "tags": []
   },
   "outputs": [],
   "source": [
    "data['beds'] = data['beds'].apply(lambda x: str(x)[:1])"
   ]
  },
  {
   "cell_type": "code",
   "execution_count": null,
   "id": "21b8ca70",
   "metadata": {
    "execution": {
     "iopub.execute_input": "2022-01-13T18:39:54.400811Z",
     "iopub.status.busy": "2022-01-13T18:39:54.399108Z",
     "iopub.status.idle": "2022-01-13T18:39:54.481578Z",
     "shell.execute_reply": "2022-01-13T18:39:54.480904Z",
     "shell.execute_reply.started": "2022-01-13T18:24:55.087165Z"
    },
    "papermill": {
     "duration": 0.293772,
     "end_time": "2022-01-13T18:39:54.481763",
     "exception": false,
     "start_time": "2022-01-13T18:39:54.187991",
     "status": "completed"
    },
    "tags": []
   },
   "outputs": [],
   "source": [
    "data['beds'] = data['beds'].apply(lambda x: '1' if '1' in x else '2' if '2' in x else '3' if '3' in x \n",
    "                                  else '4' if '4' in x else '5' if '5' in x else '6/6+')"
   ]
  },
  {
   "cell_type": "code",
   "execution_count": null,
   "id": "02509db2",
   "metadata": {
    "execution": {
     "iopub.execute_input": "2022-01-13T18:39:54.914227Z",
     "iopub.status.busy": "2022-01-13T18:39:54.913073Z",
     "iopub.status.idle": "2022-01-13T18:39:54.917967Z",
     "shell.execute_reply": "2022-01-13T18:39:54.917342Z",
     "shell.execute_reply.started": "2022-01-13T18:24:55.218885Z"
    },
    "papermill": {
     "duration": 0.228334,
     "end_time": "2022-01-13T18:39:54.918154",
     "exception": false,
     "start_time": "2022-01-13T18:39:54.689820",
     "status": "completed"
    },
    "tags": []
   },
   "outputs": [],
   "source": [
    "data['beds'].value_counts().head(20)"
   ]
  },
  {
   "cell_type": "code",
   "execution_count": null,
   "id": "5d93dedf",
   "metadata": {
    "execution": {
     "iopub.execute_input": "2022-01-13T18:39:55.382857Z",
     "iopub.status.busy": "2022-01-13T18:39:55.347542Z",
     "iopub.status.idle": "2022-01-13T18:39:56.066756Z",
     "shell.execute_reply": "2022-01-13T18:39:56.067265Z",
     "shell.execute_reply.started": "2022-01-13T18:24:55.276416Z"
    },
    "papermill": {
     "duration": 0.94416,
     "end_time": "2022-01-13T18:39:56.067624",
     "exception": false,
     "start_time": "2022-01-13T18:39:55.123464",
     "status": "completed"
    },
    "tags": []
   },
   "outputs": [],
   "source": [
    "hist_info(data['beds'])"
   ]
  },
  {
   "cell_type": "code",
   "execution_count": null,
   "id": "28747771",
   "metadata": {
    "execution": {
     "iopub.execute_input": "2022-01-13T18:39:56.496374Z",
     "iopub.status.busy": "2022-01-13T18:39:56.495286Z",
     "iopub.status.idle": "2022-01-13T18:39:56.753012Z",
     "shell.execute_reply": "2022-01-13T18:39:56.752453Z",
     "shell.execute_reply.started": "2022-01-13T18:24:56.404268Z"
    },
    "papermill": {
     "duration": 0.476287,
     "end_time": "2022-01-13T18:39:56.753192",
     "exception": false,
     "start_time": "2022-01-13T18:39:56.276905",
     "status": "completed"
    },
    "tags": []
   },
   "outputs": [],
   "source": [
    "visualisation(data['beds'])"
   ]
  },
  {
   "cell_type": "code",
   "execution_count": null,
   "id": "dd696e30",
   "metadata": {
    "execution": {
     "iopub.execute_input": "2022-01-13T18:39:57.178890Z",
     "iopub.status.busy": "2022-01-13T18:39:57.178166Z",
     "iopub.status.idle": "2022-01-13T18:39:57.180008Z",
     "shell.execute_reply": "2022-01-13T18:39:57.180450Z",
     "shell.execute_reply.started": "2022-01-13T18:24:56.708913Z"
    },
    "papermill": {
     "duration": 0.217756,
     "end_time": "2022-01-13T18:39:57.180655",
     "exception": false,
     "start_time": "2022-01-13T18:39:56.962899",
     "status": "completed"
    },
    "tags": []
   },
   "outputs": [],
   "source": [
    "data_dict['beds'] = 'Переводим в категории'"
   ]
  },
  {
   "cell_type": "markdown",
   "id": "dddca216",
   "metadata": {
    "papermill": {
     "duration": 0.200436,
     "end_time": "2022-01-13T18:39:57.583942",
     "exception": false,
     "start_time": "2022-01-13T18:39:57.383506",
     "status": "completed"
    },
    "tags": []
   },
   "source": [
    "#EDA state"
   ]
  },
  {
   "cell_type": "code",
   "execution_count": null,
   "id": "252b540c",
   "metadata": {
    "execution": {
     "iopub.execute_input": "2022-01-13T18:39:58.004651Z",
     "iopub.status.busy": "2022-01-13T18:39:58.003587Z",
     "iopub.status.idle": "2022-01-13T18:39:58.141322Z",
     "shell.execute_reply": "2022-01-13T18:39:58.141882Z",
     "shell.execute_reply.started": "2022-01-13T18:24:56.714467Z"
    },
    "papermill": {
     "duration": 0.354629,
     "end_time": "2022-01-13T18:39:58.142124",
     "exception": false,
     "start_time": "2022-01-13T18:39:57.787495",
     "status": "completed"
    },
    "tags": []
   },
   "outputs": [],
   "source": [
    "info_rewiev(data['state'])"
   ]
  },
  {
   "cell_type": "code",
   "execution_count": null,
   "id": "b322a881",
   "metadata": {
    "execution": {
     "iopub.execute_input": "2022-01-13T18:39:58.597490Z",
     "iopub.status.busy": "2022-01-13T18:39:58.596551Z",
     "iopub.status.idle": "2022-01-13T18:39:58.779867Z",
     "shell.execute_reply": "2022-01-13T18:39:58.779189Z",
     "shell.execute_reply.started": "2022-01-13T18:24:56.988670Z"
    },
    "papermill": {
     "duration": 0.426064,
     "end_time": "2022-01-13T18:39:58.780058",
     "exception": false,
     "start_time": "2022-01-13T18:39:58.353994",
     "status": "completed"
    },
    "tags": []
   },
   "outputs": [],
   "source": [
    "states_h=list(data['state'].value_counts()[:2].keys())\n",
    "states_m=list(data['state'].value_counts()[2:7].keys())\n",
    "states_l=list(data['state'].value_counts()[7:].keys())\n",
    "def state_rang(name_st):\n",
    "    if name_st in states_h:\n",
    "        return 'states_h'\n",
    "    elif name_st in states_m:\n",
    "        return 'states_m'\n",
    "    else:\n",
    "        return 'states_l'        \n",
    "data['state_rang'] = data['state'].apply(lambda x: state_rang(x))\n",
    "data.head()"
   ]
  },
  {
   "cell_type": "code",
   "execution_count": null,
   "id": "16651cf8",
   "metadata": {
    "execution": {
     "iopub.execute_input": "2022-01-13T18:39:59.206457Z",
     "iopub.status.busy": "2022-01-13T18:39:59.205736Z",
     "iopub.status.idle": "2022-01-13T18:39:59.931010Z",
     "shell.execute_reply": "2022-01-13T18:39:59.930333Z",
     "shell.execute_reply.started": "2022-01-13T18:24:57.387172Z"
    },
    "papermill": {
     "duration": 0.941999,
     "end_time": "2022-01-13T18:39:59.931177",
     "exception": false,
     "start_time": "2022-01-13T18:39:58.989178",
     "status": "completed"
    },
    "tags": []
   },
   "outputs": [],
   "source": [
    "hist_info(data['state_rang'])"
   ]
  },
  {
   "cell_type": "code",
   "execution_count": null,
   "id": "860b0094",
   "metadata": {
    "execution": {
     "iopub.execute_input": "2022-01-13T18:40:00.384848Z",
     "iopub.status.busy": "2022-01-13T18:40:00.383505Z",
     "iopub.status.idle": "2022-01-13T18:40:00.603915Z",
     "shell.execute_reply": "2022-01-13T18:40:00.603348Z",
     "shell.execute_reply.started": "2022-01-13T18:24:58.559025Z"
    },
    "papermill": {
     "duration": 0.468653,
     "end_time": "2022-01-13T18:40:00.604122",
     "exception": false,
     "start_time": "2022-01-13T18:40:00.135469",
     "status": "completed"
    },
    "tags": []
   },
   "outputs": [],
   "source": [
    "visualisation(data['state_rang'])"
   ]
  },
  {
   "cell_type": "code",
   "execution_count": null,
   "id": "89954b5e",
   "metadata": {
    "execution": {
     "iopub.execute_input": "2022-01-13T18:40:01.040077Z",
     "iopub.status.busy": "2022-01-13T18:40:01.038854Z",
     "iopub.status.idle": "2022-01-13T18:40:01.040943Z",
     "shell.execute_reply": "2022-01-13T18:40:01.041475Z",
     "shell.execute_reply.started": "2022-01-13T18:24:58.845800Z"
    },
    "papermill": {
     "duration": 0.213846,
     "end_time": "2022-01-13T18:40:01.041669",
     "exception": false,
     "start_time": "2022-01-13T18:40:00.827823",
     "status": "completed"
    },
    "tags": []
   },
   "outputs": [],
   "source": [
    "data_dict['state'] = 'Обработано'\n",
    "data_dict['state_rating'] = 'Переводим в категории' "
   ]
  },
  {
   "cell_type": "markdown",
   "id": "aa405000",
   "metadata": {
    "papermill": {
     "duration": 0.210351,
     "end_time": "2022-01-13T18:40:01.463181",
     "exception": false,
     "start_time": "2022-01-13T18:40:01.252830",
     "status": "completed"
    },
    "tags": []
   },
   "source": [
    "#EDA mls-id"
   ]
  },
  {
   "cell_type": "code",
   "execution_count": null,
   "id": "da8daa46",
   "metadata": {
    "execution": {
     "iopub.execute_input": "2022-01-13T18:40:01.937860Z",
     "iopub.status.busy": "2022-01-13T18:40:01.936681Z",
     "iopub.status.idle": "2022-01-13T18:40:02.061904Z",
     "shell.execute_reply": "2022-01-13T18:40:02.062734Z",
     "shell.execute_reply.started": "2022-01-13T18:24:58.851696Z"
    },
    "papermill": {
     "duration": 0.389209,
     "end_time": "2022-01-13T18:40:02.063028",
     "exception": false,
     "start_time": "2022-01-13T18:40:01.673819",
     "status": "completed"
    },
    "tags": []
   },
   "outputs": [],
   "source": [
    "info_rewiev(data['mls-id'])"
   ]
  },
  {
   "cell_type": "code",
   "execution_count": null,
   "id": "b5b1ffbf",
   "metadata": {
    "execution": {
     "iopub.execute_input": "2022-01-13T18:40:02.501056Z",
     "iopub.status.busy": "2022-01-13T18:40:02.499069Z",
     "iopub.status.idle": "2022-01-13T18:40:02.503658Z",
     "shell.execute_reply": "2022-01-13T18:40:02.504229Z",
     "shell.execute_reply.started": "2022-01-13T18:24:59.022772Z"
    },
    "papermill": {
     "duration": 0.221977,
     "end_time": "2022-01-13T18:40:02.504444",
     "exception": false,
     "start_time": "2022-01-13T18:40:02.282467",
     "status": "completed"
    },
    "tags": []
   },
   "outputs": [],
   "source": [
    "#Uninformative data\n",
    "data_dict['mls-id'] = 'Удалим'"
   ]
  },
  {
   "cell_type": "markdown",
   "id": "89337a2f",
   "metadata": {
    "papermill": {
     "duration": 0.205742,
     "end_time": "2022-01-13T18:40:02.929430",
     "exception": false,
     "start_time": "2022-01-13T18:40:02.723688",
     "status": "completed"
    },
    "tags": []
   },
   "source": [
    "#EDA stories"
   ]
  },
  {
   "cell_type": "code",
   "execution_count": null,
   "id": "f459d5f9",
   "metadata": {
    "execution": {
     "iopub.execute_input": "2022-01-13T18:40:03.429468Z",
     "iopub.status.busy": "2022-01-13T18:40:03.428417Z",
     "iopub.status.idle": "2022-01-13T18:40:03.564811Z",
     "shell.execute_reply": "2022-01-13T18:40:03.566020Z",
     "shell.execute_reply.started": "2022-01-13T18:24:59.029568Z"
    },
    "papermill": {
     "duration": 0.346454,
     "end_time": "2022-01-13T18:40:03.566293",
     "exception": false,
     "start_time": "2022-01-13T18:40:03.219839",
     "status": "completed"
    },
    "tags": []
   },
   "outputs": [],
   "source": [
    "info_rewiev(data['stories'])"
   ]
  },
  {
   "cell_type": "code",
   "execution_count": null,
   "id": "3b2da1fc",
   "metadata": {
    "execution": {
     "iopub.execute_input": "2022-01-13T18:40:04.002527Z",
     "iopub.status.busy": "2022-01-13T18:40:04.001785Z",
     "iopub.status.idle": "2022-01-13T18:40:04.010210Z",
     "shell.execute_reply": "2022-01-13T18:40:04.010841Z",
     "shell.execute_reply.started": "2022-01-13T18:24:59.269535Z"
    },
    "papermill": {
     "duration": 0.24025,
     "end_time": "2022-01-13T18:40:04.011071",
     "exception": false,
     "start_time": "2022-01-13T18:40:03.770821",
     "status": "completed"
    },
    "tags": []
   },
   "outputs": [],
   "source": [
    "data['stories'].value_counts(dropna=False).head(20)"
   ]
  },
  {
   "cell_type": "code",
   "execution_count": null,
   "id": "e28e413e",
   "metadata": {
    "execution": {
     "iopub.execute_input": "2022-01-13T18:40:04.429500Z",
     "iopub.status.busy": "2022-01-13T18:40:04.428212Z",
     "iopub.status.idle": "2022-01-13T18:40:05.336838Z",
     "shell.execute_reply": "2022-01-13T18:40:05.337403Z",
     "shell.execute_reply.started": "2022-01-13T18:24:59.322611Z"
    },
    "papermill": {
     "duration": 1.119112,
     "end_time": "2022-01-13T18:40:05.337611",
     "exception": false,
     "start_time": "2022-01-13T18:40:04.218499",
     "status": "completed"
    },
    "tags": []
   },
   "outputs": [],
   "source": [
    "data['stories'] = data['stories'].apply(lambda x: str(x).lower())\n",
    "data['stories'] = data['stories'].apply(lambda x: 1 if '1' in str(x) else x)\n",
    "data['stories'] = data['stories'].apply(lambda x: 1 if 'one' in str(x) else x)\n",
    "data['stories'] = data['stories'].apply(lambda x: 2 if '2' in str(x) else x)\n",
    "data['stories'] = data['stories'].apply(lambda x: 2 if 'two' in str(x) else x)\n",
    "data['stories'] = data['stories'].apply(lambda x: 3 if '3' in str(x) else x)\n",
    "data['stories'] = data['stories'].apply(lambda x: 3 if 'three' in str(x) else x)"
   ]
  },
  {
   "cell_type": "code",
   "execution_count": null,
   "id": "fdd8a333",
   "metadata": {
    "execution": {
     "iopub.execute_input": "2022-01-13T18:40:05.753576Z",
     "iopub.status.busy": "2022-01-13T18:40:05.752817Z",
     "iopub.status.idle": "2022-01-13T18:40:05.786783Z",
     "shell.execute_reply": "2022-01-13T18:40:05.787259Z",
     "shell.execute_reply.started": "2022-01-13T18:25:00.494708Z"
    },
    "papermill": {
     "duration": 0.242464,
     "end_time": "2022-01-13T18:40:05.787456",
     "exception": false,
     "start_time": "2022-01-13T18:40:05.544992",
     "status": "completed"
    },
    "tags": []
   },
   "outputs": [],
   "source": [
    "data['stories'].value_counts().head(10)"
   ]
  },
  {
   "cell_type": "code",
   "execution_count": null,
   "id": "b2dd0a36",
   "metadata": {
    "execution": {
     "iopub.execute_input": "2022-01-13T18:40:06.218785Z",
     "iopub.status.busy": "2022-01-13T18:40:06.217482Z",
     "iopub.status.idle": "2022-01-13T18:40:06.329785Z",
     "shell.execute_reply": "2022-01-13T18:40:06.330299Z",
     "shell.execute_reply.started": "2022-01-13T18:25:00.562213Z"
    },
    "papermill": {
     "duration": 0.338798,
     "end_time": "2022-01-13T18:40:06.330519",
     "exception": false,
     "start_time": "2022-01-13T18:40:05.991721",
     "status": "completed"
    },
    "tags": []
   },
   "outputs": [],
   "source": [
    "def story_changed(story):\n",
    "    if story == 1: return 'Two'\n",
    "    elif story == 2: return 'One'\n",
    "    elif story == 3: return 'Three'\n",
    "    elif story == 'nan': return 'No info'\n",
    "    else: return 'Other'\n",
    "    \n",
    "data['stories'] = data['stories'].apply(lambda x: story_changed(x))    "
   ]
  },
  {
   "cell_type": "code",
   "execution_count": null,
   "id": "11c2bc86",
   "metadata": {
    "execution": {
     "iopub.execute_input": "2022-01-13T18:40:06.754093Z",
     "iopub.status.busy": "2022-01-13T18:40:06.753007Z",
     "iopub.status.idle": "2022-01-13T18:40:07.513035Z",
     "shell.execute_reply": "2022-01-13T18:40:07.513612Z",
     "shell.execute_reply.started": "2022-01-13T18:25:00.744610Z"
    },
    "papermill": {
     "duration": 0.972472,
     "end_time": "2022-01-13T18:40:07.513819",
     "exception": false,
     "start_time": "2022-01-13T18:40:06.541347",
     "status": "completed"
    },
    "tags": []
   },
   "outputs": [],
   "source": [
    "hist_info(data['stories'])"
   ]
  },
  {
   "cell_type": "code",
   "execution_count": null,
   "id": "986d724a",
   "metadata": {
    "execution": {
     "iopub.execute_input": "2022-01-13T18:40:07.969869Z",
     "iopub.status.busy": "2022-01-13T18:40:07.968624Z",
     "iopub.status.idle": "2022-01-13T18:40:08.206723Z",
     "shell.execute_reply": "2022-01-13T18:40:08.205714Z",
     "shell.execute_reply.started": "2022-01-13T18:25:01.887930Z"
    },
    "papermill": {
     "duration": 0.47976,
     "end_time": "2022-01-13T18:40:08.206911",
     "exception": false,
     "start_time": "2022-01-13T18:40:07.727151",
     "status": "completed"
    },
    "tags": []
   },
   "outputs": [],
   "source": [
    "visualisation(data['stories'])"
   ]
  },
  {
   "cell_type": "code",
   "execution_count": null,
   "id": "73e4f838",
   "metadata": {
    "execution": {
     "iopub.execute_input": "2022-01-13T18:40:08.633646Z",
     "iopub.status.busy": "2022-01-13T18:40:08.632901Z",
     "iopub.status.idle": "2022-01-13T18:40:08.635519Z",
     "shell.execute_reply": "2022-01-13T18:40:08.635917Z",
     "shell.execute_reply.started": "2022-01-13T18:25:02.181530Z"
    },
    "papermill": {
     "duration": 0.21637,
     "end_time": "2022-01-13T18:40:08.636163",
     "exception": false,
     "start_time": "2022-01-13T18:40:08.419793",
     "status": "completed"
    },
    "tags": []
   },
   "outputs": [],
   "source": [
    "data_dict['stories'] = 'Переведем в категории'"
   ]
  },
  {
   "cell_type": "markdown",
   "id": "5c8e1963",
   "metadata": {
    "papermill": {
     "duration": 0.206337,
     "end_time": "2022-01-13T18:40:09.048893",
     "exception": false,
     "start_time": "2022-01-13T18:40:08.842556",
     "status": "completed"
    },
    "tags": []
   },
   "source": [
    "#EDA PrivatePool"
   ]
  },
  {
   "cell_type": "code",
   "execution_count": null,
   "id": "c79ea326",
   "metadata": {
    "execution": {
     "iopub.execute_input": "2022-01-13T18:40:09.498161Z",
     "iopub.status.busy": "2022-01-13T18:40:09.497383Z",
     "iopub.status.idle": "2022-01-13T18:40:09.580677Z",
     "shell.execute_reply": "2022-01-13T18:40:09.579994Z",
     "shell.execute_reply.started": "2022-01-13T18:25:02.188009Z"
    },
    "papermill": {
     "duration": 0.321288,
     "end_time": "2022-01-13T18:40:09.580846",
     "exception": false,
     "start_time": "2022-01-13T18:40:09.259558",
     "status": "completed"
    },
    "tags": []
   },
   "outputs": [],
   "source": [
    "info_rewiev(data['PrivatePool'])"
   ]
  },
  {
   "cell_type": "code",
   "execution_count": null,
   "id": "d07bcdb4",
   "metadata": {
    "execution": {
     "iopub.execute_input": "2022-01-13T18:40:10.010008Z",
     "iopub.status.busy": "2022-01-13T18:40:10.009260Z",
     "iopub.status.idle": "2022-01-13T18:40:10.287855Z",
     "shell.execute_reply": "2022-01-13T18:40:10.287220Z",
     "shell.execute_reply.started": "2022-01-13T18:25:02.353940Z"
    },
    "papermill": {
     "duration": 0.496197,
     "end_time": "2022-01-13T18:40:10.288070",
     "exception": false,
     "start_time": "2022-01-13T18:40:09.791873",
     "status": "completed"
    },
    "tags": []
   },
   "outputs": [],
   "source": [
    "data['PrivatePool'] = data['PrivatePool'].apply(lambda x: str(x).lower())\n",
    "\n",
    "def pool_yes(pool):\n",
    "    if pool == 'yes': return 'info available'\n",
    "    else: return 'no info'\n",
    "    \n",
    "data['PrivatePool'] = data['PrivatePool'].apply(lambda x: pool_yes(x))   "
   ]
  },
  {
   "cell_type": "code",
   "execution_count": null,
   "id": "6e2e7717",
   "metadata": {
    "execution": {
     "iopub.execute_input": "2022-01-13T18:40:10.734315Z",
     "iopub.status.busy": "2022-01-13T18:40:10.733628Z",
     "iopub.status.idle": "2022-01-13T18:40:11.496681Z",
     "shell.execute_reply": "2022-01-13T18:40:11.496097Z",
     "shell.execute_reply.started": "2022-01-13T18:25:02.730232Z"
    },
    "papermill": {
     "duration": 1.000448,
     "end_time": "2022-01-13T18:40:11.496856",
     "exception": false,
     "start_time": "2022-01-13T18:40:10.496408",
     "status": "completed"
    },
    "tags": []
   },
   "outputs": [],
   "source": [
    "hist_info(data['PrivatePool'])"
   ]
  },
  {
   "cell_type": "code",
   "execution_count": null,
   "id": "f59f5b8c",
   "metadata": {
    "execution": {
     "iopub.execute_input": "2022-01-13T18:40:11.963477Z",
     "iopub.status.busy": "2022-01-13T18:40:11.962012Z",
     "iopub.status.idle": "2022-01-13T18:40:12.166133Z",
     "shell.execute_reply": "2022-01-13T18:40:12.166572Z",
     "shell.execute_reply.started": "2022-01-13T18:25:04.056263Z"
    },
    "papermill": {
     "duration": 0.452058,
     "end_time": "2022-01-13T18:40:12.166800",
     "exception": false,
     "start_time": "2022-01-13T18:40:11.714742",
     "status": "completed"
    },
    "tags": []
   },
   "outputs": [],
   "source": [
    "visualisation(data['PrivatePool'])"
   ]
  },
  {
   "cell_type": "code",
   "execution_count": null,
   "id": "c9b17803",
   "metadata": {
    "execution": {
     "iopub.execute_input": "2022-01-13T18:40:12.589002Z",
     "iopub.status.busy": "2022-01-13T18:40:12.588259Z",
     "iopub.status.idle": "2022-01-13T18:40:12.592704Z",
     "shell.execute_reply": "2022-01-13T18:40:12.593342Z",
     "shell.execute_reply.started": "2022-01-13T18:25:04.333778Z"
    },
    "papermill": {
     "duration": 0.219862,
     "end_time": "2022-01-13T18:40:12.593596",
     "exception": false,
     "start_time": "2022-01-13T18:40:12.373734",
     "status": "completed"
    },
    "tags": []
   },
   "outputs": [],
   "source": [
    "data_dict['PrivatePool'] = 'Обработано'"
   ]
  },
  {
   "cell_type": "markdown",
   "id": "d239a791",
   "metadata": {
    "papermill": {
     "duration": 0.209191,
     "end_time": "2022-01-13T18:40:14.468410",
     "exception": false,
     "start_time": "2022-01-13T18:40:14.259219",
     "status": "completed"
    },
    "tags": []
   },
   "source": [
    "#EDA MlsId"
   ]
  },
  {
   "cell_type": "code",
   "execution_count": null,
   "id": "02fa7be8",
   "metadata": {
    "execution": {
     "iopub.execute_input": "2022-01-13T18:40:14.900275Z",
     "iopub.status.busy": "2022-01-13T18:40:14.899491Z",
     "iopub.status.idle": "2022-01-13T18:40:15.869123Z",
     "shell.execute_reply": "2022-01-13T18:40:15.869795Z",
     "shell.execute_reply.started": "2022-01-13T18:25:05.068299Z"
    },
    "papermill": {
     "duration": 1.184537,
     "end_time": "2022-01-13T18:40:15.870036",
     "exception": false,
     "start_time": "2022-01-13T18:40:14.685499",
     "status": "completed"
    },
    "tags": []
   },
   "outputs": [],
   "source": [
    "info_rewiev(data['MlsId'])"
   ]
  },
  {
   "cell_type": "code",
   "execution_count": null,
   "id": "d2bd5c96",
   "metadata": {
    "execution": {
     "iopub.execute_input": "2022-01-13T18:40:16.347268Z",
     "iopub.status.busy": "2022-01-13T18:40:16.346305Z",
     "iopub.status.idle": "2022-01-13T18:40:16.350177Z",
     "shell.execute_reply": "2022-01-13T18:40:16.350934Z",
     "shell.execute_reply.started": "2022-01-13T18:25:05.796502Z"
    },
    "papermill": {
     "duration": 0.246567,
     "end_time": "2022-01-13T18:40:16.351225",
     "exception": false,
     "start_time": "2022-01-13T18:40:16.104658",
     "status": "completed"
    },
    "tags": []
   },
   "outputs": [],
   "source": [
    "# Uninvormative data\n",
    "data_dict['MlsId'] = 'Удаляем'"
   ]
  },
  {
   "cell_type": "markdown",
   "id": "31cb35a1",
   "metadata": {
    "papermill": {
     "duration": 0.226619,
     "end_time": "2022-01-13T18:40:16.816797",
     "exception": false,
     "start_time": "2022-01-13T18:40:16.590178",
     "status": "completed"
    },
    "tags": []
   },
   "source": [
    "#EDA target"
   ]
  },
  {
   "cell_type": "code",
   "execution_count": null,
   "id": "b19a8aed",
   "metadata": {
    "execution": {
     "iopub.execute_input": "2022-01-13T18:40:17.287069Z",
     "iopub.status.busy": "2022-01-13T18:40:17.262817Z",
     "iopub.status.idle": "2022-01-13T18:40:17.593861Z",
     "shell.execute_reply": "2022-01-13T18:40:17.594384Z",
     "shell.execute_reply.started": "2022-01-13T18:25:05.802754Z"
    },
    "papermill": {
     "duration": 0.553954,
     "end_time": "2022-01-13T18:40:17.594606",
     "exception": false,
     "start_time": "2022-01-13T18:40:17.040652",
     "status": "completed"
    },
    "tags": []
   },
   "outputs": [],
   "source": [
    "info_rewiev(data['target'])"
   ]
  },
  {
   "cell_type": "code",
   "execution_count": null,
   "id": "63220ff4",
   "metadata": {
    "execution": {
     "iopub.execute_input": "2022-01-13T18:40:18.043866Z",
     "iopub.status.busy": "2022-01-13T18:40:18.036993Z",
     "iopub.status.idle": "2022-01-13T18:40:19.049647Z",
     "shell.execute_reply": "2022-01-13T18:40:19.050255Z",
     "shell.execute_reply.started": "2022-01-13T18:25:06.150339Z"
    },
    "papermill": {
     "duration": 1.238476,
     "end_time": "2022-01-13T18:40:19.050481",
     "exception": false,
     "start_time": "2022-01-13T18:40:17.812005",
     "status": "completed"
    },
    "tags": []
   },
   "outputs": [],
   "source": [
    "data['target'] = data['target'].apply(lambda x: str(x).replace('$',''))\n",
    "data['target'] = data['target'].apply(lambda x: str(x).replace('+',''))\n",
    "data['target'] = data['target'].apply(lambda x: str(x).replace(' - ',''))\n",
    "data['target'] = data['target'].apply(lambda x: str(x).replace('-',''))\n",
    "data['target'] = data['target'].apply(lambda x: str(x).replace('/mo','000'))\n",
    "data['target'] = data['target'].apply(lambda x: str(x).replace('nan','225,000'))\n",
    "data['target'] = data['target'].apply(lambda x: x.replace('27603-4374', '23229'))"
   ]
  },
  {
   "cell_type": "code",
   "execution_count": null,
   "id": "84ff0ac7",
   "metadata": {
    "execution": {
     "iopub.execute_input": "2022-01-13T18:40:19.500533Z",
     "iopub.status.busy": "2022-01-13T18:40:19.499715Z",
     "iopub.status.idle": "2022-01-13T18:40:20.386126Z",
     "shell.execute_reply": "2022-01-13T18:40:20.386663Z",
     "shell.execute_reply.started": "2022-01-13T18:25:07.384296Z"
    },
    "papermill": {
     "duration": 1.106358,
     "end_time": "2022-01-13T18:40:20.386869",
     "exception": false,
     "start_time": "2022-01-13T18:40:19.280511",
     "status": "completed"
    },
    "tags": []
   },
   "outputs": [],
   "source": [
    "def target_parsing(x):\n",
    "    x = re.sub('[^0-9]', '', x)\n",
    "    x = int(x)\n",
    "    return x\n",
    "\n",
    "data['target'] = data['target'].apply(target_parsing)\n",
    "data['target'].describe"
   ]
  },
  {
   "cell_type": "code",
   "execution_count": null,
   "id": "785f20eb",
   "metadata": {
    "execution": {
     "iopub.execute_input": "2022-01-13T18:40:20.830271Z",
     "iopub.status.busy": "2022-01-13T18:40:20.828761Z",
     "iopub.status.idle": "2022-01-13T18:40:20.846670Z",
     "shell.execute_reply": "2022-01-13T18:40:20.847143Z",
     "shell.execute_reply.started": "2022-01-13T18:25:08.612071Z"
    },
    "papermill": {
     "duration": 0.241056,
     "end_time": "2022-01-13T18:40:20.847363",
     "exception": false,
     "start_time": "2022-01-13T18:40:20.606307",
     "status": "completed"
    },
    "tags": []
   },
   "outputs": [],
   "source": [
    "data.target.min(), data.target.median(), data.target.mean(), data.target.max() "
   ]
  },
  {
   "cell_type": "code",
   "execution_count": null,
   "id": "3ac141f6",
   "metadata": {
    "execution": {
     "iopub.execute_input": "2022-01-13T18:40:21.285737Z",
     "iopub.status.busy": "2022-01-13T18:40:21.284536Z",
     "iopub.status.idle": "2022-01-13T18:40:21.793713Z",
     "shell.execute_reply": "2022-01-13T18:40:21.792525Z",
     "shell.execute_reply.started": "2022-01-13T18:25:08.628074Z"
    },
    "papermill": {
     "duration": 0.729156,
     "end_time": "2022-01-13T18:40:21.793910",
     "exception": false,
     "start_time": "2022-01-13T18:40:21.064754",
     "status": "completed"
    },
    "tags": []
   },
   "outputs": [],
   "source": [
    "np.log(data['target']+1).plot(kind='hist', grid=True, use_index=True, legend=True, bins=50, figsize=(9,7))"
   ]
  },
  {
   "cell_type": "code",
   "execution_count": null,
   "id": "e4b08b7b",
   "metadata": {
    "execution": {
     "iopub.execute_input": "2022-01-13T18:40:22.252019Z",
     "iopub.status.busy": "2022-01-13T18:40:22.251289Z",
     "iopub.status.idle": "2022-01-13T18:40:22.253546Z",
     "shell.execute_reply": "2022-01-13T18:40:22.254011Z",
     "shell.execute_reply.started": "2022-01-13T18:25:09.085943Z"
    },
    "papermill": {
     "duration": 0.231934,
     "end_time": "2022-01-13T18:40:22.254240",
     "exception": false,
     "start_time": "2022-01-13T18:40:22.022306",
     "status": "completed"
    },
    "tags": []
   },
   "outputs": [],
   "source": [
    "data_dict['target'] = 'Целевая переменная'"
   ]
  },
  {
   "cell_type": "code",
   "execution_count": null,
   "id": "fe849eca",
   "metadata": {
    "execution": {
     "iopub.execute_input": "2022-01-13T18:40:22.725226Z",
     "iopub.status.busy": "2022-01-13T18:40:22.724444Z",
     "iopub.status.idle": "2022-01-13T18:40:22.759416Z",
     "shell.execute_reply": "2022-01-13T18:40:22.760260Z",
     "shell.execute_reply.started": "2022-01-13T18:25:09.091883Z"
    },
    "papermill": {
     "duration": 0.283884,
     "end_time": "2022-01-13T18:40:22.760572",
     "exception": false,
     "start_time": "2022-01-13T18:40:22.476688",
     "status": "completed"
    },
    "tags": []
   },
   "outputs": [],
   "source": [
    "target_25 = int(data.target.quantile(25/100))\n",
    "target_50 = int(data.target.quantile(50/100))\n",
    "target_75 = int(data.target.quantile(75/100))\n",
    "\n",
    "print('25 квантиль:', target_25)\n",
    "print('50 квантиль:', target_50)\n",
    "print('75 квантиль:', target_75)"
   ]
  },
  {
   "cell_type": "code",
   "execution_count": null,
   "id": "c241ce11",
   "metadata": {
    "execution": {
     "iopub.execute_input": "2022-01-13T18:40:23.209675Z",
     "iopub.status.busy": "2022-01-13T18:40:23.208938Z",
     "iopub.status.idle": "2022-01-13T18:40:23.977297Z",
     "shell.execute_reply": "2022-01-13T18:40:23.976384Z",
     "shell.execute_reply.started": "2022-01-13T18:25:09.128790Z"
    },
    "papermill": {
     "duration": 0.991387,
     "end_time": "2022-01-13T18:40:23.977500",
     "exception": false,
     "start_time": "2022-01-13T18:40:22.986113",
     "status": "completed"
    },
    "tags": []
   },
   "outputs": [],
   "source": [
    "len(data[data['target'] < target_25])"
   ]
  },
  {
   "cell_type": "code",
   "execution_count": null,
   "id": "e9f231ee",
   "metadata": {
    "execution": {
     "iopub.execute_input": "2022-01-13T18:40:24.415479Z",
     "iopub.status.busy": "2022-01-13T18:40:24.414420Z",
     "iopub.status.idle": "2022-01-13T18:40:24.504181Z",
     "shell.execute_reply": "2022-01-13T18:40:24.504689Z",
     "shell.execute_reply.started": "2022-01-13T18:25:09.728192Z"
    },
    "papermill": {
     "duration": 0.310065,
     "end_time": "2022-01-13T18:40:24.504891",
     "exception": false,
     "start_time": "2022-01-13T18:40:24.194826",
     "status": "completed"
    },
    "tags": []
   },
   "outputs": [],
   "source": [
    "len(data[data['target'] > target_75])"
   ]
  },
  {
   "cell_type": "code",
   "execution_count": null,
   "id": "58f3d850",
   "metadata": {
    "execution": {
     "iopub.execute_input": "2022-01-13T18:40:24.934828Z",
     "iopub.status.busy": "2022-01-13T18:40:24.933774Z",
     "iopub.status.idle": "2022-01-13T18:40:25.081926Z",
     "shell.execute_reply": "2022-01-13T18:40:25.082458Z",
     "shell.execute_reply.started": "2022-01-13T18:25:09.800921Z"
    },
    "papermill": {
     "duration": 0.365722,
     "end_time": "2022-01-13T18:40:25.082682",
     "exception": false,
     "start_time": "2022-01-13T18:40:24.716960",
     "status": "completed"
    },
    "tags": []
   },
   "outputs": [],
   "source": [
    "len(data[(data['target'] >= target_25) & (data['target'] <= target_75)])"
   ]
  },
  {
   "cell_type": "code",
   "execution_count": null,
   "id": "36bee7a6",
   "metadata": {
    "execution": {
     "iopub.execute_input": "2022-01-13T18:40:25.547946Z",
     "iopub.status.busy": "2022-01-13T18:40:25.547193Z",
     "iopub.status.idle": "2022-01-13T18:40:26.285300Z",
     "shell.execute_reply": "2022-01-13T18:40:26.284082Z",
     "shell.execute_reply.started": "2022-01-13T18:25:09.913150Z"
    },
    "papermill": {
     "duration": 0.987033,
     "end_time": "2022-01-13T18:40:26.285508",
     "exception": false,
     "start_time": "2022-01-13T18:40:25.298475",
     "status": "completed"
    },
    "tags": []
   },
   "outputs": [],
   "source": [
    "boxplot = data.boxplot(column=['target'])"
   ]
  },
  {
   "cell_type": "code",
   "execution_count": null,
   "id": "4643c18f",
   "metadata": {
    "execution": {
     "iopub.execute_input": "2022-01-13T18:40:26.740662Z",
     "iopub.status.busy": "2022-01-13T18:40:26.739327Z",
     "iopub.status.idle": "2022-01-13T18:40:28.386704Z",
     "shell.execute_reply": "2022-01-13T18:40:28.387208Z",
     "shell.execute_reply.started": "2022-01-13T18:25:10.828193Z"
    },
    "papermill": {
     "duration": 1.883159,
     "end_time": "2022-01-13T18:40:28.387436",
     "exception": false,
     "start_time": "2022-01-13T18:40:26.504277",
     "status": "completed"
    },
    "tags": []
   },
   "outputs": [],
   "source": [
    "fig_dims = (8, 6)\n",
    "fig, ax = plt.subplots(figsize=fig_dims)\n",
    "sns.distplot(data['target'], ax=ax, bins=50)"
   ]
  },
  {
   "cell_type": "code",
   "execution_count": null,
   "id": "652e8093",
   "metadata": {
    "execution": {
     "iopub.execute_input": "2022-01-13T18:40:28.826503Z",
     "iopub.status.busy": "2022-01-13T18:40:28.824502Z",
     "iopub.status.idle": "2022-01-13T18:40:29.109702Z",
     "shell.execute_reply": "2022-01-13T18:40:29.109009Z",
     "shell.execute_reply.started": "2022-01-13T18:25:12.428819Z"
    },
    "papermill": {
     "duration": 0.503456,
     "end_time": "2022-01-13T18:40:29.109866",
     "exception": false,
     "start_time": "2022-01-13T18:40:28.606410",
     "status": "completed"
    },
    "tags": []
   },
   "outputs": [],
   "source": [
    "data = data.query(\"target != target.max()\")"
   ]
  },
  {
   "cell_type": "code",
   "execution_count": null,
   "id": "eda3d426",
   "metadata": {
    "execution": {
     "iopub.execute_input": "2022-01-13T18:40:29.552683Z",
     "iopub.status.busy": "2022-01-13T18:40:29.551507Z",
     "iopub.status.idle": "2022-01-13T18:40:29.796807Z",
     "shell.execute_reply": "2022-01-13T18:40:29.796205Z",
     "shell.execute_reply.started": "2022-01-13T18:25:12.622199Z"
    },
    "papermill": {
     "duration": 0.470813,
     "end_time": "2022-01-13T18:40:29.796998",
     "exception": false,
     "start_time": "2022-01-13T18:40:29.326185",
     "status": "completed"
    },
    "tags": []
   },
   "outputs": [],
   "source": [
    "delta = target_75-target_25\n",
    "\n",
    "def outliers_del(x):\n",
    "    if x < (target_25 - 1.5*delta):\n",
    "        return 0\n",
    "    elif x > (target_75 + 1.5*delta):\n",
    "        return 0\n",
    "    else: return 1\n",
    "    \n",
    "data['outliers'] = data['target'].apply(lambda x: outliers_del(x))  "
   ]
  },
  {
   "cell_type": "code",
   "execution_count": null,
   "id": "0492c050",
   "metadata": {
    "execution": {
     "iopub.execute_input": "2022-01-13T18:40:30.242195Z",
     "iopub.status.busy": "2022-01-13T18:40:30.241436Z",
     "iopub.status.idle": "2022-01-13T18:40:30.246069Z",
     "shell.execute_reply": "2022-01-13T18:40:30.245551Z",
     "shell.execute_reply.started": "2022-01-13T18:25:13.050759Z"
    },
    "papermill": {
     "duration": 0.229625,
     "end_time": "2022-01-13T18:40:30.246238",
     "exception": false,
     "start_time": "2022-01-13T18:40:30.016613",
     "status": "completed"
    },
    "tags": []
   },
   "outputs": [],
   "source": [
    "data['outliers'].value_counts()"
   ]
  },
  {
   "cell_type": "code",
   "execution_count": null,
   "id": "a3e187a6",
   "metadata": {
    "execution": {
     "iopub.execute_input": "2022-01-13T18:40:30.785900Z",
     "iopub.status.busy": "2022-01-13T18:40:30.785159Z",
     "iopub.status.idle": "2022-01-13T18:40:31.029256Z",
     "shell.execute_reply": "2022-01-13T18:40:31.029871Z",
     "shell.execute_reply.started": "2022-01-13T18:25:13.062528Z"
    },
    "papermill": {
     "duration": 0.469952,
     "end_time": "2022-01-13T18:40:31.030124",
     "exception": false,
     "start_time": "2022-01-13T18:40:30.560172",
     "status": "completed"
    },
    "tags": []
   },
   "outputs": [],
   "source": [
    "data = data.query(\"outliers == 1\")"
   ]
  },
  {
   "cell_type": "code",
   "execution_count": null,
   "id": "ce2d959d",
   "metadata": {
    "execution": {
     "iopub.execute_input": "2022-01-13T18:40:31.482814Z",
     "iopub.status.busy": "2022-01-13T18:40:31.482133Z",
     "iopub.status.idle": "2022-01-13T18:40:31.497927Z",
     "shell.execute_reply": "2022-01-13T18:40:31.497262Z",
     "shell.execute_reply.started": "2022-01-13T18:25:13.242525Z"
    },
    "papermill": {
     "duration": 0.24576,
     "end_time": "2022-01-13T18:40:31.498108",
     "exception": false,
     "start_time": "2022-01-13T18:40:31.252348",
     "status": "completed"
    },
    "tags": []
   },
   "outputs": [],
   "source": [
    "data.target.min(), data.target.mean(), data.target.median(), data.target.max()"
   ]
  },
  {
   "cell_type": "code",
   "execution_count": null,
   "id": "26528a40",
   "metadata": {
    "execution": {
     "iopub.execute_input": "2022-01-13T18:40:32.937168Z",
     "iopub.status.busy": "2022-01-13T18:40:32.936361Z",
     "iopub.status.idle": "2022-01-13T18:40:33.594796Z",
     "shell.execute_reply": "2022-01-13T18:40:33.594188Z",
     "shell.execute_reply.started": "2022-01-13T18:25:13.260833Z"
    },
    "papermill": {
     "duration": 1.854564,
     "end_time": "2022-01-13T18:40:33.595016",
     "exception": false,
     "start_time": "2022-01-13T18:40:31.740452",
     "status": "completed"
    },
    "tags": []
   },
   "outputs": [],
   "source": [
    "boxplot = data.boxplot(column=['target'])"
   ]
  },
  {
   "cell_type": "markdown",
   "id": "02c59323",
   "metadata": {
    "papermill": {
     "duration": 0.219018,
     "end_time": "2022-01-13T18:40:34.036103",
     "exception": false,
     "start_time": "2022-01-13T18:40:33.817085",
     "status": "completed"
    },
    "tags": []
   },
   "source": [
    "#EDA competed\n",
    "\n",
    "As you can see, the number of elements in one category differs from the number of elements in other categories, some data had to be excluded from further research. New features were created from some columns."
   ]
  },
  {
   "cell_type": "code",
   "execution_count": null,
   "id": "d620bce5",
   "metadata": {
    "execution": {
     "iopub.execute_input": "2022-01-13T18:40:34.476224Z",
     "iopub.status.busy": "2022-01-13T18:40:34.475433Z",
     "iopub.status.idle": "2022-01-13T18:40:35.091021Z",
     "shell.execute_reply": "2022-01-13T18:40:35.091547Z",
     "shell.execute_reply.started": "2022-01-13T18:25:14.063979Z"
    },
    "papermill": {
     "duration": 0.835886,
     "end_time": "2022-01-13T18:40:35.091756",
     "exception": false,
     "start_time": "2022-01-13T18:40:34.255870",
     "status": "completed"
    },
    "tags": []
   },
   "outputs": [],
   "source": [
    "data.info()"
   ]
  },
  {
   "cell_type": "code",
   "execution_count": null,
   "id": "6f7ea450",
   "metadata": {
    "execution": {
     "iopub.execute_input": "2022-01-13T18:40:35.554713Z",
     "iopub.status.busy": "2022-01-13T18:40:35.553912Z",
     "iopub.status.idle": "2022-01-13T18:40:35.574900Z",
     "shell.execute_reply": "2022-01-13T18:40:35.574186Z",
     "shell.execute_reply.started": "2022-01-13T18:25:15.064790Z"
    },
    "papermill": {
     "duration": 0.260045,
     "end_time": "2022-01-13T18:40:35.575082",
     "exception": false,
     "start_time": "2022-01-13T18:40:35.315037",
     "status": "completed"
    },
    "tags": []
   },
   "outputs": [],
   "source": [
    "data.head()"
   ]
  },
  {
   "cell_type": "code",
   "execution_count": null,
   "id": "4b700d0c",
   "metadata": {
    "execution": {
     "iopub.execute_input": "2022-01-13T18:40:36.037690Z",
     "iopub.status.busy": "2022-01-13T18:40:36.036858Z",
     "iopub.status.idle": "2022-01-13T18:40:36.040378Z",
     "shell.execute_reply": "2022-01-13T18:40:36.039808Z",
     "shell.execute_reply.started": "2022-01-13T18:25:15.100615Z"
    },
    "papermill": {
     "duration": 0.232115,
     "end_time": "2022-01-13T18:40:36.040557",
     "exception": false,
     "start_time": "2022-01-13T18:40:35.808442",
     "status": "completed"
    },
    "tags": []
   },
   "outputs": [],
   "source": [
    "category_cols=[]\n",
    "cols_drop=[]\n",
    "number_cols=[]\n",
    "\n",
    "cols_drop += ['status','private pool','propertyType','street','street_t','baths','homeFacts',\n",
    "                'fireplace_grad','city','schools','zipcode','state','mls-id','MlsId','year_built','dv','distance']\n",
    "category_cols += ['status_rating','property_rating','number_prop_descr','street_type','number_bath','fireplace',\n",
    "            'city_rating','beds','state_rang','stories','PrivatePool', 'schools_around', 'house_status','path_school']\n",
    "number_cols += ['sqft','distance_upd']"
   ]
  },
  {
   "cell_type": "code",
   "execution_count": null,
   "id": "95065e1b",
   "metadata": {
    "execution": {
     "iopub.execute_input": "2022-01-13T18:40:36.507840Z",
     "iopub.status.busy": "2022-01-13T18:40:36.506775Z",
     "iopub.status.idle": "2022-01-13T18:40:36.511439Z",
     "shell.execute_reply": "2022-01-13T18:40:36.510844Z",
     "shell.execute_reply.started": "2022-01-13T18:25:15.108399Z"
    },
    "papermill": {
     "duration": 0.238593,
     "end_time": "2022-01-13T18:40:36.511610",
     "exception": false,
     "start_time": "2022-01-13T18:40:36.273017",
     "status": "completed"
    },
    "tags": []
   },
   "outputs": [],
   "source": [
    "len(data.columns), len(cols_drop) + len(category_cols) + len(number_cols)"
   ]
  },
  {
   "cell_type": "code",
   "execution_count": null,
   "id": "6a821f9c",
   "metadata": {
    "execution": {
     "iopub.execute_input": "2022-01-13T18:40:36.963381Z",
     "iopub.status.busy": "2022-01-13T18:40:36.960916Z",
     "iopub.status.idle": "2022-01-13T18:40:37.135438Z",
     "shell.execute_reply": "2022-01-13T18:40:37.134851Z",
     "shell.execute_reply.started": "2022-01-13T18:25:15.122429Z"
    },
    "papermill": {
     "duration": 0.401055,
     "end_time": "2022-01-13T18:40:37.135605",
     "exception": false,
     "start_time": "2022-01-13T18:40:36.734550",
     "status": "completed"
    },
    "tags": []
   },
   "outputs": [],
   "source": [
    "#remove these columns and process the rest\n",
    "df=data.copy()"
   ]
  },
  {
   "cell_type": "code",
   "execution_count": null,
   "id": "c3a6b6c8",
   "metadata": {
    "execution": {
     "iopub.execute_input": "2022-01-13T18:40:37.646675Z",
     "iopub.status.busy": "2022-01-13T18:40:37.576362Z",
     "iopub.status.idle": "2022-01-13T18:40:37.721877Z",
     "shell.execute_reply": "2022-01-13T18:40:37.721120Z",
     "shell.execute_reply.started": "2022-01-13T18:25:15.267415Z"
    },
    "papermill": {
     "duration": 0.368361,
     "end_time": "2022-01-13T18:40:37.722077",
     "exception": false,
     "start_time": "2022-01-13T18:40:37.353716",
     "status": "completed"
    },
    "tags": []
   },
   "outputs": [],
   "source": [
    "df.drop(['status','private pool','propertyType','street','street_t','baths','homeFacts', 'fireplace_grad','city','schools','zipcode','state','mls-id',\n",
    "                 'MlsId','year_built','distance','outliers'], axis=1, inplace=True)\n"
   ]
  },
  {
   "cell_type": "code",
   "execution_count": null,
   "id": "8f0f4779",
   "metadata": {
    "execution": {
     "iopub.execute_input": "2022-01-13T18:40:38.184525Z",
     "iopub.status.busy": "2022-01-13T18:40:38.183735Z",
     "iopub.status.idle": "2022-01-13T18:40:38.917021Z",
     "shell.execute_reply": "2022-01-13T18:40:38.916007Z",
     "shell.execute_reply.started": "2022-01-13T18:25:15.373943Z"
    },
    "papermill": {
     "duration": 0.967541,
     "end_time": "2022-01-13T18:40:38.917237",
     "exception": false,
     "start_time": "2022-01-13T18:40:37.949696",
     "status": "completed"
    },
    "tags": []
   },
   "outputs": [],
   "source": [
    "for colum in category_cols:\n",
    "    df[colum] = df[colum].astype('category').cat.codes\n",
    "    \n",
    "df.head(2)"
   ]
  },
  {
   "cell_type": "code",
   "execution_count": null,
   "id": "551f2479",
   "metadata": {
    "execution": {
     "iopub.execute_input": "2022-01-13T18:40:39.382407Z",
     "iopub.status.busy": "2022-01-13T18:40:39.381697Z",
     "iopub.status.idle": "2022-01-13T18:40:39.409962Z",
     "shell.execute_reply": "2022-01-13T18:40:39.409207Z",
     "shell.execute_reply.started": "2022-01-13T18:25:16.136936Z"
    },
    "papermill": {
     "duration": 0.265792,
     "end_time": "2022-01-13T18:40:39.410154",
     "exception": false,
     "start_time": "2022-01-13T18:40:39.144362",
     "status": "completed"
    },
    "tags": []
   },
   "outputs": [],
   "source": [
    "df.info()"
   ]
  },
  {
   "cell_type": "code",
   "execution_count": null,
   "id": "8b45d227",
   "metadata": {
    "execution": {
     "iopub.execute_input": "2022-01-13T18:40:39.899835Z",
     "iopub.status.busy": "2022-01-13T18:40:39.879378Z",
     "iopub.status.idle": "2022-01-13T18:40:39.922904Z",
     "shell.execute_reply": "2022-01-13T18:40:39.923412Z",
     "shell.execute_reply.started": "2022-01-13T18:25:16.164473Z"
    },
    "papermill": {
     "duration": 0.281169,
     "end_time": "2022-01-13T18:40:39.923649",
     "exception": false,
     "start_time": "2022-01-13T18:40:39.642480",
     "status": "completed"
    },
    "tags": []
   },
   "outputs": [],
   "source": [
    "df.sample(5)"
   ]
  },
  {
   "cell_type": "code",
   "execution_count": null,
   "id": "1439ba7d",
   "metadata": {
    "execution": {
     "iopub.execute_input": "2022-01-13T18:40:40.393552Z",
     "iopub.status.busy": "2022-01-13T18:40:40.392699Z",
     "iopub.status.idle": "2022-01-13T18:40:40.636518Z",
     "shell.execute_reply": "2022-01-13T18:40:40.637053Z",
     "shell.execute_reply.started": "2022-01-13T18:25:16.195698Z"
    },
    "papermill": {
     "duration": 0.480806,
     "end_time": "2022-01-13T18:40:40.637268",
     "exception": false,
     "start_time": "2022-01-13T18:40:40.156462",
     "status": "completed"
    },
    "tags": []
   },
   "outputs": [],
   "source": [
    "df.describe()"
   ]
  },
  {
   "cell_type": "code",
   "execution_count": null,
   "id": "6607be48",
   "metadata": {
    "execution": {
     "iopub.execute_input": "2022-01-13T18:40:41.115118Z",
     "iopub.status.busy": "2022-01-13T18:40:41.111090Z",
     "iopub.status.idle": "2022-01-13T18:40:41.123109Z",
     "shell.execute_reply": "2022-01-13T18:40:41.123626Z",
     "shell.execute_reply.started": "2022-01-13T18:25:16.371350Z"
    },
    "papermill": {
     "duration": 0.246984,
     "end_time": "2022-01-13T18:40:41.123858",
     "exception": false,
     "start_time": "2022-01-13T18:40:40.876874",
     "status": "completed"
    },
    "tags": []
   },
   "outputs": [],
   "source": [
    "exp_df=df.copy()"
   ]
  },
  {
   "cell_type": "code",
   "execution_count": null,
   "id": "2067e4e6",
   "metadata": {
    "execution": {
     "iopub.execute_input": "2022-01-13T18:40:41.619132Z",
     "iopub.status.busy": "2022-01-13T18:40:41.617701Z",
     "iopub.status.idle": "2022-01-13T18:40:41.767011Z",
     "shell.execute_reply": "2022-01-13T18:40:41.767551Z",
     "shell.execute_reply.started": "2022-01-13T18:25:16.380489Z"
    },
    "papermill": {
     "duration": 0.409465,
     "end_time": "2022-01-13T18:40:41.767747",
     "exception": false,
     "start_time": "2022-01-13T18:40:41.358282",
     "status": "completed"
    },
    "tags": []
   },
   "outputs": [],
   "source": [
    "#Let's make dummy variables\n",
    "df = pd.get_dummies(df, columns=['fireplace','beds','stories','PrivatePool','status_rating','property_rating', 'number_prop_descr','street_type','number_bath', 'city_rating','state_rang'] )\n",
    "df"
   ]
  },
  {
   "cell_type": "code",
   "execution_count": null,
   "id": "e3b239c7",
   "metadata": {
    "execution": {
     "iopub.execute_input": "2022-01-13T18:40:42.234571Z",
     "iopub.status.busy": "2022-01-13T18:40:42.232430Z",
     "iopub.status.idle": "2022-01-13T18:40:42.278076Z",
     "shell.execute_reply": "2022-01-13T18:40:42.278617Z",
     "shell.execute_reply.started": "2022-01-13T18:25:16.516165Z"
    },
    "papermill": {
     "duration": 0.285005,
     "end_time": "2022-01-13T18:40:42.278840",
     "exception": false,
     "start_time": "2022-01-13T18:40:41.993835",
     "status": "completed"
    },
    "tags": []
   },
   "outputs": [],
   "source": [
    "df[number_cols]"
   ]
  },
  {
   "cell_type": "markdown",
   "id": "8715c1d5",
   "metadata": {
    "papermill": {
     "duration": 0.238951,
     "end_time": "2022-01-13T18:40:42.750896",
     "exception": false,
     "start_time": "2022-01-13T18:40:42.511945",
     "status": "completed"
    },
    "tags": []
   },
   "source": [
    "#Data preparation for ML"
   ]
  },
  {
   "cell_type": "code",
   "execution_count": null,
   "id": "3e79695c",
   "metadata": {
    "execution": {
     "iopub.execute_input": "2022-01-13T18:40:43.227757Z",
     "iopub.status.busy": "2022-01-13T18:40:43.226232Z",
     "iopub.status.idle": "2022-01-13T18:40:43.265766Z",
     "shell.execute_reply": "2022-01-13T18:40:43.266254Z",
     "shell.execute_reply.started": "2022-01-13T18:25:16.552043Z"
    },
    "papermill": {
     "duration": 0.276161,
     "end_time": "2022-01-13T18:40:43.266479",
     "exception": false,
     "start_time": "2022-01-13T18:40:42.990318",
     "status": "completed"
    },
    "tags": []
   },
   "outputs": [],
   "source": [
    "df.isna().sum()"
   ]
  },
  {
   "cell_type": "code",
   "execution_count": null,
   "id": "33709ed8",
   "metadata": {
    "execution": {
     "iopub.execute_input": "2022-01-13T18:40:43.771498Z",
     "iopub.status.busy": "2022-01-13T18:40:43.768692Z",
     "iopub.status.idle": "2022-01-13T18:40:43.795257Z",
     "shell.execute_reply": "2022-01-13T18:40:43.794616Z",
     "shell.execute_reply.started": "2022-01-13T18:25:16.589125Z"
    },
    "papermill": {
     "duration": 0.286956,
     "end_time": "2022-01-13T18:40:43.795452",
     "exception": false,
     "start_time": "2022-01-13T18:40:43.508496",
     "status": "completed"
    },
    "tags": []
   },
   "outputs": [],
   "source": [
    "X = df.drop(['target'], axis=1)\n",
    "y = df['target'].astype(float)"
   ]
  },
  {
   "cell_type": "markdown",
   "id": "db65c17f",
   "metadata": {
    "papermill": {
     "duration": 0.233254,
     "end_time": "2022-01-13T18:40:44.266730",
     "exception": false,
     "start_time": "2022-01-13T18:40:44.033476",
     "status": "completed"
    },
    "tags": []
   },
   "source": [
    "#Splitting into train, validation and test in the appropriate ratio: 70%, 15%, 15%. "
   ]
  },
  {
   "cell_type": "code",
   "execution_count": null,
   "id": "42df90ac",
   "metadata": {
    "execution": {
     "iopub.execute_input": "2022-01-13T18:40:44.736846Z",
     "iopub.status.busy": "2022-01-13T18:40:44.736142Z",
     "iopub.status.idle": "2022-01-13T18:40:44.895926Z",
     "shell.execute_reply": "2022-01-13T18:40:44.896441Z",
     "shell.execute_reply.started": "2022-01-13T18:25:16.611345Z"
    },
    "papermill": {
     "duration": 0.397525,
     "end_time": "2022-01-13T18:40:44.896754",
     "exception": false,
     "start_time": "2022-01-13T18:40:44.499229",
     "status": "completed"
    },
    "tags": []
   },
   "outputs": [],
   "source": [
    "X_train, X_to_test, y_train, y_to_test = train_test_split(X, y, test_size=0.3, random_state=RANDOM_SEED)\n",
    "X_val, X_test, y_val, y_test = train_test_split(X_to_test, y_to_test, test_size=0.5, random_state=RANDOM_SEED)"
   ]
  },
  {
   "cell_type": "code",
   "execution_count": null,
   "id": "c0f0c9b9",
   "metadata": {
    "execution": {
     "iopub.execute_input": "2022-01-13T18:40:45.389668Z",
     "iopub.status.busy": "2022-01-13T18:40:45.388874Z",
     "iopub.status.idle": "2022-01-13T18:40:45.421670Z",
     "shell.execute_reply": "2022-01-13T18:40:45.422275Z",
     "shell.execute_reply.started": "2022-01-13T18:25:16.728278Z"
    },
    "papermill": {
     "duration": 0.278836,
     "end_time": "2022-01-13T18:40:45.422486",
     "exception": false,
     "start_time": "2022-01-13T18:40:45.143650",
     "status": "completed"
    },
    "tags": []
   },
   "outputs": [],
   "source": [
    "scaler = MinMaxScaler()\n",
    "X_train[number_cols] = scaler.fit_transform(X_train[number_cols])\n",
    "X_val[number_cols] = scaler.transform(X_val[number_cols])\n",
    "X_test[number_cols] = scaler.transform(X_test[number_cols])"
   ]
  },
  {
   "cell_type": "code",
   "execution_count": null,
   "id": "8f9af237",
   "metadata": {
    "execution": {
     "iopub.execute_input": "2022-01-13T18:40:45.936388Z",
     "iopub.status.busy": "2022-01-13T18:40:45.935636Z",
     "iopub.status.idle": "2022-01-13T18:40:45.969618Z",
     "shell.execute_reply": "2022-01-13T18:40:45.968814Z",
     "shell.execute_reply.started": "2022-01-13T18:25:16.759380Z"
    },
    "papermill": {
     "duration": 0.308509,
     "end_time": "2022-01-13T18:40:45.969829",
     "exception": false,
     "start_time": "2022-01-13T18:40:45.661320",
     "status": "completed"
    },
    "tags": []
   },
   "outputs": [],
   "source": [
    "display(X_train[number_cols], X_val[number_cols], X_test[number_cols])"
   ]
  },
  {
   "cell_type": "code",
   "execution_count": null,
   "id": "5a630a13",
   "metadata": {
    "execution": {
     "iopub.execute_input": "2022-01-13T18:40:46.471660Z",
     "iopub.status.busy": "2022-01-13T18:40:46.470883Z",
     "iopub.status.idle": "2022-01-13T18:40:46.477605Z",
     "shell.execute_reply": "2022-01-13T18:40:46.478307Z",
     "shell.execute_reply.started": "2022-01-13T18:25:16.794426Z"
    },
    "papermill": {
     "duration": 0.264288,
     "end_time": "2022-01-13T18:40:46.478531",
     "exception": false,
     "start_time": "2022-01-13T18:40:46.214243",
     "status": "completed"
    },
    "tags": []
   },
   "outputs": [],
   "source": [
    "X_train.shape, y_train.shape, X_val.shape, y_val.shape, X_test.shape, y_train.shape"
   ]
  },
  {
   "cell_type": "code",
   "execution_count": null,
   "id": "ea33cdd0",
   "metadata": {
    "execution": {
     "iopub.execute_input": "2022-01-13T18:40:46.978182Z",
     "iopub.status.busy": "2022-01-13T18:40:46.977408Z",
     "iopub.status.idle": "2022-01-13T18:40:48.764321Z",
     "shell.execute_reply": "2022-01-13T18:40:48.764806Z",
     "shell.execute_reply.started": "2022-01-13T18:25:16.802276Z"
    },
    "papermill": {
     "duration": 2.035151,
     "end_time": "2022-01-13T18:40:48.765019",
     "exception": false,
     "start_time": "2022-01-13T18:40:46.729868",
     "status": "completed"
    },
    "tags": []
   },
   "outputs": [],
   "source": [
    "correlations = X_train.corrwith(y_train).sort_values(ascending=False)\n",
    "\n",
    "plt.figure(figsize=(20, 10))\n",
    "\n",
    "plot = sns.barplot(y=correlations.index, x=correlations)"
   ]
  },
  {
   "cell_type": "code",
   "execution_count": null,
   "id": "296b1127",
   "metadata": {
    "execution": {
     "iopub.execute_input": "2022-01-13T18:40:49.233584Z",
     "iopub.status.busy": "2022-01-13T18:40:49.227891Z",
     "iopub.status.idle": "2022-01-13T18:40:49.235784Z",
     "shell.execute_reply": "2022-01-13T18:40:49.236273Z",
     "shell.execute_reply.started": "2022-01-13T18:25:18.335977Z"
    },
    "papermill": {
     "duration": 0.242649,
     "end_time": "2022-01-13T18:40:49.236491",
     "exception": false,
     "start_time": "2022-01-13T18:40:48.993842",
     "status": "completed"
    },
    "tags": []
   },
   "outputs": [],
   "source": [
    "#Function to display feature weights for a model\n",
    "\n",
    "def show_weights(features, weights, scales):\n",
    "    fig, axs = plt.subplots(figsize=(14, 10), ncols=2)\n",
    "    sorted_weights = sorted(zip(weights, features, scales), reverse=True)\n",
    "    weights = [x[0] for x in sorted_weights]\n",
    "    features = [x[1] for x in sorted_weights]\n",
    "    scales = [x[2] for x in sorted_weights]\n",
    "    sns.barplot(y=features, x=weights, ax=axs[0], orient='h')\n",
    "    axs[0].set_xlabel(\"Weight\")\n",
    "    sns.barplot(y=features, x=scales, ax=axs[1], orient='h')\n",
    "    axs[1].set_xlabel(\"Scale\")\n",
    "    plt.tight_layout()"
   ]
  },
  {
   "cell_type": "code",
   "execution_count": null,
   "id": "ff9b397c",
   "metadata": {
    "execution": {
     "iopub.execute_input": "2022-01-13T18:40:49.715852Z",
     "iopub.status.busy": "2022-01-13T18:40:49.715047Z",
     "iopub.status.idle": "2022-01-13T18:40:49.718426Z",
     "shell.execute_reply": "2022-01-13T18:40:49.717742Z",
     "shell.execute_reply.started": "2022-01-13T18:25:18.347373Z"
    },
    "papermill": {
     "duration": 0.25274,
     "end_time": "2022-01-13T18:40:49.718600",
     "exception": false,
     "start_time": "2022-01-13T18:40:49.465860",
     "status": "completed"
    },
    "tags": []
   },
   "outputs": [],
   "source": [
    "#A function that calculates metrics from data: validation, predicted, train, predicted train\n",
    "\n",
    "def show_metrics(y_true_val, y_pred_val, y_true_train, y_pred_train):\n",
    "#calculates metrics\n",
    "    mae_val = mean_absolute_error(y_true_val, y_pred_val)\n",
    "    mae_train = mean_absolute_error(y_true_train, y_pred_train)\n",
    "    mse_val = mean_squared_error(y_true_val, y_pred_val)\n",
    "    mse_train = mean_squared_error(y_true_train, y_pred_train)\n",
    "    rmse_val = rmse(y_true_val, y_pred_val)\n",
    "    rmse_train = rmse(y_true_train, y_pred_train)\n",
    "    mape_val = mape(y_true_val, y_pred_val)\n",
    "    mape_train = mape(y_true_train, y_pred_train)\n",
    "    \n",
    "#metrics output\n",
    "    print(f\"Val MAE: {mae_val:0.2f}\")\n",
    "    print(f\"Train MAE: {mae_train:0.2f}\")\n",
    "    print()\n",
    "    print(f\"Val MSE: {mse_val:0.2f}\")\n",
    "    print(f\"Train MSE: {mse_train:0.2f}\")\n",
    "    print()\n",
    "    print(f\"Val RMSE: {rmse_val:0.2f}\")\n",
    "    print(f\"Train RMSE: {rmse_train:0.2f}\")\n",
    "    print()\n",
    "    print(f\"Val MAPE: {mape_val:0.2f}\")\n",
    "    print(f\"Train MAPE: {mape_train:0.2f}\")\n",
    "    print()\n",
    "    \n",
    "#add metrics in list\n",
    "    mae_val_list.append(mae_val)\n",
    "    mae_train_list.append(mae_train)\n",
    "    mse_val_list.append(mse_val)\n",
    "    mse_train_list.append(mse_train)\n",
    "    rmse_val_list.append(rmse_val)\n",
    "    rmse_train_list.append(rmse_train)\n",
    "    mape_val_list.append(mape_val)\n",
    "    mape_train_list.append(mape_train)\n",
    "    \n",
    "#r2_score correction    \n",
    "def r2_corr(model, name):\n",
    "    r2_val = model.score(X_val, np.log(y_val))\n",
    "    r2_train = model.score(X_train, np.log(y_train))\n",
    "    print('r2_score  - val/train: ',round(r2_val,4), round(r2_train,4)) \n",
    "    \n",
    "#r2 after correction\n",
    "    r2_val_corr = 1 - (1-r2_val)*(len(y_val)-1)/(len(y_val)-X_val.shape[1]-1)\n",
    "    r2_train_corr = 1 - (1-r2_train)*(len(y_train)-1)/(len(y_train)-X_train.shape[1]-1)\n",
    "    print('r2_score_corrected - val/train: ', round(r2_val_corr,4), round(r2_train_corr,4))  \n",
    "    \n",
    "#add in list\n",
    "    r2_val_list.append(r2_val)\n",
    "    r2_train_list.append(r2_train)\n",
    "    r2_val_corr_list.append(r2_val_corr)\n",
    "    r2_train_corr_list.append(r2_train_corr)\n",
    "    model_name_list.append(name)"
   ]
  },
  {
   "cell_type": "code",
   "execution_count": null,
   "id": "0bc9c290",
   "metadata": {
    "execution": {
     "iopub.execute_input": "2022-01-13T18:40:50.184540Z",
     "iopub.status.busy": "2022-01-13T18:40:50.183846Z",
     "iopub.status.idle": "2022-01-13T18:40:50.185454Z",
     "shell.execute_reply": "2022-01-13T18:40:50.185922Z",
     "shell.execute_reply.started": "2022-01-13T18:25:18.364024Z"
    },
    "papermill": {
     "duration": 0.2361,
     "end_time": "2022-01-13T18:40:50.186165",
     "exception": false,
     "start_time": "2022-01-13T18:40:49.950065",
     "status": "completed"
    },
    "tags": []
   },
   "outputs": [],
   "source": [
    "#Lists to store results\n",
    "model_name_list=[]\n",
    "mae_val_list = []; mae_train_list = []\n",
    "mse_val_list = []; mse_train_list = []\n",
    "rmse_val_list = []; rmse_train_list = []\n",
    "mape_val_list = []; mape_train_list= []    \n",
    "r2_val_list = []; r2_train_list = []\n",
    "r2_val_corr_list = []; r2_train_corr_list = []"
   ]
  },
  {
   "cell_type": "code",
   "execution_count": null,
   "id": "b202c1bf",
   "metadata": {
    "execution": {
     "iopub.execute_input": "2022-01-13T18:40:51.107360Z",
     "iopub.status.busy": "2022-01-13T18:40:51.106628Z",
     "iopub.status.idle": "2022-01-13T18:40:51.113790Z",
     "shell.execute_reply": "2022-01-13T18:40:51.114414Z",
     "shell.execute_reply.started": "2022-01-13T18:25:18.379446Z"
    },
    "papermill": {
     "duration": 0.243018,
     "end_time": "2022-01-13T18:40:51.114647",
     "exception": false,
     "start_time": "2022-01-13T18:40:50.871629",
     "status": "completed"
    },
    "tags": []
   },
   "outputs": [],
   "source": [
    "y_pred_naive=y_train.mean()\n",
    "y_pred_naive"
   ]
  },
  {
   "cell_type": "code",
   "execution_count": null,
   "id": "106f423d",
   "metadata": {},
   "outputs": [],
   "source": [
    "# lets make baseline"
   ]
  },
  {
   "cell_type": "code",
   "execution_count": null,
   "id": "d565e092",
   "metadata": {
    "execution": {
     "iopub.execute_input": "2022-01-13T18:40:51.579251Z",
     "iopub.status.busy": "2022-01-13T18:40:51.578512Z",
     "iopub.status.idle": "2022-01-13T18:40:51.597120Z",
     "shell.execute_reply": "2022-01-13T18:40:51.597655Z",
     "shell.execute_reply.started": "2022-01-13T18:25:18.393914Z"
    },
    "papermill": {
     "duration": 0.253587,
     "end_time": "2022-01-13T18:40:51.597858",
     "exception": false,
     "start_time": "2022-01-13T18:40:51.344271",
     "status": "completed"
    },
    "tags": []
   },
   "outputs": [],
   "source": [
    "y_val_pred_list = [y_pred_naive for x in range(len(y_val))]\n",
    "y_train_pred_list = [y_pred_naive for x in range(len(y_train))]\n",
    "\n",
    "len(y_val_pred_list), len(y_train_pred_list)"
   ]
  },
  {
   "cell_type": "code",
   "execution_count": null,
   "id": "da02595c",
   "metadata": {
    "execution": {
     "iopub.execute_input": "2022-01-13T18:40:52.060815Z",
     "iopub.status.busy": "2022-01-13T18:40:52.060069Z",
     "iopub.status.idle": "2022-01-13T18:40:52.100685Z",
     "shell.execute_reply": "2022-01-13T18:40:52.099625Z",
     "shell.execute_reply.started": "2022-01-13T18:25:18.418568Z"
    },
    "papermill": {
     "duration": 0.273708,
     "end_time": "2022-01-13T18:40:52.100937",
     "exception": false,
     "start_time": "2022-01-13T18:40:51.827229",
     "status": "completed"
    },
    "tags": []
   },
   "outputs": [],
   "source": [
    "mae_naive = mean_absolute_error(y_val, y_val_pred_list)\n",
    "mae_naive = mean_absolute_error(y_train, y_train_pred_list)\n",
    "mse_naive = mean_squared_error(y_val, y_val_pred_list)\n",
    "mse_naive = mean_squared_error(y_train, y_train_pred_list)\n",
    "    \n",
    "print(f\"Val MAE: {mae_naive:0.2f}\")\n",
    "print(f\"Train MAE: {mae_naive:0.2f}\")\n",
    "print()\n",
    "print(f\"Val MSE: {mse_naive:0.2f}\")\n",
    "print(f\"Train MSE: {mse_naive:0.2f}\")\n",
    "print()\n",
    "\n",
    "#baseline"
   ]
  },
  {
   "cell_type": "markdown",
   "id": "9e99cbe3",
   "metadata": {
    "papermill": {
     "duration": 0.234777,
     "end_time": "2022-01-13T18:40:52.573392",
     "exception": false,
     "start_time": "2022-01-13T18:40:52.338615",
     "status": "completed"
    },
    "tags": []
   },
   "source": [
    "#LinearRegression and metrics"
   ]
  },
  {
   "cell_type": "code",
   "execution_count": null,
   "id": "b8f888a8",
   "metadata": {
    "execution": {
     "iopub.execute_input": "2022-01-13T18:40:53.045302Z",
     "iopub.status.busy": "2022-01-13T18:40:53.044569Z",
     "iopub.status.idle": "2022-01-13T18:40:54.412050Z",
     "shell.execute_reply": "2022-01-13T18:40:54.413111Z",
     "shell.execute_reply.started": "2022-01-13T18:25:18.501486Z"
    },
    "papermill": {
     "duration": 1.60537,
     "end_time": "2022-01-13T18:40:54.413499",
     "exception": false,
     "start_time": "2022-01-13T18:40:52.808129",
     "status": "completed"
    },
    "tags": []
   },
   "outputs": [],
   "source": [
    "lr = LinearRegression(n_jobs=-1)\n",
    "lr.fit(X_train, np.log(y_train))\n",
    "predict_lr_val = lr.predict(X_val)\n",
    "predict_lr_val = np.exp(predict_lr_val)\n",
    "predict_lr_train = lr.predict(X_train)\n",
    "predict_lr_train = np.exp(predict_lr_train)\n"
   ]
  },
  {
   "cell_type": "code",
   "execution_count": null,
   "id": "6a858103",
   "metadata": {
    "execution": {
     "iopub.execute_input": "2022-01-13T18:40:54.936872Z",
     "iopub.status.busy": "2022-01-13T18:40:54.934919Z",
     "iopub.status.idle": "2022-01-13T18:40:55.099499Z",
     "shell.execute_reply": "2022-01-13T18:40:55.101328Z",
     "shell.execute_reply.started": "2022-01-13T18:25:19.254713Z"
    },
    "papermill": {
     "duration": 0.405125,
     "end_time": "2022-01-13T18:40:55.101829",
     "exception": false,
     "start_time": "2022-01-13T18:40:54.696704",
     "status": "completed"
    },
    "tags": []
   },
   "outputs": [],
   "source": [
    "show_metrics(y_val, predict_lr_val, y_train, predict_lr_train)\n",
    "print()\n",
    "r2_corr(lr, 'LinearRegression')"
   ]
  },
  {
   "cell_type": "code",
   "execution_count": null,
   "id": "33625f66",
   "metadata": {
    "execution": {
     "iopub.execute_input": "2022-01-13T18:40:55.641435Z",
     "iopub.status.busy": "2022-01-13T18:40:55.640047Z",
     "iopub.status.idle": "2022-01-13T18:40:59.089484Z",
     "shell.execute_reply": "2022-01-13T18:40:59.088705Z",
     "shell.execute_reply.started": "2022-01-13T18:25:19.372956Z"
    },
    "papermill": {
     "duration": 3.706198,
     "end_time": "2022-01-13T18:40:59.089659",
     "exception": false,
     "start_time": "2022-01-13T18:40:55.383461",
     "status": "completed"
    },
    "tags": []
   },
   "outputs": [],
   "source": [
    "show_weights(X.columns, lr.coef_, X_train.std())"
   ]
  },
  {
   "cell_type": "markdown",
   "id": "731fd6c7",
   "metadata": {
    "papermill": {
     "duration": 0.229918,
     "end_time": "2022-01-13T18:40:59.551425",
     "exception": false,
     "start_time": "2022-01-13T18:40:59.321507",
     "status": "completed"
    },
    "tags": []
   },
   "source": [
    "#GradientBoosting and metrics"
   ]
  },
  {
   "cell_type": "code",
   "execution_count": null,
   "id": "174c4419",
   "metadata": {
    "execution": {
     "iopub.execute_input": "2022-01-13T18:41:00.023672Z",
     "iopub.status.busy": "2022-01-13T18:41:00.022610Z",
     "iopub.status.idle": "2022-01-13T18:42:13.099746Z",
     "shell.execute_reply": "2022-01-13T18:42:13.099149Z",
     "shell.execute_reply.started": "2022-01-13T18:25:22.545951Z"
    },
    "papermill": {
     "duration": 73.316489,
     "end_time": "2022-01-13T18:42:13.099914",
     "exception": false,
     "start_time": "2022-01-13T18:40:59.783425",
     "status": "completed"
    },
    "tags": []
   },
   "outputs": [],
   "source": [
    "gb = GradientBoostingRegressor(random_state=42)\n",
    "gb.fit(X_train, np.log(y_train))\n",
    "predict_gb_val = gb.predict(X_val)\n",
    "predict_gb_val = np.exp(predict_gb_val)\n",
    "predict_gb_train = gb.predict(X_train)\n",
    "predict_gb_train = np.exp(predict_gb_train)\n",
    "\n",
    "show_metrics(y_val, predict_gb_val, y_train, predict_gb_train)\n",
    "print()\n",
    "r2_corr(gb, 'GradientBoostingRegressor')"
   ]
  },
  {
   "cell_type": "code",
   "execution_count": null,
   "id": "3ade2357",
   "metadata": {
    "execution": {
     "iopub.execute_input": "2022-01-13T18:42:13.596100Z",
     "iopub.status.busy": "2022-01-13T18:42:13.595092Z",
     "iopub.status.idle": "2022-01-13T18:42:16.405025Z",
     "shell.execute_reply": "2022-01-13T18:42:16.405653Z",
     "shell.execute_reply.started": "2022-01-13T18:26:14.097668Z"
    },
    "papermill": {
     "duration": 3.058825,
     "end_time": "2022-01-13T18:42:16.405871",
     "exception": false,
     "start_time": "2022-01-13T18:42:13.347046",
     "status": "completed"
    },
    "tags": []
   },
   "outputs": [],
   "source": [
    "show_weights(X.columns, gb.feature_importances_, X_train.std())"
   ]
  },
  {
   "cell_type": "code",
   "execution_count": null,
   "id": "08b6a264",
   "metadata": {
    "execution": {
     "iopub.execute_input": "2022-01-13T18:42:16.896196Z",
     "iopub.status.busy": "2022-01-13T18:42:16.895385Z",
     "iopub.status.idle": "2022-01-13T18:48:11.665835Z",
     "shell.execute_reply": "2022-01-13T18:48:11.665144Z",
     "shell.execute_reply.started": "2022-01-13T18:26:16.832450Z"
    },
    "papermill": {
     "duration": 355.010861,
     "end_time": "2022-01-13T18:48:11.666115",
     "exception": false,
     "start_time": "2022-01-13T18:42:16.655254",
     "status": "completed"
    },
    "tags": []
   },
   "outputs": [],
   "source": [
    "gb_t = GradientBoostingRegressor(max_depth=15, min_samples_leaf=15,  min_samples_split=10, max_features='auto', random_state=42)\n",
    "gb_t.fit(X_train, np.log(y_train))\n",
    "predict_gb_t_val = gb_t.predict(X_val)\n",
    "predict_gb_t_val = np.exp(predict_gb_t_val)\n",
    "predict_gb_t_train = gb_t.predict(X_train)\n",
    "predict_gb_t_train = np.exp(predict_gb_t_train)\n",
    "\n",
    "show_metrics(y_val, predict_gb_t_val, y_train, predict_gb_t_train)\n",
    "print()\n",
    "r2_corr(gb_t, 'GradientBoostingRegressor_tune')"
   ]
  },
  {
   "cell_type": "code",
   "execution_count": null,
   "id": "e8a0ebd7",
   "metadata": {
    "execution": {
     "iopub.execute_input": "2022-01-13T18:48:12.151322Z",
     "iopub.status.busy": "2022-01-13T18:48:12.150589Z",
     "iopub.status.idle": "2022-01-13T18:48:14.911813Z",
     "shell.execute_reply": "2022-01-13T18:48:14.912399Z",
     "shell.execute_reply.started": "2022-01-13T18:30:23.950976Z"
    },
    "papermill": {
     "duration": 3.008106,
     "end_time": "2022-01-13T18:48:14.912616",
     "exception": false,
     "start_time": "2022-01-13T18:48:11.904510",
     "status": "completed"
    },
    "tags": []
   },
   "outputs": [],
   "source": [
    "show_weights(X.columns, gb_t.feature_importances_, X_train.std())"
   ]
  },
  {
   "cell_type": "markdown",
   "id": "154675ec",
   "metadata": {
    "papermill": {
     "duration": 0.242443,
     "end_time": "2022-01-13T18:48:15.402319",
     "exception": false,
     "start_time": "2022-01-13T18:48:15.159876",
     "status": "completed"
    },
    "tags": []
   },
   "source": [
    "#RandomForest and metrics"
   ]
  },
  {
   "cell_type": "code",
   "execution_count": null,
   "id": "0e282de3",
   "metadata": {
    "execution": {
     "iopub.execute_input": "2022-01-13T18:48:15.930262Z",
     "iopub.status.busy": "2022-01-13T18:48:15.929108Z",
     "iopub.status.idle": "2022-01-13T18:54:12.648470Z",
     "shell.execute_reply": "2022-01-13T18:54:12.647878Z"
    },
    "papermill": {
     "duration": 356.995104,
     "end_time": "2022-01-13T18:54:12.648660",
     "exception": false,
     "start_time": "2022-01-13T18:48:15.653556",
     "status": "completed"
    },
    "tags": []
   },
   "outputs": [],
   "source": [
    "\n",
    "rf = RandomForestRegressor(random_state=42)\n",
    "rf.fit(X_train, np.log(y_train))\n",
    "predict_rf_val = rf.predict(X_val)\n",
    "predict_rf_val = np.exp(predict_rf_val)\n",
    "predict_rf_train = rf.predict(X_train)\n",
    "predict_rf_train = np.log(predict_rf_train)\n",
    "\n",
    "show_metrics(y_val, predict_rf_val,y_train, predict_rf_train )\n",
    "print()\n",
    "r2_corr(rf, 'RandomForestRegressor')"
   ]
  },
  {
   "cell_type": "code",
   "execution_count": null,
   "id": "bba7213a",
   "metadata": {
    "execution": {
     "iopub.execute_input": "2022-01-13T18:54:13.135086Z",
     "iopub.status.busy": "2022-01-13T18:54:13.133867Z",
     "iopub.status.idle": "2022-01-13T18:54:16.493817Z",
     "shell.execute_reply": "2022-01-13T18:54:16.493087Z"
    },
    "papermill": {
     "duration": 3.607815,
     "end_time": "2022-01-13T18:54:16.494031",
     "exception": false,
     "start_time": "2022-01-13T18:54:12.886216",
     "status": "completed"
    },
    "tags": []
   },
   "outputs": [],
   "source": [
    "show_weights(X.columns, rf.feature_importances_, X_train.std())"
   ]
  },
  {
   "cell_type": "code",
   "execution_count": null,
   "id": "e6dd85a4",
   "metadata": {
    "execution": {
     "iopub.execute_input": "2022-01-13T18:54:16.998752Z",
     "iopub.status.busy": "2022-01-13T18:54:16.997566Z",
     "iopub.status.idle": "2022-01-13T18:56:22.955252Z",
     "shell.execute_reply": "2022-01-13T18:56:22.956031Z"
    },
    "papermill": {
     "duration": 126.209179,
     "end_time": "2022-01-13T18:56:22.956303",
     "exception": false,
     "start_time": "2022-01-13T18:54:16.747124",
     "status": "completed"
    },
    "tags": []
   },
   "outputs": [],
   "source": [
    "rf_t = RandomForestRegressor(max_depth=110, min_samples_split=10, min_samples_leaf = 5, max_features='auto',\\\n",
    "bootstrap=True, oob_score=True, n_jobs=-1, random_state=42)\n",
    "rf_t.fit(X_train, np.log(y_train))\n",
    "predict_rf_t_val = rf_t.predict(X_val)\n",
    "predict_rf_t_val = np.exp(predict_rf_t_val)\n",
    "predict_rf_t_train = rf_t.predict(X_train)\n",
    "predict_rf_t_train = np.log(predict_rf_t_train)\n",
    "\n",
    "show_metrics(y_val, predict_rf_t_val,y_train, predict_rf_t_train )\n",
    "print()\n",
    "r2_corr(rf_t, 'RandomForestRegressor_tune1')"
   ]
  },
  {
   "cell_type": "code",
   "execution_count": null,
   "id": "7f1938a9",
   "metadata": {
    "execution": {
     "iopub.execute_input": "2022-01-13T18:56:23.587420Z",
     "iopub.status.busy": "2022-01-13T18:56:23.586697Z",
     "iopub.status.idle": "2022-01-13T18:56:26.477725Z",
     "shell.execute_reply": "2022-01-13T18:56:26.478223Z"
    },
    "papermill": {
     "duration": 3.148529,
     "end_time": "2022-01-13T18:56:26.478423",
     "exception": false,
     "start_time": "2022-01-13T18:56:23.329894",
     "status": "completed"
    },
    "tags": []
   },
   "outputs": [],
   "source": [
    "show_weights(X.columns, rf_t.feature_importances_, X_train.std())"
   ]
  },
  {
   "cell_type": "markdown",
   "id": "37a76ab7",
   "metadata": {
    "papermill": {
     "duration": 0.244347,
     "end_time": "2022-01-13T18:56:26.973008",
     "exception": false,
     "start_time": "2022-01-13T18:56:26.728661",
     "status": "completed"
    },
    "tags": []
   },
   "source": [
    "#CatBoost and metrics"
   ]
  },
  {
   "cell_type": "code",
   "execution_count": null,
   "id": "59f77736",
   "metadata": {
    "execution": {
     "iopub.execute_input": "2022-01-13T18:56:27.463334Z",
     "iopub.status.busy": "2022-01-13T18:56:27.462569Z",
     "iopub.status.idle": "2022-01-13T18:58:26.718035Z",
     "shell.execute_reply": "2022-01-13T18:58:26.718873Z"
    },
    "papermill": {
     "duration": 119.501489,
     "end_time": "2022-01-13T18:58:26.719135",
     "exception": false,
     "start_time": "2022-01-13T18:56:27.217646",
     "status": "completed"
    },
    "tags": []
   },
   "outputs": [],
   "source": [
    "\n",
    "ctb = CatBoostRegressor(iterations = 5000, random_seed = RANDOM_SEED, eval_metric='MAPE', custom_metric=['R2', 'MAE'], silent=True, )\n",
    "ctb.fit(X_train, np.log(y_train),\n",
    "         eval_set=(X_val, np.log(y_val)),\n",
    "         verbose_eval=0,\n",
    "         use_best_model=True, )\n",
    "\n",
    "predict_ctb_val = ctb.predict(X_val)\n",
    "predict_ctb_val = np.exp(predict_ctb_val)\n",
    "predict_ctb_train = ctb.predict(X_train)\n",
    "predict_ctb_train = np.exp(predict_ctb_train)"
   ]
  },
  {
   "cell_type": "code",
   "execution_count": null,
   "id": "86be9fd8",
   "metadata": {
    "execution": {
     "iopub.execute_input": "2022-01-13T18:58:27.222142Z",
     "iopub.status.busy": "2022-01-13T18:58:27.221349Z",
     "iopub.status.idle": "2022-01-13T18:58:28.001695Z",
     "shell.execute_reply": "2022-01-13T18:58:28.001123Z"
    },
    "papermill": {
     "duration": 1.031403,
     "end_time": "2022-01-13T18:58:28.001852",
     "exception": false,
     "start_time": "2022-01-13T18:58:26.970449",
     "status": "completed"
    },
    "tags": []
   },
   "outputs": [],
   "source": [
    "show_metrics(y_val, predict_ctb_val, y_train, predict_ctb_train)\n",
    "print()\n",
    "r2_corr(ctb, 'CatBoostRegressor')"
   ]
  },
  {
   "cell_type": "code",
   "execution_count": null,
   "id": "2aa38898",
   "metadata": {
    "execution": {
     "iopub.execute_input": "2022-01-13T18:58:28.500120Z",
     "iopub.status.busy": "2022-01-13T18:58:28.499052Z",
     "iopub.status.idle": "2022-01-13T18:58:31.309274Z",
     "shell.execute_reply": "2022-01-13T18:58:31.308679Z"
    },
    "papermill": {
     "duration": 3.062891,
     "end_time": "2022-01-13T18:58:31.309457",
     "exception": false,
     "start_time": "2022-01-13T18:58:28.246566",
     "status": "completed"
    },
    "tags": []
   },
   "outputs": [],
   "source": [
    "show_weights(X.columns, ctb.feature_importances_, X_train.std())"
   ]
  },
  {
   "cell_type": "markdown",
   "id": "355bf125",
   "metadata": {
    "papermill": {
     "duration": 0.260846,
     "end_time": "2022-01-13T18:58:31.845327",
     "exception": false,
     "start_time": "2022-01-13T18:58:31.584481",
     "status": "completed"
    },
    "tags": []
   },
   "source": [
    "#Let's summarize all the information in a dataframe"
   ]
  },
  {
   "cell_type": "code",
   "execution_count": null,
   "id": "da164ac7",
   "metadata": {
    "execution": {
     "iopub.execute_input": "2022-01-13T18:58:32.389106Z",
     "iopub.status.busy": "2022-01-13T18:58:32.388362Z",
     "iopub.status.idle": "2022-01-13T18:58:32.422051Z",
     "shell.execute_reply": "2022-01-13T18:58:32.423048Z"
    },
    "papermill": {
     "duration": 0.310501,
     "end_time": "2022-01-13T18:58:32.423289",
     "exception": false,
     "start_time": "2022-01-13T18:58:32.112788",
     "status": "completed"
    },
    "tags": []
   },
   "outputs": [],
   "source": [
    "\n",
    "feat_full=pd.DataFrame(index=model_name_list)\n",
    "feat_full['mae_val'] = mae_val_list\n",
    "feat_full['mae_train'] = mae_train_list\n",
    "feat_full['mse_val'] = mse_val_list\n",
    "feat_full['mse_train'] = mse_train_list\n",
    "feat_full['r2_val'] = r2_val_list\n",
    "feat_full['r2_train'] = r2_train_list\n",
    "feat_full['r2_val_corr'] = r2_val_list\n",
    "feat_full['r2_train_corr'] = r2_train_list\n",
    "feat_full['rmse_val'] = rmse_val_list\n",
    "feat_full['rmse_train'] = rmse_train_list\n",
    "feat_full['mape_val'] = mape_val_list\n",
    "feat_full['mape_train'] = mape_train_list\n",
    "\n",
    "feat_full"
   ]
  },
  {
   "cell_type": "code",
   "execution_count": null,
   "id": "23609904",
   "metadata": {
    "execution": {
     "iopub.execute_input": "2022-01-13T18:58:32.969384Z",
     "iopub.status.busy": "2022-01-13T18:58:32.968694Z",
     "iopub.status.idle": "2022-01-13T19:46:18.365705Z",
     "shell.execute_reply": "2022-01-13T19:46:18.365089Z"
    },
    "papermill": {
     "duration": 2865.680773,
     "end_time": "2022-01-13T19:46:18.365910",
     "exception": false,
     "start_time": "2022-01-13T18:58:32.685137",
     "status": "completed"
    },
    "tags": []
   },
   "outputs": [],
   "source": [
    "from sklearn.model_selection import cross_val_score\n",
    "all_scores_lr=cross_val_score(lr, X_train, y_train, cv=5, scoring='neg_mean_absolute_error')\n",
    "all_scores_rf=cross_val_score(rf, X_train, y_train, cv=5, scoring='neg_mean_absolute_error')\n",
    "all_scores_rf_t=cross_val_score(rf_t, X_train, y_train, cv=5, scoring='neg_mean_absolute_error')\n",
    "all_scores_gb=cross_val_score(gb, X_train, y_train, cv=5, scoring='neg_mean_absolute_error')\n",
    "all_scores_gb_t=cross_val_score(gb_t, X_train, y_train, cv=5, scoring='neg_mean_absolute_error')"
   ]
  },
  {
   "cell_type": "code",
   "execution_count": null,
   "id": "b96789b0",
   "metadata": {
    "execution": {
     "iopub.execute_input": "2022-01-13T19:46:18.982811Z",
     "iopub.status.busy": "2022-01-13T19:46:18.981955Z",
     "iopub.status.idle": "2022-01-13T19:46:18.992233Z",
     "shell.execute_reply": "2022-01-13T19:46:18.991563Z"
    },
    "papermill": {
     "duration": 0.366095,
     "end_time": "2022-01-13T19:46:18.992393",
     "exception": false,
     "start_time": "2022-01-13T19:46:18.626298",
     "status": "completed"
    },
    "tags": []
   },
   "outputs": [],
   "source": [
    "print('LR: MAE mean on cv: {}, MAE std on cv: {}'.format(all_scores_lr.mean(), all_scores_lr.std()))\n",
    "print('RF: MAE mean on cv: {}, MAE std on cv: {}'.format(all_scores_rf.mean(), all_scores_rf.std()))\n",
    "print('RF_tuned: MAE mean on cv: {}, MAE std on cv: {}'.format(all_scores_rf_t.mean(), all_scores_rf_t.std()))\n",
    "print('GB: MAE mean on cv: {}, MAE std on cv: {}'.format(all_scores_gb.mean(), all_scores_gb.std()))\n",
    "print('GB_tuned: MAE mean on cv: {}, MAE std on cv: {}'.format(all_scores_gb_t.mean(), all_scores_gb_t.std()))"
   ]
  },
  {
   "cell_type": "code",
   "execution_count": null,
   "id": "461608da",
   "metadata": {
    "execution": {
     "iopub.execute_input": "2022-01-13T19:46:19.509366Z",
     "iopub.status.busy": "2022-01-13T19:46:19.506602Z",
     "iopub.status.idle": "2022-01-13T19:46:19.513786Z",
     "shell.execute_reply": "2022-01-13T19:46:19.513184Z"
    },
    "papermill": {
     "duration": 0.261848,
     "end_time": "2022-01-13T19:46:19.513951",
     "exception": false,
     "start_time": "2022-01-13T19:46:19.252103",
     "status": "completed"
    },
    "tags": []
   },
   "outputs": [],
   "source": [
    "import lightgbm as lgm\n",
    "from sklearn.model_selection import RepeatedKFold\n",
    "from sklearn.model_selection import KFold\n",
    "from sklearn.model_selection import cross_val_score"
   ]
  },
  {
   "cell_type": "code",
   "execution_count": null,
   "id": "50cd1f1a",
   "metadata": {
    "execution": {
     "iopub.execute_input": "2022-01-13T19:46:20.043372Z",
     "iopub.status.busy": "2022-01-13T19:46:20.042673Z",
     "iopub.status.idle": "2022-01-13T19:46:32.156215Z",
     "shell.execute_reply": "2022-01-13T19:46:32.154483Z"
    },
    "papermill": {
     "duration": 12.375295,
     "end_time": "2022-01-13T19:46:32.156480",
     "exception": false,
     "start_time": "2022-01-13T19:46:19.781185",
     "status": "completed"
    },
    "tags": []
   },
   "outputs": [],
   "source": [
    "model = lgm.LGBMRegressor()\n",
    "\n",
    "cv = KFold(n_splits=5, random_state=1, shuffle=True)\n",
    "n_scores = cross_val_score(model, X_train, y_train, scoring='neg_mean_absolute_error', cv=cv, n_jobs=-1, error_score='raise')\n",
    "\n",
    "print('MAE mean: %.3f, MAE std: %.3f' % (n_scores.mean(), n_scores.std()))"
   ]
  },
  {
   "cell_type": "code",
   "execution_count": null,
   "id": "e0f76701",
   "metadata": {
    "execution": {
     "iopub.execute_input": "2022-01-13T19:46:32.727390Z",
     "iopub.status.busy": "2022-01-13T19:46:32.726390Z",
     "iopub.status.idle": "2022-01-13T19:48:27.590654Z",
     "shell.execute_reply": "2022-01-13T19:48:27.591198Z"
    },
    "papermill": {
     "duration": 115.131749,
     "end_time": "2022-01-13T19:48:27.591407",
     "exception": false,
     "start_time": "2022-01-13T19:46:32.459658",
     "status": "completed"
    },
    "tags": []
   },
   "outputs": [],
   "source": [
    "model = CatBoostRegressor()\n",
    "\n",
    "cv = KFold(n_splits=5, random_state=1, shuffle=True)\n",
    "n_scores = cross_val_score(model, X_train, y_train, scoring='neg_mean_absolute_error', cv=cv, n_jobs=-1, error_score='raise')\n",
    "\n",
    "print('MAE std: %.3f, MAE std: %.3f' % (n_scores.mean(), n_scores.std()))"
   ]
  },
  {
   "cell_type": "markdown",
   "id": "d96bc287",
   "metadata": {
    "papermill": {
     "duration": 0.263388,
     "end_time": "2022-01-13T19:48:28.119466",
     "exception": false,
     "start_time": "2022-01-13T19:48:27.856078",
     "status": "completed"
    },
    "tags": []
   },
   "source": [
    "What is done:\n",
    "- cleared the data and divided it into train, valid, test; did cross-validation.\n",
    "- carried out analysis using linear regression, random forest, gradient boosting, categorical boosting with hyperparameter tuning;\n",
    "- according to the output of the metrics, we saw the best: CatBoost, GradientBoosting (tuned) for prediction on test data."
   ]
  },
  {
   "cell_type": "markdown",
   "id": "7f72fb47",
   "metadata": {
    "papermill": {
     "duration": 0.269124,
     "end_time": "2022-01-13T19:48:28.653806",
     "exception": false,
     "start_time": "2022-01-13T19:48:28.384682",
     "status": "completed"
    },
    "tags": []
   },
   "source": [
    "#Let's check the prediction on the test"
   ]
  },
  {
   "cell_type": "code",
   "execution_count": null,
   "id": "1169e9f1",
   "metadata": {
    "execution": {
     "iopub.execute_input": "2022-01-13T19:48:29.195354Z",
     "iopub.status.busy": "2022-01-13T19:48:29.194647Z",
     "iopub.status.idle": "2022-01-13T19:48:29.196340Z",
     "shell.execute_reply": "2022-01-13T19:48:29.196779Z"
    },
    "papermill": {
     "duration": 0.278745,
     "end_time": "2022-01-13T19:48:29.196945",
     "exception": false,
     "start_time": "2022-01-13T19:48:28.918200",
     "status": "completed"
    },
    "tags": []
   },
   "outputs": [],
   "source": [
    "\n",
    "\n",
    "def show_metrics_test(y_true_test, y_pred_test, model):\n",
    "#calculate metrics\n",
    "    mae_test = mean_absolute_error(y_true_test, y_pred_test)\n",
    "    mse_test = mean_squared_error(y_true_test, y_pred_test)\n",
    "    rmse_test = rmse(y_true_test, y_pred_test)\n",
    "    mape_test = mape(y_true_test, y_pred_test)\n",
    "    r2_test = model.score(X_test, np.log(y_test))\n",
    "    r2_test_corr = 1 - (1-r2_test)*(len(y_test)-1)/(len(y_test)-X_test.shape[1]-1)\n",
    "    \n",
    "#output metrics\n",
    "    print(f\"Test MAE: {mae_test:0.2f}\")\n",
    "    print(f\"Test MSE: {mse_test:0.2f}\")\n",
    "    print(f\"Test RMSE: {rmse_test:0.2f}\")\n",
    "    print(f\"Test MAPE: {mape_test:0.2f}\")\n",
    "    print(f\"Test R2: {r2_test:0.3f}\")\n",
    "    print(f\"Test R2_corr: {r2_test_corr:0.3f}\")"
   ]
  },
  {
   "cell_type": "markdown",
   "id": "019f3478",
   "metadata": {
    "papermill": {
     "duration": 0.261366,
     "end_time": "2022-01-13T19:48:29.718085",
     "exception": false,
     "start_time": "2022-01-13T19:48:29.456719",
     "status": "completed"
    },
    "tags": []
   },
   "source": [
    "#Prediction based on tuned gradient boosting"
   ]
  },
  {
   "cell_type": "code",
   "execution_count": null,
   "id": "c70f72a3",
   "metadata": {
    "execution": {
     "iopub.execute_input": "2022-01-13T19:48:30.242073Z",
     "iopub.status.busy": "2022-01-13T19:48:30.241319Z",
     "iopub.status.idle": "2022-01-13T19:48:31.441814Z",
     "shell.execute_reply": "2022-01-13T19:48:31.442280Z"
    },
    "papermill": {
     "duration": 1.462679,
     "end_time": "2022-01-13T19:48:31.442468",
     "exception": false,
     "start_time": "2022-01-13T19:48:29.979789",
     "status": "completed"
    },
    "tags": []
   },
   "outputs": [],
   "source": [
    "\n",
    "predict_gb_test = gb_t.predict(X_test)\n",
    "predict_gb_test = np.exp(predict_gb_test)\n",
    "show_metrics_test(y_test, predict_gb_test, gb_t)"
   ]
  },
  {
   "cell_type": "markdown",
   "id": "14c32911",
   "metadata": {
    "papermill": {
     "duration": 0.283283,
     "end_time": "2022-01-13T19:48:32.007812",
     "exception": false,
     "start_time": "2022-01-13T19:48:31.724529",
     "status": "completed"
    },
    "tags": []
   },
   "source": [
    "#Prediction based on CatBoost"
   ]
  },
  {
   "cell_type": "code",
   "execution_count": null,
   "id": "a3fb35d7",
   "metadata": {
    "execution": {
     "iopub.execute_input": "2022-01-13T19:48:32.566333Z",
     "iopub.status.busy": "2022-01-13T19:48:32.565645Z",
     "iopub.status.idle": "2022-01-13T19:48:32.855912Z",
     "shell.execute_reply": "2022-01-13T19:48:32.856446Z"
    },
    "papermill": {
     "duration": 0.567247,
     "end_time": "2022-01-13T19:48:32.856631",
     "exception": false,
     "start_time": "2022-01-13T19:48:32.289384",
     "status": "completed"
    },
    "tags": []
   },
   "outputs": [],
   "source": [
    "predict_ctb_test = ctb.predict(X_test)\n",
    "predict_ctb_test = np.exp(predict_ctb_test)\n",
    "show_metrics_test(y_test, predict_ctb_test, ctb)"
   ]
  },
  {
   "cell_type": "markdown",
   "id": "114c32c3",
   "metadata": {
    "papermill": {
     "duration": 0.262428,
     "end_time": "2022-01-13T19:48:33.385539",
     "exception": false,
     "start_time": "2022-01-13T19:48:33.123111",
     "status": "completed"
    },
    "tags": []
   },
   "source": [
    "As you can see, GradientBoosting is better in MAE, and CatBoost is better in MAPE metrics. Based on the purpose of the task, it is better to look at the MAE indicator"
   ]
  },
  {
   "cell_type": "markdown",
   "id": "128b78f5",
   "metadata": {
    "papermill": {
     "duration": 0.260119,
     "end_time": "2022-01-13T19:48:33.905382",
     "exception": false,
     "start_time": "2022-01-13T19:48:33.645263",
     "status": "completed"
    },
    "tags": []
   },
   "source": [
    "#Neural network. Model training."
   ]
  },
  {
   "cell_type": "code",
   "execution_count": null,
   "id": "ad787470",
   "metadata": {
    "execution": {
     "iopub.execute_input": "2022-01-13T19:48:34.428614Z",
     "iopub.status.busy": "2022-01-13T19:48:34.427920Z",
     "iopub.status.idle": "2022-01-13T20:03:30.461707Z",
     "shell.execute_reply": "2022-01-13T20:03:30.462182Z"
    },
    "papermill": {
     "duration": 896.297935,
     "end_time": "2022-01-13T20:03:30.462374",
     "exception": false,
     "start_time": "2022-01-13T19:48:34.164439",
     "status": "completed"
    },
    "tags": []
   },
   "outputs": [],
   "source": [
    "#Function for building a model with input data layers\n",
    "\n",
    "def our_build_model():\n",
    "    model  = M.Sequential()\n",
    "    model.add(L.Dense(128, activation='relu', input_shape=(X_train.shape[1],)))\n",
    "    model.add(L.Dense(64, activation='relu'))\n",
    "    model.add(L.Dense(64, activation='relu'))\n",
    "    model.add(L.Dense(32, activation='relu'))\n",
    "    model.add(L.Dense(1, activation='linear'))\n",
    "    model.compile(optimizer='adam', loss='mse', metrics=['mae'])\n",
    "    return model\n",
    "\n",
    "nnr=our_build_model()\n",
    "\n",
    "#We train\n",
    "history = nnr.fit(X_train, y_train, validation_data=(X_test, y_test), epochs=20, batch_size=20)\n",
    " \n",
    "history_dict = history.history\n",
    "loss_values = history_dict['loss']\n",
    "val_loss_values = history_dict['val_loss']\n",
    "accuracy = history_dict['mae']\n",
    "val_accuracy = history_dict['val_mae']\n",
    " \n",
    "epochs = range(1, len(loss_values) + 1)\n",
    "fig, ax = plt.subplots(1, 2, figsize=(14, 6))\n",
    "ax[1].plot(epochs, loss_values, 'bo', label='Training loss')\n",
    "ax[1].plot(epochs, val_loss_values, 'b', label='Validation loss')\n",
    "ax[1].set_title('Training & Validation Loss', fontsize=16)\n",
    "ax[1].set_xlabel('Epochs', fontsize=16)\n",
    "ax[1].set_ylabel('Loss', fontsize=16)\n",
    "ax[1].legend()"
   ]
  },
  {
   "cell_type": "code",
   "execution_count": null,
   "id": "c29075b0",
   "metadata": {
    "execution": {
     "iopub.execute_input": "2022-01-13T20:03:38.576259Z",
     "iopub.status.busy": "2022-01-13T20:03:38.575585Z",
     "iopub.status.idle": "2022-01-13T20:03:38.749355Z",
     "shell.execute_reply": "2022-01-13T20:03:38.748865Z"
    },
    "papermill": {
     "duration": 4.321946,
     "end_time": "2022-01-13T20:03:38.749506",
     "exception": false,
     "start_time": "2022-01-13T20:03:34.427560",
     "status": "completed"
    },
    "tags": []
   },
   "outputs": [],
   "source": [
    "plt.title('Loss')\n",
    "plt.plot(history.history['mae'], label='train')\n",
    "plt.plot(history.history['val_mae'], label='test')\n",
    "plt.show();"
   ]
  },
  {
   "cell_type": "code",
   "execution_count": null,
   "id": "2322ce9a",
   "metadata": {
    "execution": {
     "iopub.execute_input": "2022-01-13T20:03:46.943517Z",
     "iopub.status.busy": "2022-01-13T20:03:46.939728Z",
     "iopub.status.idle": "2022-01-13T20:03:47.078081Z",
     "shell.execute_reply": "2022-01-13T20:03:47.078757Z"
    },
    "papermill": {
     "duration": 4.208083,
     "end_time": "2022-01-13T20:03:47.078954",
     "exception": false,
     "start_time": "2022-01-13T20:03:42.870871",
     "status": "completed"
    },
    "tags": []
   },
   "outputs": [],
   "source": [
    "plt.title('Loss')\n",
    "plt.plot(history.history['loss'], label='train')\n",
    "plt.plot(history.history['val_loss'], label='test')\n",
    "plt.show();"
   ]
  },
  {
   "cell_type": "code",
   "execution_count": null,
   "id": "e9f435c1",
   "metadata": {
    "execution": {
     "iopub.execute_input": "2022-01-13T20:03:55.173454Z",
     "iopub.status.busy": "2022-01-13T20:03:55.172541Z",
     "iopub.status.idle": "2022-01-13T20:03:55.174742Z",
     "shell.execute_reply": "2022-01-13T20:03:55.175333Z"
    },
    "papermill": {
     "duration": 3.982776,
     "end_time": "2022-01-13T20:03:55.175515",
     "exception": false,
     "start_time": "2022-01-13T20:03:51.192739",
     "status": "completed"
    },
    "tags": []
   },
   "outputs": [],
   "source": [
    "#Let's make lists for class instance parameters and metrics\n",
    "\n",
    "r2_test_lst = []; r2_train_lst = []\n",
    "mae_test_lst = []; mae_train_lst = []\n",
    "mse_test_lst = []; mse_train_lst = []\n",
    "\n",
    "#layers\n",
    "l1_lst = []; l2_lst = []; l3_lst = []; l4_lst = []\n",
    "\n",
    "#Model name\n",
    "model_name_lst = []\n",
    "\n",
    "#Initialisation\n",
    "init_1 = initializers.TruncatedNormal(mean=0.0, stddev=0.05, seed=12345)\n",
    "init_2 = initializers.Constant(value=1e-3)\n",
    "init_3 = initializers.RandomNormal(mean=0.0, stddev=0.05, seed=123456)"
   ]
  },
  {
   "cell_type": "code",
   "execution_count": null,
   "id": "f0f47929",
   "metadata": {
    "execution": {
     "iopub.execute_input": "2022-01-13T20:04:03.157621Z",
     "iopub.status.busy": "2022-01-13T20:04:03.156856Z",
     "iopub.status.idle": "2022-01-13T20:04:03.191152Z",
     "shell.execute_reply": "2022-01-13T20:04:03.191607Z"
    },
    "papermill": {
     "duration": 4.017473,
     "end_time": "2022-01-13T20:04:03.191796",
     "exception": false,
     "start_time": "2022-01-13T20:03:59.174323",
     "status": "completed"
    },
    "tags": []
   },
   "outputs": [],
   "source": [
    "class TryModel:\n",
    "    \n",
    "#Layer initialization, activation method, model name\n",
    "    def __init__(self, layer1, layer2, layer3, layer4, activation1, activation2, model_name, simple):\n",
    "        self.__layer1 = layer1\n",
    "        self.__layer2 = layer2\n",
    "        self.__layer3 = layer3\n",
    "        self.__layer4 = layer4\n",
    "        self.__activation1 = activation1\n",
    "        self.__activation2 = activation2\n",
    "        self.__model_name = model_name\n",
    "        self.__simple = simple\n",
    "        \n",
    "#Save the entered model parameters to the lists\n",
    "    def save_model_param(self):\n",
    "        l1_lst.append(self.__layer1)\n",
    "        l2_lst.append(self.__layer2)\n",
    "        l3_lst.append(self.__layer3)\n",
    "        l4_lst.append(self.__layer4)\n",
    "        model_name_lst.append(self.__model_name)\n",
    "        print('Параметры модели сохранены')\n",
    "        \n",
    "        \n",
    "#build and train the model\n",
    "    def our_build_model(self):\n",
    "        \n",
    "        if self.__simple == 0:\n",
    "#set the model\n",
    "            model = M.Sequential()\n",
    "            model.add(L.Dense(self.__layer1, activation=self.__activation1, input_shape=(X_train.shape[1],)))\n",
    "            model.add(L.Dense(self.__layer2, activation=self.__activation1))\n",
    "            model.add(L.Dense(self.__layer3, activation=self.__activation1))\n",
    "            model.add(L.Dense(self.__layer4, activation=self.__activation1))\n",
    "            model.add(L.Dense(1, activation=self.__activation2))\n",
    "            model.compile(optimizer='adam', loss='mse', metrics=['mae'])\n",
    "            model.summary()\n",
    "            self.model = model\n",
    "            print('Модель создана')\n",
    "        \n",
    "#Train the model and make predictions\n",
    "            model.fit(X_train, np.log(y_train+1), verbose=1)\n",
    "            \n",
    "            pred_test = model.predict(X_val)\n",
    "            pred_test = np.exp(pred_test)\n",
    "            pred_train = model.predict(X_train)\n",
    "            pred_train = np.exp(pred_train)\n",
    "            self.__pred_test = pred_test\n",
    "            self.__pred_train = pred_train\n",
    "            K.clear_session()\n",
    "            print('Модель обучена')\n",
    "            \n",
    "        elif self.__simple == 1:\n",
    "#set the model\n",
    "            model = M.Sequential()\n",
    "            model.add(L.Dense(self.__layer1, activation=self.__activation1, input_shape=(X_train.shape[1],)))\n",
    "            model.add(L.Dropout(0.2))\n",
    "            model.add(L.Dense(self.__layer2, activation=self.__activation1))\n",
    "            model.add(L.Dropout(0.2))\n",
    "            model.add(L.Dense(self.__layer3, activation=self.__activation1))\n",
    "            model.add(L.Dropout(0.2))\n",
    "            model.add(L.Dense(self.__layer4, activation=self.__activation1))\n",
    "            model.add(L.Dropout(0.2))\n",
    "            model.add(L.Dense(1, activation=self.__activation2))\n",
    "            model.compile(optimizer='adam', loss='mse', metrics=['mae'])\n",
    "            model.summary()\n",
    "            self.model = model\n",
    "            print('Модель создана')\n",
    "            \n",
    "#Train the model and make predictions\n",
    "            model.fit(X_train, np.log(y_train), verbose=1)\n",
    "            \n",
    "            pred_test = model.predict(X_val)\n",
    "            pred_test = np.exp(pred_test)\n",
    "            pred_train = model.predict(X_train)\n",
    "            pred_train = np.exp(pred_train)\n",
    "            self.__pred_test = pred_test\n",
    "            self.__pred_train = pred_train\n",
    "            K.clear_session()\n",
    "            print('Модель обучена')\n",
    "            \n",
    "        elif self.__simple == 2:\n",
    "#set the model\n",
    "            model = M.Sequential()\n",
    "            model.add(L.Dense(self.__layer1, activation=self.__activation1, input_shape=(X_train.shape[1],), kernel_initializer=init_1,\n",
    "                      bias_initializer=init_2))\n",
    "            model.add(L.Dropout(0.2))\n",
    "            model.add(L.Dense(self.__layer2, activation=self.__activation1, kernel_initializer=init_1,\n",
    "                      bias_initializer=init_2))\n",
    "            model.add(L.Dropout(0.2))\n",
    "            model.add(L.Dense(self.__layer3, activation=self.__activation1, kernel_initializer=init_1,\n",
    "                      bias_initializer=init_2))\n",
    "            model.add(L.Dropout(0.2))\n",
    "            model.add(L.Dense(self.__layer4, activation=self.__activation1, kernel_initializer=init_1,\n",
    "                      bias_initializer=init_2))\n",
    "            model.add(L.Dropout(0.2))\n",
    "            model.add(L.Dense(1, activation=self.__activation2))\n",
    "            model.compile(optimizer='adam', loss='mse', metrics=['mae'])\n",
    "            model.summary()\n",
    "            self.model = model\n",
    "            print('Модель создана')\n",
    "            \n",
    "#Train the model and make predictions\n",
    "            model.fit(X_train, np.log(y_train+1), verbose=1)\n",
    "            \n",
    "            pred_test = model.predict(X_val)\n",
    "            pred_test = np.exp(pred_test)\n",
    "            pred_train = model.predict(X_train)\n",
    "            pred_train = np.exp(pred_train)\n",
    "            self.__pred_test = pred_test\n",
    "            self.__pred_train = pred_train\n",
    "            K.clear_session()\n",
    "            print('Модель обучена')\n",
    "            \n",
    "        elif self.__simple == 3:   \n",
    "#Set the model\n",
    "            model = M.Sequential()\n",
    "            model.add(L.Dense(self.__layer1, activation=self.__activation1, input_shape=(X_train.shape[1],), kernel_initializer=init_1,\n",
    "                      bias_initializer=init_2))\n",
    "            model.add(L.Dense(self.__layer2, activation=self.__activation1, kernel_initializer=init_1,\n",
    "                      bias_initializer=init_2))\n",
    "            model.add(L.Dense(self.__layer3, activation=self.__activation1, kernel_initializer=init_1,\n",
    "                      bias_initializer=init_2))\n",
    "            model.add(L.Dense(self.__layer4, activation=self.__activation1, kernel_initializer=init_1,\n",
    "                      bias_initializer=init_2))\n",
    "            model.add(L.Dense(1, activation=self.__activation2))\n",
    "            model.compile(optimizer='adam', loss='mse', metrics=['mae'])\n",
    "\n",
    "            model.summary()\n",
    "            self.model = model\n",
    "            print('Модель создана')\n",
    "            \n",
    "#Train the model and make predictions\n",
    "            model.fit(X_train, np.log(y_train), verbose=1)\n",
    "            \n",
    "            pred_test = model.predict(X_val)\n",
    "            pred_test = np.exp(pred_test)\n",
    "            pred_train = model.predict(X_train)\n",
    "            pred_train = np.exp(pred_train)\n",
    "            self.__pred_test = pred_test\n",
    "            self.__pred_train = pred_train\n",
    "            K.clear_session()\n",
    "            print('Модель обучена')\n",
    "            \n",
    "        else:\n",
    "            print('Ошибка')\n",
    "        \n",
    "#metrics output \n",
    "    def show_metrics(self):\n",
    "        print('r2_score on test:', round(r2_score(y_val, self.__pred_test)*100,3))\n",
    "        print('r2_score on train:', round(r2_score(y_train, self.__pred_train)*100,3))  \n",
    "        print('mae on test:', round(mean_absolute_error(y_val, self.__pred_test)*100,3))\n",
    "        print('mae on train:', round(mean_absolute_error(y_train, self.__pred_train)*100,3))\n",
    "        print('mse on test:', round(mean_squared_error(y_val, self.__pred_test)*100,3))\n",
    "        print('mse on train:', round(mean_squared_error(y_train, self.__pred_train)*100,3))\n",
    "  \n",
    "    def saved_metrics(self ):\n",
    "        r2_test_lst.append(round(r2_score(y_val, self.__pred_test)*100,3))\n",
    "        r2_train_lst.append(round(r2_score(y_train, self.__pred_train)*100,3))\n",
    "        mae_test_lst.append(round(mean_absolute_error(y_val, self.__pred_test)*100,3))\n",
    "        mae_train_lst.append(round(mean_absolute_error(y_train, self.__pred_train)*100,3))\n",
    "        mse_test_lst.append(round(mean_squared_error(y_val, self.__pred_test)*100,3))\n",
    "        mse_train_lst.append(round(mean_squared_error(y_train, self.__pred_train)*100,3))\n",
    "        print('Метрики {r2, mae, mse} добавлены на тесте и трейне')\n",
    "    \n",
    "#train visualisation\n",
    "    def plot_history(self):\n",
    "        history = self.model.fit(X_train, y_train, validation_data=(X_test, y_test), epochs=5, batch_size=20)\n",
    "        plt.title('Loss')\n",
    "        plt.plot(history.history['mae'], label='train')\n",
    "        plt.plot(history.history['val_mae'], label='test')\n",
    "        plt.show();\n",
    "        plt.title('Loss')\n",
    "        plt.plot(history.history['loss'], label='train')\n",
    "        plt.plot(history.history['val_loss'], label='test')\n",
    "        plt.show();"
   ]
  },
  {
   "cell_type": "code",
   "execution_count": null,
   "id": "8b98c929",
   "metadata": {
    "execution": {
     "iopub.execute_input": "2022-01-13T20:04:11.172243Z",
     "iopub.status.busy": "2022-01-13T20:04:11.171640Z",
     "iopub.status.idle": "2022-01-13T20:05:02.132395Z",
     "shell.execute_reply": "2022-01-13T20:05:02.131767Z"
    },
    "papermill": {
     "duration": 54.923614,
     "end_time": "2022-01-13T20:05:02.132629",
     "exception": false,
     "start_time": "2022-01-13T20:04:07.209015",
     "status": "completed"
    },
    "tags": []
   },
   "outputs": [],
   "source": [
    "#Let's create an instance of the class\n",
    "model1 = TryModel(512,256,256,64,'relu','linear', 'model_1',1)\n",
    "\n",
    "#Let's use class methods\n",
    "model1.our_build_model()\n",
    "model1.show_metrics()\n",
    "model1.saved_metrics()\n",
    "model1.save_model_param()\n"
   ]
  },
  {
   "cell_type": "code",
   "execution_count": null,
   "id": "90209d09",
   "metadata": {
    "execution": {
     "iopub.execute_input": "2022-01-13T20:05:10.543871Z",
     "iopub.status.busy": "2022-01-13T20:05:10.543235Z",
     "iopub.status.idle": "2022-01-13T20:05:52.463347Z",
     "shell.execute_reply": "2022-01-13T20:05:52.462535Z"
    },
    "papermill": {
     "duration": 46.051061,
     "end_time": "2022-01-13T20:05:52.463496",
     "exception": false,
     "start_time": "2022-01-13T20:05:06.412435",
     "status": "completed"
    },
    "tags": []
   },
   "outputs": [],
   "source": [
    "model2 = TryModel(128,256,64,32,'relu','linear', 'model_2',2)  \n",
    "model2.our_build_model()\n",
    "model2.show_metrics()\n",
    "model2.saved_metrics()\n",
    "model2.save_model_param()"
   ]
  },
  {
   "cell_type": "code",
   "execution_count": null,
   "id": "5c8a3388",
   "metadata": {
    "execution": {
     "iopub.execute_input": "2022-01-13T20:06:01.182387Z",
     "iopub.status.busy": "2022-01-13T20:06:01.181729Z",
     "iopub.status.idle": "2022-01-13T20:06:36.203781Z",
     "shell.execute_reply": "2022-01-13T20:06:36.203192Z"
    },
    "papermill": {
     "duration": 39.391169,
     "end_time": "2022-01-13T20:06:36.203957",
     "exception": false,
     "start_time": "2022-01-13T20:05:56.812788",
     "status": "completed"
    },
    "tags": []
   },
   "outputs": [],
   "source": [
    "model3 = TryModel(128,256,64,32,'relu','linear', 'model_3', 3)  \n",
    "model3.our_build_model()\n",
    "model3.show_metrics()\n",
    "model3.saved_metrics()\n",
    "model3.save_model_param()"
   ]
  },
  {
   "cell_type": "code",
   "execution_count": null,
   "id": "32b006db",
   "metadata": {
    "execution": {
     "iopub.execute_input": "2022-01-13T20:06:45.121254Z",
     "iopub.status.busy": "2022-01-13T20:06:45.120443Z",
     "iopub.status.idle": "2022-01-13T20:06:45.515811Z",
     "shell.execute_reply": "2022-01-13T20:06:45.514532Z"
    },
    "papermill": {
     "duration": 4.928472,
     "end_time": "2022-01-13T20:06:45.516277",
     "exception": true,
     "start_time": "2022-01-13T20:06:40.587805",
     "status": "failed"
    },
    "tags": []
   },
   "outputs": [],
   "source": [
    "model3 = TryModel(128,256,64,32,'relu','linear', 'model_3', 4)  \n",
    "model3.our_build_model()\n",
    "model3.show_metrics()\n",
    "model3.saved_metrics()\n",
    "model3.save_model_param()"
   ]
  },
  {
   "cell_type": "code",
   "execution_count": null,
   "id": "3bbcdbaf",
   "metadata": {
    "papermill": {
     "duration": null,
     "end_time": null,
     "exception": null,
     "start_time": null,
     "status": "pending"
    },
    "tags": []
   },
   "outputs": [],
   "source": [
    "class_df = pd.DataFrame(index=model_names_lst)\n",
    "\n",
    "class_df['l1'] = l1_lst; class_df['l2'] = l2_lst; class_df['l3'] = l3_lst; class_df['l4'] = l4_lst\n",
    "class_df['r2_test'] = r2_test_lst; class_df['r2_train'] = r2_train_lst\n",
    "class_df['test_MAE'] = mae_test_lst; class_df['train_MAE'] = mae_train_lst\n",
    "class_df['test_MSE'] = mse_test_lst; class_df['train_MSE'] = mse_train_lst\n",
    "\n",
    "class_df"
   ]
  },
  {
   "cell_type": "markdown",
   "id": "63398879",
   "metadata": {
    "papermill": {
     "duration": null,
     "end_time": null,
     "exception": null,
     "start_time": null,
     "status": "pending"
    },
    "tags": []
   },
   "source": [
    "#Conclusions on the use of the neural network\n",
    "\n",
    "\n",
    "- Making EDA, feature engineering.\n",
    "- We built various classical ML models to solve the regression problem: we did a search of the models and obtained metrics for each built model.\n",
    "- We built a neural network to solve the problem, found the best architecture and compared the models with each other.\n",
    "\n",
    " We can try other ways like TabNet or KFold."
   ]
  }
 ],
 "metadata": {
  "kernelspec": {
   "display_name": "Python 3",
   "language": "python",
   "name": "python3"
  },
  "language_info": {
   "codemirror_mode": {
    "name": "ipython",
    "version": 3
   },
   "file_extension": ".py",
   "mimetype": "text/x-python",
   "name": "python",
   "nbconvert_exporter": "python",
   "pygments_lexer": "ipython3",
   "version": "3.8.8"
  },
  "papermill": {
   "default_parameters": {},
   "duration": 5571.987683,
   "end_time": "2022-01-13T20:06:52.692867",
   "environment_variables": {},
   "exception": true,
   "input_path": "__notebook__.ipynb",
   "output_path": "__notebook__.ipynb",
   "parameters": {},
   "start_time": "2022-01-13T18:34:00.705184",
   "version": "2.3.3"
  }
 },
 "nbformat": 4,
 "nbformat_minor": 5
}
