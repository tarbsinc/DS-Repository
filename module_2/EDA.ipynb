{
 "cells": [
  {
   "cell_type": "code",
   "execution_count": null,
   "metadata": {},
   "outputs": [],
   "source": [
    "import pandas as pd\n",
    "import matplotlib.pyplot as plt\n",
    "import seaborn as sns\n",
    "import numpy as np\n",
    "from itertools import combinations\n",
    "from scipy.stats import ttest_ind\n",
    "\n",
    "pd.set_option('display.max_rows', 50)  # показывать больше строк\n",
    "pd.set_option('display.max_columns', 50)  # показывать больше колонок\n",
    "\n",
    "students = pd.read_csv('stud_math.csv')\n",
    "\n",
    "# data preparation\n",
    "# because this data is useless for the task\n",
    "students.drop(['school'], inplace=True, axis=1)\n",
    "students = students.dropna(subset=['score'])\n",
    "# rename studytime, granular\n",
    "students.rename(columns=lambda x: x.replace(\n",
    "    'studytime, granular', 'studytime_granular'), inplace=True)\n",
    "\n",
    "# select numeric columns\n",
    "df_numeric = students.select_dtypes(include=[np.number])\n",
    "numeric_cols = df_numeric.columns.values\n",
    "print(numeric_cols)\n",
    "# select non-numeric columns\n",
    "df_non_numeric = students.select_dtypes(exclude=[np.number])\n",
    "non_numeric_cols = df_non_numeric.columns.values\n",
    "print(non_numeric_cols)\n",
    "\n",
    "# function for analysis of nominative variables (boxplot)\n",
    "\n",
    "\n",
    "def get_boxplot(column):\n",
    "    fig, ax = plt.subplots(figsize=(14, 4))\n",
    "    sns.boxplot(x=column, y='score',\n",
    "                data=students.loc[students.loc[:, column].isin(\n",
    "                    students.loc[:, column])],\n",
    "                ax=ax)\n",
    "    plt.xticks(rotation=45)\n",
    "    ax.set_title('Boxplot for ' + column)\n",
    "    plt.show()\n",
    "\n",
    "# function for analysis of nominative variables (тест Стьюдента)\n",
    "def get_stat_dif(column):\n",
    "    cols = students.loc[:, column]\n",
    "    combinations_all = list(combinations(cols, 2))\n",
    "    for comb in combinations_all:\n",
    "        if ttest_ind(students.loc[students.loc[:, column] == comb[0], 'score'],\n",
    "                     students.loc[students.loc[:, column] == comb[1], 'score']).pvalue \\\n",
    "            <= 0.05/len(combinations_all):  # Учли поправку Бонферони\n",
    "            print('Найдены статистически значимые различия для колонки', column)\n",
    "            break"
   ]
  },
  {
   "cell_type": "code",
   "execution_count": null,
   "metadata": {},
   "outputs": [],
   "source": [
    "display(students.head(10))\n",
    "students.info()"
   ]
  },
  {
   "cell_type": "code",
   "execution_count": null,
   "metadata": {},
   "outputs": [],
   "source": [
    "# calculate the amount of data with incorrect values\n",
    "for col in students.columns:\n",
    "    pct_missing = students[col].isna().mean()\n",
    "    print(f'{col} - {pct_missing :.1%}')\n",
    "# there is no data to drop because all values <12%"
   ]
  },
  {
   "cell_type": "code",
   "execution_count": null,
   "metadata": {},
   "outputs": [],
   "source": [
    "# impute the missing values and create the missing value indicator variables for each numeric column.\n",
    "df_numeric = students.select_dtypes(include=[np.number])\n",
    "numeric_cols = df_numeric.columns.values\n",
    "for col in numeric_cols:\n",
    "    missing = students[col].isnull()\n",
    "    num_missing = np.sum(missing)\n",
    "\n",
    "    if num_missing > 0:  # only do the imputation for the columns that have missing values.\n",
    "        print('imputing missing values for: {}'.format(col))\n",
    "        students['{}_ismissing'.format(col)] = missing\n",
    "        med = students[col].median()\n",
    "        students[col] = students[col].fillna(med)"
   ]
  },
  {
   "cell_type": "code",
   "execution_count": null,
   "metadata": {},
   "outputs": [],
   "source": [
    "# impute the missing values and create the missing value indicator variables for each non-numeric column.\n",
    "df_non_numeric = students.select_dtypes(exclude=[np.number])\n",
    "non_numeric_cols = df_non_numeric.columns.values\n",
    "for col in non_numeric_cols:\n",
    "    missing = students[col].isnull()\n",
    "    num_missing = np.sum(missing)\n",
    "\n",
    "    if num_missing > 0:  # only do the imputation for the columns that have missing values.\n",
    "        print('imputing missing values for: {}'.format(col))\n",
    "        students['{}_ismissing'.format(col)] = missing\n",
    "\n",
    "        top = students[col].describe()['top']  # impute with the most frequent value.\n",
    "        students[col] = students[col].fillna(top)"
   ]
  },
  {
   "cell_type": "code",
   "execution_count": null,
   "metadata": {},
   "outputs": [],
   "source": [
    "# drop all missing value indicator columns\n",
    "students.drop(['Medu_ismissing', 'Fedu_ismissing', 'traveltime_ismissing', 'studytime_ismissing', 'failures_ismissing', 'studytime_granular_ismissing', 'famrel_ismissing', 'freetime_ismissing', 'goout_ismissing', 'health_ismissing', 'absences_ismissing', 'address_ismissing', 'famsize_ismissing',\n",
    "               'Pstatus_ismissing', 'Mjob_ismissing', 'Fjob_ismissing', 'reason_ismissing', 'guardian_ismissing', 'schoolsup_ismissing', 'famsup_ismissing', 'paid_ismissing', 'activities_ismissing', 'nursery_ismissing', 'higher_ismissing', 'internet_ismissing', 'romantic_ismissing'], inplace=True, axis=1)\n",
    "# check for missing values\n",
    "for col in students.columns:\n",
    "    pct_missing = students[col].isna().mean()\n",
    "    print(f'{col} - {pct_missing :.1%}')"
   ]
  },
  {
   "cell_type": "code",
   "execution_count": null,
   "metadata": {},
   "outputs": [],
   "source": [
    "# looking for outliers Age\n",
    "students.age.hist()\n",
    "students.age.describe()\n",
    "# I think 22 is a normal age for a student,who studies poorly"
   ]
  },
  {
   "cell_type": "code",
   "execution_count": null,
   "metadata": {},
   "outputs": [],
   "source": [
    "# looking for outliers Medu\n",
    "students.Medu.hist()\n",
    "students.Medu.describe()\n",
    "# There is no outliers"
   ]
  },
  {
   "cell_type": "code",
   "execution_count": null,
   "metadata": {},
   "outputs": [],
   "source": [
    "# looking for outliers Fedu\n",
    "students.Fedu.hist()\n",
    "students.Fedu.describe()\n",
    "# There is outliers, I think it's just a typo"
   ]
  },
  {
   "cell_type": "code",
   "execution_count": null,
   "metadata": {},
   "outputs": [],
   "source": [
    "# fix a typo in Fedu\n",
    "students.loc[students['Fedu'] == 40, 'Fedu'] = 4\n",
    "students.Fedu.hist()\n",
    "# done"
   ]
  },
  {
   "cell_type": "code",
   "execution_count": null,
   "metadata": {},
   "outputs": [],
   "source": [
    "# looking for outliers traveltime\n",
    "students.traveltime.hist()\n",
    "students.traveltime.describe()\n",
    "# There is no outliers"
   ]
  },
  {
   "cell_type": "code",
   "execution_count": null,
   "metadata": {},
   "outputs": [],
   "source": [
    "# looking for outliers studytime\n",
    "students.studytime.hist()\n",
    "students.studytime.describe()\n",
    "# There is no outliers"
   ]
  },
  {
   "cell_type": "code",
   "execution_count": null,
   "metadata": {},
   "outputs": [],
   "source": [
    "# looking for outliers failures\n",
    "students.failures.hist()\n",
    "students.failures.describe()\n",
    "# There is no outliers"
   ]
  },
  {
   "cell_type": "code",
   "execution_count": null,
   "metadata": {},
   "outputs": [],
   "source": [
    "# looking for outliers studytime_granular\n",
    "students.studytime_granular.hist()\n",
    "students.studytime_granular.describe()\n",
    "# a more detailed analysis is needed,I will deal with it later"
   ]
  },
  {
   "cell_type": "code",
   "execution_count": null,
   "metadata": {},
   "outputs": [],
   "source": [
    "# looking for outliers famrel\n",
    "students.famrel.hist()\n",
    "students.famrel.describe()\n",
    "# There is one outliers, I think it's just a typo"
   ]
  },
  {
   "cell_type": "code",
   "execution_count": null,
   "metadata": {},
   "outputs": [],
   "source": [
    "# fix a typo in famrel\n",
    "students.loc[students['famrel'] == -1, 'famrel'] = 1\n",
    "students.famrel.hist()\n",
    "# done"
   ]
  },
  {
   "cell_type": "code",
   "execution_count": null,
   "metadata": {},
   "outputs": [],
   "source": [
    "# looking for outliers freetime\n",
    "students.freetime.hist()\n",
    "students.freetime.describe()\n",
    "# There is no outliers"
   ]
  },
  {
   "cell_type": "code",
   "execution_count": null,
   "metadata": {},
   "outputs": [],
   "source": [
    "# looking for outliers goout\n",
    "students.goout.hist()\n",
    "students.goout.describe()\n",
    "# There is no outliers"
   ]
  },
  {
   "cell_type": "code",
   "execution_count": null,
   "metadata": {},
   "outputs": [],
   "source": [
    "# looking for outliers health\n",
    "students.health.hist()\n",
    "students.health.describe()\n",
    "# There is no outliers"
   ]
  },
  {
   "cell_type": "code",
   "execution_count": null,
   "metadata": {},
   "outputs": [],
   "source": [
    "# looking for outliers absences\n",
    "students.absences.hist()\n",
    "students.absences.describe()\n",
    "# insufficient data to determine outliers"
   ]
  },
  {
   "cell_type": "code",
   "execution_count": null,
   "metadata": {},
   "outputs": [],
   "source": [
    "# looking for outliers score\n",
    "students.score.hist()\n",
    "students.score.describe()\n",
    "# There is no outliers"
   ]
  },
  {
   "cell_type": "code",
   "execution_count": null,
   "metadata": {},
   "outputs": [],
   "source": [
    "# count the unique values in the non-numeric column sex\n",
    "pd.DataFrame(students.sex.value_counts())\n",
    "# all data correct"
   ]
  },
  {
   "cell_type": "code",
   "execution_count": null,
   "metadata": {},
   "outputs": [],
   "source": [
    "# count the unique values in the non-numeric column address\n",
    "pd.DataFrame(students.address.value_counts())\n",
    "# all data correct"
   ]
  },
  {
   "cell_type": "code",
   "execution_count": null,
   "metadata": {},
   "outputs": [],
   "source": [
    "# count the unique values in the non-numeric column famsize\n",
    "pd.DataFrame(students.famsize.value_counts())\n",
    "# all data correct"
   ]
  },
  {
   "cell_type": "code",
   "execution_count": null,
   "metadata": {},
   "outputs": [],
   "source": [
    "# count the unique values in the non-numeric column Pstatus\n",
    "pd.DataFrame(students.Pstatus.value_counts())\n",
    "# all data correct"
   ]
  },
  {
   "cell_type": "code",
   "execution_count": null,
   "metadata": {},
   "outputs": [],
   "source": [
    "# count the unique values in the non-numeric column Mjob\n",
    "pd.DataFrame(students.Mjob.value_counts())\n",
    "# all data correct"
   ]
  },
  {
   "cell_type": "code",
   "execution_count": null,
   "metadata": {},
   "outputs": [],
   "source": [
    "# count the unique values in the non-numeric column Fjob\n",
    "pd.DataFrame(students.Fjob.value_counts())\n",
    "# all data correct"
   ]
  },
  {
   "cell_type": "code",
   "execution_count": null,
   "metadata": {},
   "outputs": [],
   "source": [
    "# count the unique values in the non-numeric column reason\n",
    "pd.DataFrame(students.reason.value_counts())\n",
    "# all data correct"
   ]
  },
  {
   "cell_type": "code",
   "execution_count": null,
   "metadata": {},
   "outputs": [],
   "source": [
    "# count the unique values in the non-numeric column guardian\n",
    "pd.DataFrame(students.guardian.value_counts())\n",
    "# all data correct"
   ]
  },
  {
   "cell_type": "code",
   "execution_count": null,
   "metadata": {},
   "outputs": [],
   "source": [
    "# count the unique values in the non-numeric column schoolsup\n",
    "pd.DataFrame(students.schoolsup.value_counts())\n",
    "# all data correct"
   ]
  },
  {
   "cell_type": "code",
   "execution_count": null,
   "metadata": {},
   "outputs": [],
   "source": [
    "# count the unique values in the non-numeric column famsup\n",
    "pd.DataFrame(students.famsup.value_counts())\n",
    "# all data correct"
   ]
  },
  {
   "cell_type": "code",
   "execution_count": null,
   "metadata": {},
   "outputs": [],
   "source": [
    "# count the unique values in the non-numeric column paid\n",
    "pd.DataFrame(students.paid.value_counts())\n",
    "# all data correct"
   ]
  },
  {
   "cell_type": "code",
   "execution_count": null,
   "metadata": {},
   "outputs": [],
   "source": [
    "# count the unique values in the non-numeric column activities\n",
    "pd.DataFrame(students.activities.value_counts())\n",
    "# all data correct"
   ]
  },
  {
   "cell_type": "code",
   "execution_count": null,
   "metadata": {},
   "outputs": [],
   "source": [
    "# count the unique values in the non-numeric column nursery\n",
    "pd.DataFrame(students.nursery.value_counts())\n",
    "# all data correct"
   ]
  },
  {
   "cell_type": "code",
   "execution_count": null,
   "metadata": {},
   "outputs": [],
   "source": [
    "# count the unique values in the non-numeric column higher\n",
    "pd.DataFrame(students.higher.value_counts())\n",
    "# all data correct"
   ]
  },
  {
   "cell_type": "code",
   "execution_count": null,
   "metadata": {},
   "outputs": [],
   "source": [
    "# count the unique values in the non-numeric column internet\n",
    "pd.DataFrame(students.internet.value_counts())\n",
    "# all data correct"
   ]
  },
  {
   "cell_type": "code",
   "execution_count": null,
   "metadata": {},
   "outputs": [],
   "source": [
    "# count the unique values in the non-numeric column romantic\n",
    "pd.DataFrame(students.romantic.value_counts())\n",
    "# all data correct"
   ]
  },
  {
   "cell_type": "code",
   "execution_count": null,
   "metadata": {
    "scrolled": true
   },
   "outputs": [],
   "source": [
    "# make perform correlation analysis depending on the variable \"score\"\n",
    "sns.pairplot(students, kind='reg')"
   ]
  },
  {
   "cell_type": "code",
   "execution_count": null,
   "metadata": {},
   "outputs": [],
   "source": [
    "students.corr()\n",
    "# как мы видим, большее влияние на оценки по математике оказывают параметры образования родителей (Medu,Fedu) и\n",
    "# время на учебу помимо школы (studytime), остальные параметры практически не коррелируют с оценками по математике\n",
    "# и их можно не учитывать\n",
    "# колонка studytime_granular так и осталась загадкой, пока нет никаких предположений"
   ]
  },
  {
   "cell_type": "code",
   "execution_count": null,
   "metadata": {},
   "outputs": [],
   "source": [
    "# analysis of nominative variables (boxplot)\n",
    "for col in ['sex', 'address', 'famsize', 'Pstatus', 'Mjob', 'Fjob', 'reason', 'guardian',\n",
    "            'schoolsup', 'famsup', 'paid', 'activities', 'nursery', 'higher', 'internet',\n",
    "            'romantic']:\n",
    "    get_boxplot(col)\n",
    "# анализ выявил,что существенное влияние на параметр \"score\" оказывают следующие колонки:\n",
    "# address (городские жители учатся чуть лучше чем загородные), Mjob(матери, работающие в медицине оказывают положительный эффект на обучение)\n",
    "# Fjob (отцы-преподаватели не отдыхают даже дома),schoolsup (дополнительные занятия полезны),higher(ученики, желающие получить\n",
    "# высшее образование учаться лучше),internet (наличие интернета оказывает положительное влияние на успеваемость)\n",
    "# остальные данные не оказывают существенного влияния на оценки по математике, ими можно пренебречь"
   ]
  },
  {
   "cell_type": "code",
   "execution_count": null,
   "metadata": {},
   "outputs": [],
   "source": [
    "# analysis of nominative variables (тест Стьюдента)\n",
    "for col in ['sex', 'address', 'famsize', 'Pstatus', 'Mjob', 'Fjob', 'reason', 'guardian',\n",
    "            'schoolsup', 'famsup', 'paid', 'activities', 'nursery', 'higher', 'internet',\n",
    "            'romantic']:\n",
    "    get_stat_dif(col)\n",
    "# no statistically significant difference found (I think there is an error in data preparation)"
   ]
  },
  {
   "cell_type": "code",
   "execution_count": null,
   "metadata": {},
   "outputs": [],
   "source": [
    "# select parameters for the model\n",
    "students_for_model = students.loc[:, ['Medu', 'Fedu', 'studytime',\n",
    "                                      'address', 'Mjob', 'Fjob', 'schoolsup', 'higher', 'internet']]\n",
    "students_for_model.head()"
   ]
  },
  {
   "cell_type": "code",
   "execution_count": null,
   "metadata": {},
   "outputs": [],
   "source": [
    "# на основании промежуточных выводов для построения модели были выбраны следующие данные:\n",
    "# Medu, Fedu, studytime, address, Mjob, Fjob, schoolsup, higher, internet\n",
    "# содержание колонки studytime_granular так и осталось нераскрытым\n",
    "# тест Стьюдента не выявил статистически значимых различий в номинативных данных, скорее всего это говорит об ошибке,\n",
    "# допущенной при подготовке и очистке данных"
   ]
  }
 ],
 "metadata": {
  "kernelspec": {
   "display_name": "Python 3",
   "language": "python",
   "name": "python3"
  },
  "language_info": {
   "codemirror_mode": {
    "name": "ipython",
    "version": 3
   },
   "file_extension": ".py",
   "mimetype": "text/x-python",
   "name": "python",
   "nbconvert_exporter": "python",
   "pygments_lexer": "ipython3",
   "version": "3.8.3"
  }
 },
 "nbformat": 4,
 "nbformat_minor": 4
}
